{
 "cells": [
  {
   "cell_type": "code",
   "execution_count": null,
   "metadata": {},
   "outputs": [],
   "source": [
    "def get_player_pitchvalues(player_name, player_id, start_date, end_date):\n",
    "    url = f'https://www.fangraphs.com/players/{player_name}/{player_id}/game-log?position=OF&season=&gds={start_date}&gde={end_date}&type=7'\n",
    "    return url\n",
    "\n",
    "def get_player_plate_discipline(player_name, player_id, start_date, end_date):\n",
    "    url = f'https://www.fangraphs.com/players/{player_name}/{player_id}/game-log?position=OF&season=&gds={start_date}&gde={end_date}&type=8'\n",
    "    return url\n",
    "\n",
    "def get_player_advanced(player_name, player_id, start_date, end_date):\n",
    "    url = f'https://www.fangraphs.com/players/{player_name}/{player_id}/game-log?position=OF&season=&gds={start_date}&gde={end_date}&type=2'\n",
    "    return url\n"
   ]
  },
  {
   "cell_type": "code",
   "execution_count": null,
   "metadata": {},
   "outputs": [],
   "source": [
    "player = get_player_info(['lastt001'])\n",
    "start_date, end_date = get_start_date('20150420')\n",
    "# convert start_date and end_date to strings of the form 'YYYYMMDD'\n",
    "start_date = start_date.strftime('%Y%m%d')\n",
    "end_date = end_date.strftime('%Y%m%d')\n",
    "print(f'Player Name: {player.fg_name}', f'Player ID: {player.fg_id}', f'Start Date: {start_date}', f'End Date: {end_date}', sep='\\n')\n",
    "print(f'Plate Discipline URL: {get_player_plate_discipline(player.fg_name, player.fg_id, start_date, end_date)}')\n",
    "print(f'Advanced Stats: URL: {get_player_advanced(player.fg_name, player.fg_id, start_date, end_date)}')"
   ]
  }
 ],
 "metadata": {
  "language_info": {
   "name": "python"
  },
  "orig_nbformat": 4
 },
 "nbformat": 4,
 "nbformat_minor": 2
}
