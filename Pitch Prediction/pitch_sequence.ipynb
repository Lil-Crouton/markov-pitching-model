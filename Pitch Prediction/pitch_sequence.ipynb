{
 "cells": [
  {
   "cell_type": "code",
   "execution_count": 482,
   "metadata": {},
   "outputs": [
    {
     "name": "stdout",
     "output_type": "stream",
     "text": [
      "['Slider' '4-Seam Fastball' 'Changeup' 'Curveball' 'Pitch Out' 'Sinker'\n",
      " nan 'Intentional Ball']\n"
     ]
    },
    {
     "name": "stderr",
     "output_type": "stream",
     "text": [
      "C:\\Users\\16086\\AppData\\Local\\Temp\\ipykernel_11828\\1392039707.py:5: DtypeWarning:\n",
      "\n",
      "Columns (43) have mixed types. Specify dtype option on import or set low_memory=False.\n",
      "\n"
     ]
    },
    {
     "data": {
      "text/html": [
       "<div>\n",
       "<style scoped>\n",
       "    .dataframe tbody tr th:only-of-type {\n",
       "        vertical-align: middle;\n",
       "    }\n",
       "\n",
       "    .dataframe tbody tr th {\n",
       "        vertical-align: top;\n",
       "    }\n",
       "\n",
       "    .dataframe thead th {\n",
       "        text-align: right;\n",
       "    }\n",
       "</style>\n",
       "<table border=\"1\" class=\"dataframe\">\n",
       "  <thead>\n",
       "    <tr style=\"text-align: right;\">\n",
       "      <th></th>\n",
       "      <th>pitch_type</th>\n",
       "      <th>game_date</th>\n",
       "      <th>zone</th>\n",
       "      <th>stand</th>\n",
       "      <th>type</th>\n",
       "      <th>balls</th>\n",
       "      <th>strikes</th>\n",
       "      <th>on_3b</th>\n",
       "      <th>on_2b</th>\n",
       "      <th>on_1b</th>\n",
       "      <th>outs_when_up</th>\n",
       "      <th>inning</th>\n",
       "      <th>game_pk</th>\n",
       "      <th>at_bat_number</th>\n",
       "      <th>pitch_number</th>\n",
       "      <th>bat_score</th>\n",
       "      <th>fld_score</th>\n",
       "    </tr>\n",
       "  </thead>\n",
       "  <tbody>\n",
       "    <tr>\n",
       "      <th>0</th>\n",
       "      <td>SL</td>\n",
       "      <td>2023-04-28</td>\n",
       "      <td>11.0</td>\n",
       "      <td>L</td>\n",
       "      <td>X</td>\n",
       "      <td>1</td>\n",
       "      <td>2</td>\n",
       "      <td>NaN</td>\n",
       "      <td>NaN</td>\n",
       "      <td>519203.0</td>\n",
       "      <td>2</td>\n",
       "      <td>4</td>\n",
       "      <td>718388</td>\n",
       "      <td>31</td>\n",
       "      <td>5</td>\n",
       "      <td>0</td>\n",
       "      <td>5</td>\n",
       "    </tr>\n",
       "    <tr>\n",
       "      <th>1</th>\n",
       "      <td>FF</td>\n",
       "      <td>2023-04-28</td>\n",
       "      <td>11.0</td>\n",
       "      <td>L</td>\n",
       "      <td>B</td>\n",
       "      <td>0</td>\n",
       "      <td>2</td>\n",
       "      <td>NaN</td>\n",
       "      <td>NaN</td>\n",
       "      <td>519203.0</td>\n",
       "      <td>2</td>\n",
       "      <td>4</td>\n",
       "      <td>718388</td>\n",
       "      <td>31</td>\n",
       "      <td>4</td>\n",
       "      <td>0</td>\n",
       "      <td>5</td>\n",
       "    </tr>\n",
       "    <tr>\n",
       "      <th>2</th>\n",
       "      <td>SL</td>\n",
       "      <td>2023-04-28</td>\n",
       "      <td>6.0</td>\n",
       "      <td>L</td>\n",
       "      <td>S</td>\n",
       "      <td>0</td>\n",
       "      <td>2</td>\n",
       "      <td>NaN</td>\n",
       "      <td>NaN</td>\n",
       "      <td>519203.0</td>\n",
       "      <td>2</td>\n",
       "      <td>4</td>\n",
       "      <td>718388</td>\n",
       "      <td>31</td>\n",
       "      <td>3</td>\n",
       "      <td>0</td>\n",
       "      <td>5</td>\n",
       "    </tr>\n",
       "    <tr>\n",
       "      <th>3</th>\n",
       "      <td>CH</td>\n",
       "      <td>2023-04-28</td>\n",
       "      <td>5.0</td>\n",
       "      <td>L</td>\n",
       "      <td>S</td>\n",
       "      <td>0</td>\n",
       "      <td>1</td>\n",
       "      <td>NaN</td>\n",
       "      <td>NaN</td>\n",
       "      <td>519203.0</td>\n",
       "      <td>2</td>\n",
       "      <td>4</td>\n",
       "      <td>718388</td>\n",
       "      <td>31</td>\n",
       "      <td>2</td>\n",
       "      <td>0</td>\n",
       "      <td>5</td>\n",
       "    </tr>\n",
       "    <tr>\n",
       "      <th>4</th>\n",
       "      <td>SL</td>\n",
       "      <td>2023-04-28</td>\n",
       "      <td>8.0</td>\n",
       "      <td>L</td>\n",
       "      <td>S</td>\n",
       "      <td>0</td>\n",
       "      <td>0</td>\n",
       "      <td>NaN</td>\n",
       "      <td>NaN</td>\n",
       "      <td>519203.0</td>\n",
       "      <td>2</td>\n",
       "      <td>4</td>\n",
       "      <td>718388</td>\n",
       "      <td>31</td>\n",
       "      <td>1</td>\n",
       "      <td>0</td>\n",
       "      <td>5</td>\n",
       "    </tr>\n",
       "    <tr>\n",
       "      <th>...</th>\n",
       "      <td>...</td>\n",
       "      <td>...</td>\n",
       "      <td>...</td>\n",
       "      <td>...</td>\n",
       "      <td>...</td>\n",
       "      <td>...</td>\n",
       "      <td>...</td>\n",
       "      <td>...</td>\n",
       "      <td>...</td>\n",
       "      <td>...</td>\n",
       "      <td>...</td>\n",
       "      <td>...</td>\n",
       "      <td>...</td>\n",
       "      <td>...</td>\n",
       "      <td>...</td>\n",
       "      <td>...</td>\n",
       "      <td>...</td>\n",
       "    </tr>\n",
       "    <tr>\n",
       "      <th>18753</th>\n",
       "      <td>SL</td>\n",
       "      <td>2015-04-08</td>\n",
       "      <td>14.0</td>\n",
       "      <td>R</td>\n",
       "      <td>B</td>\n",
       "      <td>0</td>\n",
       "      <td>1</td>\n",
       "      <td>NaN</td>\n",
       "      <td>NaN</td>\n",
       "      <td>NaN</td>\n",
       "      <td>1</td>\n",
       "      <td>1</td>\n",
       "      <td>413679</td>\n",
       "      <td>5</td>\n",
       "      <td>2</td>\n",
       "      <td>0</td>\n",
       "      <td>0</td>\n",
       "    </tr>\n",
       "    <tr>\n",
       "      <th>18754</th>\n",
       "      <td>FF</td>\n",
       "      <td>2015-04-08</td>\n",
       "      <td>3.0</td>\n",
       "      <td>R</td>\n",
       "      <td>S</td>\n",
       "      <td>0</td>\n",
       "      <td>0</td>\n",
       "      <td>NaN</td>\n",
       "      <td>NaN</td>\n",
       "      <td>NaN</td>\n",
       "      <td>1</td>\n",
       "      <td>1</td>\n",
       "      <td>413679</td>\n",
       "      <td>5</td>\n",
       "      <td>1</td>\n",
       "      <td>0</td>\n",
       "      <td>0</td>\n",
       "    </tr>\n",
       "    <tr>\n",
       "      <th>18755</th>\n",
       "      <td>SI</td>\n",
       "      <td>2015-04-08</td>\n",
       "      <td>13.0</td>\n",
       "      <td>R</td>\n",
       "      <td>X</td>\n",
       "      <td>0</td>\n",
       "      <td>2</td>\n",
       "      <td>NaN</td>\n",
       "      <td>NaN</td>\n",
       "      <td>NaN</td>\n",
       "      <td>0</td>\n",
       "      <td>1</td>\n",
       "      <td>413679</td>\n",
       "      <td>4</td>\n",
       "      <td>3</td>\n",
       "      <td>0</td>\n",
       "      <td>0</td>\n",
       "    </tr>\n",
       "    <tr>\n",
       "      <th>18756</th>\n",
       "      <td>FF</td>\n",
       "      <td>2015-04-08</td>\n",
       "      <td>8.0</td>\n",
       "      <td>R</td>\n",
       "      <td>S</td>\n",
       "      <td>0</td>\n",
       "      <td>1</td>\n",
       "      <td>NaN</td>\n",
       "      <td>NaN</td>\n",
       "      <td>NaN</td>\n",
       "      <td>0</td>\n",
       "      <td>1</td>\n",
       "      <td>413679</td>\n",
       "      <td>4</td>\n",
       "      <td>2</td>\n",
       "      <td>0</td>\n",
       "      <td>0</td>\n",
       "    </tr>\n",
       "    <tr>\n",
       "      <th>18757</th>\n",
       "      <td>FF</td>\n",
       "      <td>2015-04-08</td>\n",
       "      <td>11.0</td>\n",
       "      <td>R</td>\n",
       "      <td>S</td>\n",
       "      <td>0</td>\n",
       "      <td>0</td>\n",
       "      <td>NaN</td>\n",
       "      <td>NaN</td>\n",
       "      <td>NaN</td>\n",
       "      <td>0</td>\n",
       "      <td>1</td>\n",
       "      <td>413679</td>\n",
       "      <td>4</td>\n",
       "      <td>1</td>\n",
       "      <td>0</td>\n",
       "      <td>0</td>\n",
       "    </tr>\n",
       "  </tbody>\n",
       "</table>\n",
       "<p>18758 rows × 17 columns</p>\n",
       "</div>"
      ],
      "text/plain": [
       "      pitch_type   game_date  zone stand type  balls  strikes  on_3b  on_2b  \\\n",
       "0             SL  2023-04-28  11.0     L    X      1        2    NaN    NaN   \n",
       "1             FF  2023-04-28  11.0     L    B      0        2    NaN    NaN   \n",
       "2             SL  2023-04-28   6.0     L    S      0        2    NaN    NaN   \n",
       "3             CH  2023-04-28   5.0     L    S      0        1    NaN    NaN   \n",
       "4             SL  2023-04-28   8.0     L    S      0        0    NaN    NaN   \n",
       "...          ...         ...   ...   ...  ...    ...      ...    ...    ...   \n",
       "18753         SL  2015-04-08  14.0     R    B      0        1    NaN    NaN   \n",
       "18754         FF  2015-04-08   3.0     R    S      0        0    NaN    NaN   \n",
       "18755         SI  2015-04-08  13.0     R    X      0        2    NaN    NaN   \n",
       "18756         FF  2015-04-08   8.0     R    S      0        1    NaN    NaN   \n",
       "18757         FF  2015-04-08  11.0     R    S      0        0    NaN    NaN   \n",
       "\n",
       "          on_1b  outs_when_up  inning  game_pk  at_bat_number  pitch_number  \\\n",
       "0      519203.0             2       4   718388             31             5   \n",
       "1      519203.0             2       4   718388             31             4   \n",
       "2      519203.0             2       4   718388             31             3   \n",
       "3      519203.0             2       4   718388             31             2   \n",
       "4      519203.0             2       4   718388             31             1   \n",
       "...         ...           ...     ...      ...            ...           ...   \n",
       "18753       NaN             1       1   413679              5             2   \n",
       "18754       NaN             1       1   413679              5             1   \n",
       "18755       NaN             0       1   413679              4             3   \n",
       "18756       NaN             0       1   413679              4             2   \n",
       "18757       NaN             0       1   413679              4             1   \n",
       "\n",
       "       bat_score  fld_score  \n",
       "0              0          5  \n",
       "1              0          5  \n",
       "2              0          5  \n",
       "3              0          5  \n",
       "4              0          5  \n",
       "...          ...        ...  \n",
       "18753          0          0  \n",
       "18754          0          0  \n",
       "18755          0          0  \n",
       "18756          0          0  \n",
       "18757          0          0  \n",
       "\n",
       "[18758 rows x 17 columns]"
      ]
     },
     "execution_count": 482,
     "metadata": {},
     "output_type": "execute_result"
    }
   ],
   "source": [
    "import pandas as pd\n",
    "import numpy as np\n",
    "\n",
    "# replace 'your_file.csv' with your actual file path\n",
    "df = pd.read_csv('savant_data.csv')\n",
    "\n",
    "column_names = df.columns.values.tolist()\n",
    "unique_values = df['pitch_name'].unique()\n",
    "print(unique_values)\n",
    "# Print the first 5 rows of the DataFrame\n",
    "df = df.drop(columns=['release_speed','release_pos_x','release_pos_z','spin_dir','spin_rate_deprecated','break_angle_deprecated','break_length_deprecated','p_throws','home_team','away_team','description','hit_location','bb_type'])\n",
    "df = df.drop(columns=['pitcher','game_year','pfx_x','pfx_z','plate_x','plate_z','hc_x','hc_y','tfs_deprecated','tfs_zulu_deprecated','fielder_2','umpire','sv_id','vx0','vy0','vz0','ax','ay','az','sz_top','sz_bot','hit_distance_sc','launch_speed','launch_angle','effective_speed','pitcher.1','fielder_2.1','fielder_3','fielder_4','fielder_5','fielder_6','fielder_7','fielder_8','fielder_9','release_pos_y','estimated_ba_using_speedangle','estimated_woba_using_speedangle','woba_value','woba_denom','babip_value','iso_value','launch_speed_angle','home_score','away_score','post_away_score','post_home_score','spin_axis','delta_home_win_exp','delta_run_exp','game_type','inning_topbot','des','player_name','post_bat_score','post_fld_score','if_fielding_alignment','of_fielding_alignment','release_extension','release_spin_rate','pitch_name','batter','events'])\n",
    "df\n"
   ]
  },
  {
   "cell_type": "code",
   "execution_count": 483,
   "metadata": {},
   "outputs": [],
   "source": [
    "from sklearn.preprocessing import LabelEncoder\n",
    "\n",
    "le_pitch_type = LabelEncoder()\n",
    "le_stand = LabelEncoder()\n",
    "le_type = LabelEncoder()\n",
    "\n",
    "df['pitch_type'] = le_pitch_type.fit_transform(df['pitch_type'])\n",
    "df['stand'] = le_stand.fit_transform(df['stand'])\n",
    "df['type'] = le_type.fit_transform(df['type'])\n",
    "\n",
    "# Cast to string\n",
    "df['game_pk'] = df['game_pk'].astype(str)\n",
    "df['at_bat_number'] = df['at_bat_number'].astype(str)\n",
    "\n",
    "# Create new unique_at_bat column\n",
    "df['unique_at_bat'] = df['game_pk'] + '_' + df['at_bat_number']\n",
    "df = df.drop(columns=['game_pk'])"
   ]
  },
  {
   "cell_type": "code",
   "execution_count": 484,
   "metadata": {},
   "outputs": [
    {
     "data": {
      "text/plain": [
       "{'CH': 0, 'CU': 1, 'FF': 2, 'IN': 3, 'PO': 4, 'SI': 5, 'SL': 6, nan: 7}"
      ]
     },
     "execution_count": 484,
     "metadata": {},
     "output_type": "execute_result"
    }
   ],
   "source": [
    "label_mapping = {label: index for index, label in enumerate(le_pitch_type.classes_)}\n",
    "label_mapping"
   ]
  },
  {
   "cell_type": "code",
   "execution_count": 485,
   "metadata": {},
   "outputs": [
    {
     "name": "stdout",
     "output_type": "stream",
     "text": [
      "Unique Pitch Types: [6 2 0 1 4 5 7 3]\n",
      "Unique Zones: [11.  6.  5.  8.  1. 14. 12.  9. 13.  7.  4.  3.  2. nan]\n",
      "Unique Stand: [0 1]\n",
      "Unique Type: [2 0 1]\n",
      "Unique Outs When Up: [2 1 0]\n",
      "Unique Inning: [4 3 2 1 6 5 7 9 8]\n",
      "Unique AB: ['31' '30' '29' '28' '20' '19' '18' '11' '10' '9' '3' '2' '1' '48' '47'\n",
      " '46' '41' '40' '39' '38' '37' '23' '22' '21' '13' '12' '27' '15' '14' '8'\n",
      " '7' '52' '51' '50' '49' '45' '44' '43' '42' '36' '35' '17' '34' '33' '32'\n",
      " '25' '24' '16' '26' '6' '5' '4' '63' '62' '61' '53' '58' '57' '56' '67'\n",
      " '66' '65' '59' '60' '54' '55' '79' '78' '77' '72' '71' '70' '69' '68'\n",
      " '64' '76' '75']\n",
      "Unique Pitch Number: [ 5  4  3  2  1  6  8  7  9 10 11 12 13]\n",
      "Unique Bat Score: [0 2 1 4 3 5 7 6 8]\n",
      "Unique Field Score: [ 5  2  0  4  3  1  9  7  6 14 10  8 12 11]\n"
     ]
    }
   ],
   "source": [
    "print(f'Unique Pitch Types: {df.pitch_type.unique()}')\n",
    "print(f'Unique Zones: {df.zone.unique()}')\n",
    "print(f'Unique Stand: {df.stand.unique()}')\n",
    "print(f'Unique Type: {df.type.unique()}')\n",
    "print(f'Unique Outs When Up: {df.outs_when_up.unique()}')\n",
    "print(f'Unique Inning: {df.inning.unique()}')\n",
    "print(f'Unique AB: {df.at_bat_number.unique()}')\n",
    "print(f'Unique Pitch Number: {df.pitch_number.unique()}')\n",
    "print(f'Unique Bat Score: {df.bat_score.unique()}')\n",
    "print(f'Unique Field Score: {df.fld_score.unique()}')"
   ]
  },
  {
   "cell_type": "code",
   "execution_count": 486,
   "metadata": {},
   "outputs": [
    {
     "data": {
      "text/plain": [
       "pitch_type           0\n",
       "game_date            0\n",
       "zone               115\n",
       "stand                0\n",
       "type                 0\n",
       "balls                0\n",
       "strikes              0\n",
       "on_3b            17494\n",
       "on_2b            16240\n",
       "on_1b            14217\n",
       "outs_when_up         0\n",
       "inning               0\n",
       "at_bat_number        0\n",
       "pitch_number         0\n",
       "bat_score            0\n",
       "fld_score            0\n",
       "unique_at_bat        0\n",
       "dtype: int64"
      ]
     },
     "execution_count": 486,
     "metadata": {},
     "output_type": "execute_result"
    }
   ],
   "source": [
    "df.isnull().sum()"
   ]
  },
  {
   "cell_type": "code",
   "execution_count": 487,
   "metadata": {},
   "outputs": [
    {
     "data": {
      "text/html": [
       "<div>\n",
       "<style scoped>\n",
       "    .dataframe tbody tr th:only-of-type {\n",
       "        vertical-align: middle;\n",
       "    }\n",
       "\n",
       "    .dataframe tbody tr th {\n",
       "        vertical-align: top;\n",
       "    }\n",
       "\n",
       "    .dataframe thead th {\n",
       "        text-align: right;\n",
       "    }\n",
       "</style>\n",
       "<table border=\"1\" class=\"dataframe\">\n",
       "  <thead>\n",
       "    <tr style=\"text-align: right;\">\n",
       "      <th></th>\n",
       "      <th>pitch_type</th>\n",
       "      <th>zone</th>\n",
       "      <th>stand</th>\n",
       "      <th>type</th>\n",
       "      <th>balls</th>\n",
       "      <th>strikes</th>\n",
       "      <th>on_3b</th>\n",
       "      <th>on_2b</th>\n",
       "      <th>on_1b</th>\n",
       "      <th>outs_when_up</th>\n",
       "      <th>inning</th>\n",
       "      <th>at_bat_number</th>\n",
       "      <th>pitch_number</th>\n",
       "      <th>bat_score</th>\n",
       "      <th>fld_score</th>\n",
       "      <th>unique_at_bat</th>\n",
       "      <th>years_since_2015</th>\n",
       "    </tr>\n",
       "  </thead>\n",
       "  <tbody>\n",
       "    <tr>\n",
       "      <th>0</th>\n",
       "      <td>2</td>\n",
       "      <td>11.0</td>\n",
       "      <td>1</td>\n",
       "      <td>1</td>\n",
       "      <td>0</td>\n",
       "      <td>0</td>\n",
       "      <td>0</td>\n",
       "      <td>0</td>\n",
       "      <td>0</td>\n",
       "      <td>0</td>\n",
       "      <td>1</td>\n",
       "      <td>4</td>\n",
       "      <td>1</td>\n",
       "      <td>0</td>\n",
       "      <td>0</td>\n",
       "      <td>413679_4</td>\n",
       "      <td>0.000000</td>\n",
       "    </tr>\n",
       "    <tr>\n",
       "      <th>1</th>\n",
       "      <td>2</td>\n",
       "      <td>8.0</td>\n",
       "      <td>1</td>\n",
       "      <td>1</td>\n",
       "      <td>0</td>\n",
       "      <td>1</td>\n",
       "      <td>0</td>\n",
       "      <td>0</td>\n",
       "      <td>0</td>\n",
       "      <td>0</td>\n",
       "      <td>1</td>\n",
       "      <td>4</td>\n",
       "      <td>2</td>\n",
       "      <td>0</td>\n",
       "      <td>0</td>\n",
       "      <td>413679_4</td>\n",
       "      <td>0.000000</td>\n",
       "    </tr>\n",
       "    <tr>\n",
       "      <th>2</th>\n",
       "      <td>5</td>\n",
       "      <td>13.0</td>\n",
       "      <td>1</td>\n",
       "      <td>2</td>\n",
       "      <td>0</td>\n",
       "      <td>2</td>\n",
       "      <td>0</td>\n",
       "      <td>0</td>\n",
       "      <td>0</td>\n",
       "      <td>0</td>\n",
       "      <td>1</td>\n",
       "      <td>4</td>\n",
       "      <td>3</td>\n",
       "      <td>0</td>\n",
       "      <td>0</td>\n",
       "      <td>413679_4</td>\n",
       "      <td>0.000000</td>\n",
       "    </tr>\n",
       "    <tr>\n",
       "      <th>3</th>\n",
       "      <td>2</td>\n",
       "      <td>3.0</td>\n",
       "      <td>1</td>\n",
       "      <td>1</td>\n",
       "      <td>0</td>\n",
       "      <td>0</td>\n",
       "      <td>0</td>\n",
       "      <td>0</td>\n",
       "      <td>0</td>\n",
       "      <td>1</td>\n",
       "      <td>1</td>\n",
       "      <td>5</td>\n",
       "      <td>1</td>\n",
       "      <td>0</td>\n",
       "      <td>0</td>\n",
       "      <td>413679_5</td>\n",
       "      <td>0.000000</td>\n",
       "    </tr>\n",
       "    <tr>\n",
       "      <th>4</th>\n",
       "      <td>6</td>\n",
       "      <td>14.0</td>\n",
       "      <td>1</td>\n",
       "      <td>0</td>\n",
       "      <td>0</td>\n",
       "      <td>1</td>\n",
       "      <td>0</td>\n",
       "      <td>0</td>\n",
       "      <td>0</td>\n",
       "      <td>1</td>\n",
       "      <td>1</td>\n",
       "      <td>5</td>\n",
       "      <td>2</td>\n",
       "      <td>0</td>\n",
       "      <td>0</td>\n",
       "      <td>413679_5</td>\n",
       "      <td>0.000000</td>\n",
       "    </tr>\n",
       "    <tr>\n",
       "      <th>...</th>\n",
       "      <td>...</td>\n",
       "      <td>...</td>\n",
       "      <td>...</td>\n",
       "      <td>...</td>\n",
       "      <td>...</td>\n",
       "      <td>...</td>\n",
       "      <td>...</td>\n",
       "      <td>...</td>\n",
       "      <td>...</td>\n",
       "      <td>...</td>\n",
       "      <td>...</td>\n",
       "      <td>...</td>\n",
       "      <td>...</td>\n",
       "      <td>...</td>\n",
       "      <td>...</td>\n",
       "      <td>...</td>\n",
       "      <td>...</td>\n",
       "    </tr>\n",
       "    <tr>\n",
       "      <th>18753</th>\n",
       "      <td>6</td>\n",
       "      <td>8.0</td>\n",
       "      <td>0</td>\n",
       "      <td>1</td>\n",
       "      <td>0</td>\n",
       "      <td>0</td>\n",
       "      <td>0</td>\n",
       "      <td>0</td>\n",
       "      <td>1</td>\n",
       "      <td>2</td>\n",
       "      <td>4</td>\n",
       "      <td>31</td>\n",
       "      <td>1</td>\n",
       "      <td>0</td>\n",
       "      <td>5</td>\n",
       "      <td>718388_31</td>\n",
       "      <td>8.054757</td>\n",
       "    </tr>\n",
       "    <tr>\n",
       "      <th>18754</th>\n",
       "      <td>0</td>\n",
       "      <td>5.0</td>\n",
       "      <td>0</td>\n",
       "      <td>1</td>\n",
       "      <td>0</td>\n",
       "      <td>1</td>\n",
       "      <td>0</td>\n",
       "      <td>0</td>\n",
       "      <td>1</td>\n",
       "      <td>2</td>\n",
       "      <td>4</td>\n",
       "      <td>31</td>\n",
       "      <td>2</td>\n",
       "      <td>0</td>\n",
       "      <td>5</td>\n",
       "      <td>718388_31</td>\n",
       "      <td>8.054757</td>\n",
       "    </tr>\n",
       "    <tr>\n",
       "      <th>18755</th>\n",
       "      <td>6</td>\n",
       "      <td>6.0</td>\n",
       "      <td>0</td>\n",
       "      <td>1</td>\n",
       "      <td>0</td>\n",
       "      <td>2</td>\n",
       "      <td>0</td>\n",
       "      <td>0</td>\n",
       "      <td>1</td>\n",
       "      <td>2</td>\n",
       "      <td>4</td>\n",
       "      <td>31</td>\n",
       "      <td>3</td>\n",
       "      <td>0</td>\n",
       "      <td>5</td>\n",
       "      <td>718388_31</td>\n",
       "      <td>8.054757</td>\n",
       "    </tr>\n",
       "    <tr>\n",
       "      <th>18756</th>\n",
       "      <td>2</td>\n",
       "      <td>11.0</td>\n",
       "      <td>0</td>\n",
       "      <td>0</td>\n",
       "      <td>0</td>\n",
       "      <td>2</td>\n",
       "      <td>0</td>\n",
       "      <td>0</td>\n",
       "      <td>1</td>\n",
       "      <td>2</td>\n",
       "      <td>4</td>\n",
       "      <td>31</td>\n",
       "      <td>4</td>\n",
       "      <td>0</td>\n",
       "      <td>5</td>\n",
       "      <td>718388_31</td>\n",
       "      <td>8.054757</td>\n",
       "    </tr>\n",
       "    <tr>\n",
       "      <th>18757</th>\n",
       "      <td>6</td>\n",
       "      <td>11.0</td>\n",
       "      <td>0</td>\n",
       "      <td>2</td>\n",
       "      <td>1</td>\n",
       "      <td>2</td>\n",
       "      <td>0</td>\n",
       "      <td>0</td>\n",
       "      <td>1</td>\n",
       "      <td>2</td>\n",
       "      <td>4</td>\n",
       "      <td>31</td>\n",
       "      <td>5</td>\n",
       "      <td>0</td>\n",
       "      <td>5</td>\n",
       "      <td>718388_31</td>\n",
       "      <td>8.054757</td>\n",
       "    </tr>\n",
       "  </tbody>\n",
       "</table>\n",
       "<p>18758 rows × 17 columns</p>\n",
       "</div>"
      ],
      "text/plain": [
       "       pitch_type  zone  stand  type  balls  strikes  on_3b  on_2b  on_1b  \\\n",
       "0               2  11.0      1     1      0        0      0      0      0   \n",
       "1               2   8.0      1     1      0        1      0      0      0   \n",
       "2               5  13.0      1     2      0        2      0      0      0   \n",
       "3               2   3.0      1     1      0        0      0      0      0   \n",
       "4               6  14.0      1     0      0        1      0      0      0   \n",
       "...           ...   ...    ...   ...    ...      ...    ...    ...    ...   \n",
       "18753           6   8.0      0     1      0        0      0      0      1   \n",
       "18754           0   5.0      0     1      0        1      0      0      1   \n",
       "18755           6   6.0      0     1      0        2      0      0      1   \n",
       "18756           2  11.0      0     0      0        2      0      0      1   \n",
       "18757           6  11.0      0     2      1        2      0      0      1   \n",
       "\n",
       "       outs_when_up  inning at_bat_number  pitch_number  bat_score  fld_score  \\\n",
       "0                 0       1             4             1          0          0   \n",
       "1                 0       1             4             2          0          0   \n",
       "2                 0       1             4             3          0          0   \n",
       "3                 1       1             5             1          0          0   \n",
       "4                 1       1             5             2          0          0   \n",
       "...             ...     ...           ...           ...        ...        ...   \n",
       "18753             2       4            31             1          0          5   \n",
       "18754             2       4            31             2          0          5   \n",
       "18755             2       4            31             3          0          5   \n",
       "18756             2       4            31             4          0          5   \n",
       "18757             2       4            31             5          0          5   \n",
       "\n",
       "      unique_at_bat  years_since_2015  \n",
       "0          413679_4          0.000000  \n",
       "1          413679_4          0.000000  \n",
       "2          413679_4          0.000000  \n",
       "3          413679_5          0.000000  \n",
       "4          413679_5          0.000000  \n",
       "...             ...               ...  \n",
       "18753     718388_31          8.054757  \n",
       "18754     718388_31          8.054757  \n",
       "18755     718388_31          8.054757  \n",
       "18756     718388_31          8.054757  \n",
       "18757     718388_31          8.054757  \n",
       "\n",
       "[18758 rows x 17 columns]"
      ]
     },
     "execution_count": 487,
     "metadata": {},
     "output_type": "execute_result"
    }
   ],
   "source": [
    "df['on_3b'] = df['on_3b'].notna().astype(int)\n",
    "df['on_2b'] = df['on_2b'].notna().astype(int)\n",
    "df['on_1b'] = df['on_1b'].notna().astype(int)\n",
    "\n",
    "# convert 'game_date' to datetime if it is not already\n",
    "df['game_date'] = pd.to_datetime(df['game_date'])\n",
    "\n",
    "# create 'years_since_2015' column\n",
    "start_date = pd.Timestamp('2015-04-08')\n",
    "df['years_since_2015'] = (df['game_date'] - start_date).dt.days / 365.25\n",
    "\n",
    "# drop 'game_date' column as it is no longer needed\n",
    "df = df.drop(columns='game_date')\n",
    "\n",
    "df = df.fillna(0)\n",
    "\n",
    "df = df[::-1]\n",
    "df = df.reset_index(drop=True)\n",
    "df"
   ]
  },
  {
   "cell_type": "code",
   "execution_count": 488,
   "metadata": {},
   "outputs": [
    {
     "data": {
      "text/plain": [
       "pitch_type          0\n",
       "zone                0\n",
       "stand               0\n",
       "type                0\n",
       "balls               0\n",
       "strikes             0\n",
       "on_3b               0\n",
       "on_2b               0\n",
       "on_1b               0\n",
       "outs_when_up        0\n",
       "inning              0\n",
       "at_bat_number       0\n",
       "pitch_number        0\n",
       "bat_score           0\n",
       "fld_score           0\n",
       "unique_at_bat       0\n",
       "years_since_2015    0\n",
       "dtype: int64"
      ]
     },
     "execution_count": 488,
     "metadata": {},
     "output_type": "execute_result"
    }
   ],
   "source": [
    "df.isnull().sum()"
   ]
  },
  {
   "cell_type": "code",
   "execution_count": 489,
   "metadata": {},
   "outputs": [
    {
     "data": {
      "text/plain": [
       "2    8438\n",
       "6    4754\n",
       "0    2413\n",
       "5    1721\n",
       "1    1305\n",
       "7     117\n",
       "3       8\n",
       "4       2\n",
       "Name: pitch_type, dtype: int64"
      ]
     },
     "execution_count": 489,
     "metadata": {},
     "output_type": "execute_result"
    }
   ],
   "source": [
    "df.pitch_type.value_counts()"
   ]
  },
  {
   "cell_type": "code",
   "execution_count": 490,
   "metadata": {},
   "outputs": [],
   "source": [
    "# create a set to hold at_bat_numbers that contain the pitch types to be removed\n",
    "at_bats_to_remove = set()\n",
    "\n",
    "# go through the dataframe and add the at_bat_numbers that contain the pitch types to be removed\n",
    "for index, row in df.iterrows():\n",
    "    if row['pitch_type'] in {3, 4, 7}:\n",
    "        at_bats_to_remove.add(row['unique_at_bat'])\n",
    "\n",
    "# remove rows with the at_bat_numbers that are in the set created above\n",
    "df = df[~df['unique_at_bat'].isin(at_bats_to_remove)]\n",
    "df = df.drop(columns=['unique_at_bat'])"
   ]
  },
  {
   "cell_type": "code",
   "execution_count": 491,
   "metadata": {},
   "outputs": [
    {
     "data": {
      "text/plain": [
       "2    8417\n",
       "6    4739\n",
       "0    2403\n",
       "5    1717\n",
       "1    1304\n",
       "Name: pitch_type, dtype: int64"
      ]
     },
     "execution_count": 491,
     "metadata": {},
     "output_type": "execute_result"
    }
   ],
   "source": [
    "df.pitch_type.value_counts()"
   ]
  },
  {
   "cell_type": "code",
   "execution_count": 492,
   "metadata": {},
   "outputs": [
    {
     "data": {
      "text/html": [
       "<div>\n",
       "<style scoped>\n",
       "    .dataframe tbody tr th:only-of-type {\n",
       "        vertical-align: middle;\n",
       "    }\n",
       "\n",
       "    .dataframe tbody tr th {\n",
       "        vertical-align: top;\n",
       "    }\n",
       "\n",
       "    .dataframe thead th {\n",
       "        text-align: right;\n",
       "    }\n",
       "</style>\n",
       "<table border=\"1\" class=\"dataframe\">\n",
       "  <thead>\n",
       "    <tr style=\"text-align: right;\">\n",
       "      <th></th>\n",
       "      <th>pitch_type</th>\n",
       "      <th>zone</th>\n",
       "      <th>stand</th>\n",
       "      <th>type</th>\n",
       "      <th>balls</th>\n",
       "      <th>strikes</th>\n",
       "      <th>on_3b</th>\n",
       "      <th>on_2b</th>\n",
       "      <th>on_1b</th>\n",
       "      <th>outs_when_up</th>\n",
       "      <th>inning</th>\n",
       "      <th>at_bat_number</th>\n",
       "      <th>pitch_number</th>\n",
       "      <th>bat_score</th>\n",
       "      <th>fld_score</th>\n",
       "      <th>years_since_2015</th>\n",
       "    </tr>\n",
       "  </thead>\n",
       "  <tbody>\n",
       "    <tr>\n",
       "      <th>0</th>\n",
       "      <td>2</td>\n",
       "      <td>11.0</td>\n",
       "      <td>1</td>\n",
       "      <td>1</td>\n",
       "      <td>0</td>\n",
       "      <td>0</td>\n",
       "      <td>0</td>\n",
       "      <td>0</td>\n",
       "      <td>0</td>\n",
       "      <td>0</td>\n",
       "      <td>1</td>\n",
       "      <td>4</td>\n",
       "      <td>1</td>\n",
       "      <td>0</td>\n",
       "      <td>0</td>\n",
       "      <td>0.000000</td>\n",
       "    </tr>\n",
       "    <tr>\n",
       "      <th>1</th>\n",
       "      <td>2</td>\n",
       "      <td>8.0</td>\n",
       "      <td>1</td>\n",
       "      <td>1</td>\n",
       "      <td>0</td>\n",
       "      <td>1</td>\n",
       "      <td>0</td>\n",
       "      <td>0</td>\n",
       "      <td>0</td>\n",
       "      <td>0</td>\n",
       "      <td>1</td>\n",
       "      <td>4</td>\n",
       "      <td>2</td>\n",
       "      <td>0</td>\n",
       "      <td>0</td>\n",
       "      <td>0.000000</td>\n",
       "    </tr>\n",
       "    <tr>\n",
       "      <th>2</th>\n",
       "      <td>5</td>\n",
       "      <td>13.0</td>\n",
       "      <td>1</td>\n",
       "      <td>2</td>\n",
       "      <td>0</td>\n",
       "      <td>2</td>\n",
       "      <td>0</td>\n",
       "      <td>0</td>\n",
       "      <td>0</td>\n",
       "      <td>0</td>\n",
       "      <td>1</td>\n",
       "      <td>4</td>\n",
       "      <td>3</td>\n",
       "      <td>0</td>\n",
       "      <td>0</td>\n",
       "      <td>0.000000</td>\n",
       "    </tr>\n",
       "    <tr>\n",
       "      <th>3</th>\n",
       "      <td>2</td>\n",
       "      <td>3.0</td>\n",
       "      <td>1</td>\n",
       "      <td>1</td>\n",
       "      <td>0</td>\n",
       "      <td>0</td>\n",
       "      <td>0</td>\n",
       "      <td>0</td>\n",
       "      <td>0</td>\n",
       "      <td>1</td>\n",
       "      <td>1</td>\n",
       "      <td>5</td>\n",
       "      <td>1</td>\n",
       "      <td>0</td>\n",
       "      <td>0</td>\n",
       "      <td>0.000000</td>\n",
       "    </tr>\n",
       "    <tr>\n",
       "      <th>4</th>\n",
       "      <td>6</td>\n",
       "      <td>14.0</td>\n",
       "      <td>1</td>\n",
       "      <td>0</td>\n",
       "      <td>0</td>\n",
       "      <td>1</td>\n",
       "      <td>0</td>\n",
       "      <td>0</td>\n",
       "      <td>0</td>\n",
       "      <td>1</td>\n",
       "      <td>1</td>\n",
       "      <td>5</td>\n",
       "      <td>2</td>\n",
       "      <td>0</td>\n",
       "      <td>0</td>\n",
       "      <td>0.000000</td>\n",
       "    </tr>\n",
       "    <tr>\n",
       "      <th>...</th>\n",
       "      <td>...</td>\n",
       "      <td>...</td>\n",
       "      <td>...</td>\n",
       "      <td>...</td>\n",
       "      <td>...</td>\n",
       "      <td>...</td>\n",
       "      <td>...</td>\n",
       "      <td>...</td>\n",
       "      <td>...</td>\n",
       "      <td>...</td>\n",
       "      <td>...</td>\n",
       "      <td>...</td>\n",
       "      <td>...</td>\n",
       "      <td>...</td>\n",
       "      <td>...</td>\n",
       "      <td>...</td>\n",
       "    </tr>\n",
       "    <tr>\n",
       "      <th>18753</th>\n",
       "      <td>6</td>\n",
       "      <td>8.0</td>\n",
       "      <td>0</td>\n",
       "      <td>1</td>\n",
       "      <td>0</td>\n",
       "      <td>0</td>\n",
       "      <td>0</td>\n",
       "      <td>0</td>\n",
       "      <td>1</td>\n",
       "      <td>2</td>\n",
       "      <td>4</td>\n",
       "      <td>31</td>\n",
       "      <td>1</td>\n",
       "      <td>0</td>\n",
       "      <td>5</td>\n",
       "      <td>8.054757</td>\n",
       "    </tr>\n",
       "    <tr>\n",
       "      <th>18754</th>\n",
       "      <td>0</td>\n",
       "      <td>5.0</td>\n",
       "      <td>0</td>\n",
       "      <td>1</td>\n",
       "      <td>0</td>\n",
       "      <td>1</td>\n",
       "      <td>0</td>\n",
       "      <td>0</td>\n",
       "      <td>1</td>\n",
       "      <td>2</td>\n",
       "      <td>4</td>\n",
       "      <td>31</td>\n",
       "      <td>2</td>\n",
       "      <td>0</td>\n",
       "      <td>5</td>\n",
       "      <td>8.054757</td>\n",
       "    </tr>\n",
       "    <tr>\n",
       "      <th>18755</th>\n",
       "      <td>6</td>\n",
       "      <td>6.0</td>\n",
       "      <td>0</td>\n",
       "      <td>1</td>\n",
       "      <td>0</td>\n",
       "      <td>2</td>\n",
       "      <td>0</td>\n",
       "      <td>0</td>\n",
       "      <td>1</td>\n",
       "      <td>2</td>\n",
       "      <td>4</td>\n",
       "      <td>31</td>\n",
       "      <td>3</td>\n",
       "      <td>0</td>\n",
       "      <td>5</td>\n",
       "      <td>8.054757</td>\n",
       "    </tr>\n",
       "    <tr>\n",
       "      <th>18756</th>\n",
       "      <td>2</td>\n",
       "      <td>11.0</td>\n",
       "      <td>0</td>\n",
       "      <td>0</td>\n",
       "      <td>0</td>\n",
       "      <td>2</td>\n",
       "      <td>0</td>\n",
       "      <td>0</td>\n",
       "      <td>1</td>\n",
       "      <td>2</td>\n",
       "      <td>4</td>\n",
       "      <td>31</td>\n",
       "      <td>4</td>\n",
       "      <td>0</td>\n",
       "      <td>5</td>\n",
       "      <td>8.054757</td>\n",
       "    </tr>\n",
       "    <tr>\n",
       "      <th>18757</th>\n",
       "      <td>6</td>\n",
       "      <td>11.0</td>\n",
       "      <td>0</td>\n",
       "      <td>2</td>\n",
       "      <td>1</td>\n",
       "      <td>2</td>\n",
       "      <td>0</td>\n",
       "      <td>0</td>\n",
       "      <td>1</td>\n",
       "      <td>2</td>\n",
       "      <td>4</td>\n",
       "      <td>31</td>\n",
       "      <td>5</td>\n",
       "      <td>0</td>\n",
       "      <td>5</td>\n",
       "      <td>8.054757</td>\n",
       "    </tr>\n",
       "  </tbody>\n",
       "</table>\n",
       "<p>18580 rows × 16 columns</p>\n",
       "</div>"
      ],
      "text/plain": [
       "       pitch_type  zone  stand  type  balls  strikes  on_3b  on_2b  on_1b  \\\n",
       "0               2  11.0      1     1      0        0      0      0      0   \n",
       "1               2   8.0      1     1      0        1      0      0      0   \n",
       "2               5  13.0      1     2      0        2      0      0      0   \n",
       "3               2   3.0      1     1      0        0      0      0      0   \n",
       "4               6  14.0      1     0      0        1      0      0      0   \n",
       "...           ...   ...    ...   ...    ...      ...    ...    ...    ...   \n",
       "18753           6   8.0      0     1      0        0      0      0      1   \n",
       "18754           0   5.0      0     1      0        1      0      0      1   \n",
       "18755           6   6.0      0     1      0        2      0      0      1   \n",
       "18756           2  11.0      0     0      0        2      0      0      1   \n",
       "18757           6  11.0      0     2      1        2      0      0      1   \n",
       "\n",
       "       outs_when_up  inning at_bat_number  pitch_number  bat_score  fld_score  \\\n",
       "0                 0       1             4             1          0          0   \n",
       "1                 0       1             4             2          0          0   \n",
       "2                 0       1             4             3          0          0   \n",
       "3                 1       1             5             1          0          0   \n",
       "4                 1       1             5             2          0          0   \n",
       "...             ...     ...           ...           ...        ...        ...   \n",
       "18753             2       4            31             1          0          5   \n",
       "18754             2       4            31             2          0          5   \n",
       "18755             2       4            31             3          0          5   \n",
       "18756             2       4            31             4          0          5   \n",
       "18757             2       4            31             5          0          5   \n",
       "\n",
       "       years_since_2015  \n",
       "0              0.000000  \n",
       "1              0.000000  \n",
       "2              0.000000  \n",
       "3              0.000000  \n",
       "4              0.000000  \n",
       "...                 ...  \n",
       "18753          8.054757  \n",
       "18754          8.054757  \n",
       "18755          8.054757  \n",
       "18756          8.054757  \n",
       "18757          8.054757  \n",
       "\n",
       "[18580 rows x 16 columns]"
      ]
     },
     "execution_count": 492,
     "metadata": {},
     "output_type": "execute_result"
    }
   ],
   "source": [
    "df"
   ]
  },
  {
   "cell_type": "code",
   "execution_count": 493,
   "metadata": {},
   "outputs": [
    {
     "data": {
      "text/plain": [
       "1    8417\n",
       "2    4739\n",
       "3    2403\n",
       "4    1717\n",
       "5    1304\n",
       "Name: pitch_type, dtype: int64"
      ]
     },
     "execution_count": 493,
     "metadata": {},
     "output_type": "execute_result"
    }
   ],
   "source": [
    "df['pitch_type'] = df['pitch_type'].replace(2, 10)\n",
    "df['pitch_type'] = df['pitch_type'].replace(6, 2)\n",
    "df['pitch_type'] = df['pitch_type'].replace(0, 3)\n",
    "df['pitch_type'] = df['pitch_type'].replace(5, 4)\n",
    "df['pitch_type'] = df['pitch_type'].replace(1, 5)\n",
    "df['pitch_type'] = df['pitch_type'].replace(10, 1)\n",
    "\n",
    "df.pitch_type.value_counts()\n",
    "\n",
    "# Consider resampling to balance dataset!"
   ]
  },
  {
   "cell_type": "code",
   "execution_count": 494,
   "metadata": {},
   "outputs": [],
   "source": [
    "# export dataframe to csv\n",
    "df.to_csv('cleaned_data.csv', index=False)"
   ]
  },
  {
   "cell_type": "code",
   "execution_count": 495,
   "metadata": {},
   "outputs": [
    {
     "data": {
      "text/plain": [
       "6"
      ]
     },
     "execution_count": 495,
     "metadata": {},
     "output_type": "execute_result"
    }
   ],
   "source": [
    "num_pitch_classes = len(df.pitch_type.value_counts().index.tolist()) + 1\n",
    "num_pitch_classes"
   ]
  },
  {
   "cell_type": "code",
   "execution_count": 496,
   "metadata": {},
   "outputs": [
    {
     "data": {
      "text/plain": [
       "4733"
      ]
     },
     "execution_count": 496,
     "metadata": {},
     "output_type": "execute_result"
    }
   ],
   "source": [
    "from tensorflow.keras.preprocessing.sequence import pad_sequences\n",
    "# First, convert dataframe to numpy array\n",
    "data = df.values\n",
    "# Create empty lists to store sequences\n",
    "sequences = []\n",
    "next_pitch = []\n",
    "# Variables to keep track of current at bat\n",
    "current_at_bat = data[0,11] # Initial at-bat_number\n",
    "sequence = []\n",
    "\n",
    "# Iterate over the rows (pitches) in the data\n",
    "for row in data:\n",
    "    if row[11] == current_at_bat: # If the row is in the current at-bat\n",
    "        sequence.append(row) # Add the pitch (except pitch_type) to the sequence\n",
    "    else: # If the row is in a new at-bat\n",
    "        sequences.append(sequence[:-1]) # Add the full sequence (except last pitch) to the sequences list\n",
    "        next_pitch.append(sequence[-1][0]) # Add the next pitch types to the next_pitch list\n",
    "        sequence = [row] # Start a new sequence with the current pitch\n",
    "        current_at_bat = row[11] # Update the current at-bat number\n",
    "\n",
    "# Don't forget to add the last sequence and next_pitch when the loop is done\n",
    "if sequence:\n",
    "    sequences.append(sequence[:-1])\n",
    "    next_pitch.append(sequence[-1][0])\n",
    "\n",
    "# Pad sequences so they all have the same length\n",
    "sequences = pad_sequences(sequences, dtype='float32', padding='post', value=0)\n",
    "\n",
    "len(sequences)"
   ]
  },
  {
   "cell_type": "code",
   "execution_count": 476,
   "metadata": {},
   "outputs": [
    {
     "data": {
      "text/plain": [
       "array([[ 1., 11.,  1.,  1.,  0.,  0.,  0.,  0.,  0.,  0.,  1.,  4.,  1.,\n",
       "         0.,  0.,  0.],\n",
       "       [ 1.,  8.,  1.,  1.,  0.,  1.,  0.,  0.,  0.,  0.,  1.,  4.,  2.,\n",
       "         0.,  0.,  0.],\n",
       "       [ 0.,  0.,  0.,  0.,  0.,  0.,  0.,  0.,  0.,  0.,  0.,  0.,  0.,\n",
       "         0.,  0.,  0.],\n",
       "       [ 0.,  0.,  0.,  0.,  0.,  0.,  0.,  0.,  0.,  0.,  0.,  0.,  0.,\n",
       "         0.,  0.,  0.],\n",
       "       [ 0.,  0.,  0.,  0.,  0.,  0.,  0.,  0.,  0.,  0.,  0.,  0.,  0.,\n",
       "         0.,  0.,  0.],\n",
       "       [ 0.,  0.,  0.,  0.,  0.,  0.,  0.,  0.,  0.,  0.,  0.,  0.,  0.,\n",
       "         0.,  0.,  0.],\n",
       "       [ 0.,  0.,  0.,  0.,  0.,  0.,  0.,  0.,  0.,  0.,  0.,  0.,  0.,\n",
       "         0.,  0.,  0.],\n",
       "       [ 0.,  0.,  0.,  0.,  0.,  0.,  0.,  0.,  0.,  0.,  0.,  0.,  0.,\n",
       "         0.,  0.,  0.],\n",
       "       [ 0.,  0.,  0.,  0.,  0.,  0.,  0.,  0.,  0.,  0.,  0.,  0.,  0.,\n",
       "         0.,  0.,  0.],\n",
       "       [ 0.,  0.,  0.,  0.,  0.,  0.,  0.,  0.,  0.,  0.,  0.,  0.,  0.,\n",
       "         0.,  0.,  0.],\n",
       "       [ 0.,  0.,  0.,  0.,  0.,  0.,  0.,  0.,  0.,  0.,  0.,  0.,  0.,\n",
       "         0.,  0.,  0.],\n",
       "       [ 0.,  0.,  0.,  0.,  0.,  0.,  0.,  0.,  0.,  0.,  0.,  0.,  0.,\n",
       "         0.,  0.,  0.]], dtype=float32)"
      ]
     },
     "execution_count": 476,
     "metadata": {},
     "output_type": "execute_result"
    }
   ],
   "source": [
    "sequences[0]"
   ]
  },
  {
   "cell_type": "code",
   "execution_count": 477,
   "metadata": {},
   "outputs": [
    {
     "data": {
      "text/plain": [
       "4"
      ]
     },
     "execution_count": 477,
     "metadata": {},
     "output_type": "execute_result"
    }
   ],
   "source": [
    "next_pitch[0]"
   ]
  },
  {
   "cell_type": "code",
   "execution_count": 478,
   "metadata": {},
   "outputs": [],
   "source": [
    "def create_sample_weights(y_data, mask_value=0):\n",
    "    # Create an array of ones with the same shape as y_data\n",
    "    sample_weight = np.ones_like(y_data)\n",
    "\n",
    "    # Set weights of mask_value to zero\n",
    "    sample_weight[y_data == mask_value] = 0\n",
    "\n",
    "    return sample_weight\n"
   ]
  },
  {
   "cell_type": "code",
   "execution_count": 479,
   "metadata": {},
   "outputs": [],
   "source": [
    "from sklearn.model_selection import train_test_split\n",
    "\n",
    "# Define a seed for reproducibility\n",
    "seed = 1\n",
    "\n",
    "# Split the sequences and next_pitch into training and validation sets\n",
    "sequences_train, sequences_val, next_pitch_train, next_pitch_val = train_test_split(\n",
    "    sequences, \n",
    "    next_pitch, \n",
    "    test_size=0.2, \n",
    "    random_state=seed, \n",
    "    stratify=None\n",
    ")\n",
    "\n",
    "# # Create a mask for the 0 values\n",
    "# sample_weight_train = create_sample_weights(next_pitch_train, mask_value=0)\n",
    "# sample_weight_val = create_sample_weights(next_pitch_val, mask_value=0)\n",
    "\n",
    "next_pitch_train = np.array(next_pitch_train)\n",
    "next_pitch_val = np.array(next_pitch_val)\n",
    "next_pitch_train = next_pitch_train.reshape(-1, 1)\n",
    "next_pitch_val = next_pitch_val.reshape(-1, 1)\n",
    "\n"
   ]
  },
  {
   "cell_type": "code",
   "execution_count": 497,
   "metadata": {},
   "outputs": [],
   "source": [
    "from tensorflow.keras.models import Sequential\n",
    "from tensorflow.keras.layers import Dense, LSTM, Dropout\n",
    "from tensorflow.keras.optimizers import Adam\n",
    "from tensorflow.keras.layers import TimeDistributed\n",
    "import tensorflow as tf\n",
    "from tensorflow.keras import layers\n",
    "\n",
    "def transformer_encoder(inputs, head_size, num_heads, ff_dim, dropout=0):\n",
    "    # Normalization and Attention\n",
    "    x = layers.LayerNormalization(epsilon=1e-6)(inputs)\n",
    "    x = layers.MultiHeadAttention(\n",
    "        key_dim=head_size, num_heads=num_heads, dropout=dropout\n",
    "    )(x, x)\n",
    "    x = layers.Dropout(dropout)(x)\n",
    "    res = x + inputs\n",
    "\n",
    "    # Feed Forward Part\n",
    "    x = layers.LayerNormalization(epsilon=1e-6)(res)\n",
    "    x = layers.Conv1D(filters=ff_dim, kernel_size=1, activation=\"relu\")(x)\n",
    "    x = layers.Dropout(dropout)(x)\n",
    "    x = layers.Conv1D(filters=inputs.shape[-1], kernel_size=1)(x)\n",
    "    return x + res\n",
    "\n",
    "def build_model(input_shape, head_size, num_heads, ff_dim, num_transformer_blocks, mlp_units, dropout=0, mlp_dropout=0):\n",
    "    inputs = layers.Input(shape=input_shape)\n",
    "    x = inputs\n",
    "    for _ in range(num_transformer_blocks):\n",
    "        x = transformer_encoder(x, head_size, num_heads, ff_dim, dropout)\n",
    "\n",
    "    x = layers.GlobalAveragePooling1D(data_format=\"channels_first\")(x)\n",
    "    for units in mlp_units:\n",
    "        x = layers.Dense(units, activation=tf.nn.gelu)(x)\n",
    "        x = layers.Dropout(mlp_dropout)(x)\n",
    "    outputs = layers.Dense(num_pitch_classes, activation=\"softmax\")(x)\n",
    "    return tf.keras.Model(inputs, outputs)\n",
    "\n",
    "input_shape = sequences_train.shape[1:]\n",
    "\n",
    "model = build_model(input_shape, head_size=256, num_heads=4, ff_dim=4, num_transformer_blocks=4, mlp_units=[128], mlp_dropout=0.4, dropout=0.25)\n",
    "\n",
    "model.compile(\n",
    "    optimizer=tf.keras.optimizers.Adam(learning_rate=1e-4),\n",
    "    loss=\"sparse_categorical_crossentropy\",\n",
    "    metrics=[\"sparse_categorical_accuracy\"],\n",
    ")\n",
    "\n",
    "\n",
    "# Determine the number of features (the size of one time step of your sequences)\n",
    "# num_features = sequences_train.shape[2]\n",
    "# timesteps = sequences_train.shape[1]\n",
    "\n",
    "# # Initialize the RNN - many to many sequence prediction instead of many to one (classification) - want to predict next pitch at each time step\n",
    "# # model = Sequential([\n",
    "# #     LSTM(100, activation='relu', input_shape=(timesteps, num_features)),\n",
    "# #     Dropout(0.2),\n",
    "# #     LSTM(100, activation='relu', return_sequences=True),\n",
    "# #     Dropout(0.2),\n",
    "# #     LSTM(100, activation='relu', return_sequences=True),\n",
    "# #     Dropout(0.2),\n",
    "# #     TimeDistributed(Dense(num_pitch_classes, activation='softmax'))\n",
    "# # ])\n",
    "# model = Sequential([\n",
    "#     LSTM(50, activation='relu', input_shape=(timesteps, num_features)),\n",
    "#     Dropout(0.2),\n",
    "#     Dense(50, activation='relu'),\n",
    "#     Dropout(0.2),\n",
    "#     Dense(num_pitch_classes, activation='softmax')\n",
    "# ])\n",
    "\n",
    "# # def masked_sparse_categorical_crossentropy(y_true, y_pred):\n",
    "# #     mask = tf.not_equal(y_true, 0)\n",
    "# #     loss = tf.keras.losses.sparse_categorical_crossentropy(y_true, y_pred)\n",
    "# #     masked_loss = tf.boolean_mask(loss, mask)\n",
    "\n",
    "# #     return tf.math.reduce_mean(masked_loss)\n",
    "\n",
    "# # Compile the RNN\n",
    "# model.compile(optimizer=Adam(), loss='sparse_categorical_crossentropy', metrics=['accuracy'], weighted_metrics=['accuracy'])\n",
    "\n"
   ]
  },
  {
   "cell_type": "code",
   "execution_count": 481,
   "metadata": {},
   "outputs": [
    {
     "name": "stdout",
     "output_type": "stream",
     "text": [
      "<class 'numpy.ndarray'>\n",
      "(3786, 12, 16)\n",
      "<class 'numpy.ndarray'>\n",
      "(3786, 1)\n"
     ]
    }
   ],
   "source": [
    "print(type(sequences_train))\n",
    "print(sequences_train.shape)\n",
    "print(type(next_pitch_train))\n",
    "print(next_pitch_train.shape)\n"
   ]
  },
  {
   "cell_type": "code",
   "execution_count": 501,
   "metadata": {},
   "outputs": [
    {
     "name": "stdout",
     "output_type": "stream",
     "text": [
      "Epoch 1/10\n",
      "119/119 [==============================] - 6s 53ms/step - loss: 1.4532 - sparse_categorical_accuracy: 0.3814 - val_loss: 1.3569 - val_sparse_categorical_accuracy: 0.4234\n",
      "Epoch 2/10\n",
      "119/119 [==============================] - 6s 52ms/step - loss: 1.4451 - sparse_categorical_accuracy: 0.3730 - val_loss: 1.3541 - val_sparse_categorical_accuracy: 0.4256\n",
      "Epoch 3/10\n",
      "119/119 [==============================] - 7s 55ms/step - loss: 1.4291 - sparse_categorical_accuracy: 0.3793 - val_loss: 1.3525 - val_sparse_categorical_accuracy: 0.4224\n",
      "Epoch 4/10\n",
      "119/119 [==============================] - 6s 54ms/step - loss: 1.4290 - sparse_categorical_accuracy: 0.3962 - val_loss: 1.3546 - val_sparse_categorical_accuracy: 0.4224\n",
      "Epoch 5/10\n",
      "119/119 [==============================] - 6s 54ms/step - loss: 1.4177 - sparse_categorical_accuracy: 0.4007 - val_loss: 1.3469 - val_sparse_categorical_accuracy: 0.4213\n",
      "Epoch 6/10\n",
      "119/119 [==============================] - 6s 54ms/step - loss: 1.4192 - sparse_categorical_accuracy: 0.3843 - val_loss: 1.3632 - val_sparse_categorical_accuracy: 0.4203\n",
      "Epoch 7/10\n",
      "119/119 [==============================] - 6s 55ms/step - loss: 1.4170 - sparse_categorical_accuracy: 0.3899 - val_loss: 1.3501 - val_sparse_categorical_accuracy: 0.4034\n",
      "Epoch 8/10\n",
      "119/119 [==============================] - 6s 54ms/step - loss: 1.4196 - sparse_categorical_accuracy: 0.3933 - val_loss: 1.3476 - val_sparse_categorical_accuracy: 0.4203\n",
      "Epoch 9/10\n",
      "119/119 [==============================] - 6s 54ms/step - loss: 1.4100 - sparse_categorical_accuracy: 0.4002 - val_loss: 1.3468 - val_sparse_categorical_accuracy: 0.4192\n",
      "Epoch 10/10\n",
      "119/119 [==============================] - 6s 54ms/step - loss: 1.4056 - sparse_categorical_accuracy: 0.3941 - val_loss: 1.3512 - val_sparse_categorical_accuracy: 0.4192\n"
     ]
    }
   ],
   "source": [
    "# # Fit the RNN to the training set\n",
    "# history = model.fit(\n",
    "#     sequences_train, next_pitch_train, \n",
    "#     epochs=25,\n",
    "#     validation_data=(sequences_val, next_pitch_val)\n",
    "# )\n",
    "history = model.fit(\n",
    "    sequences_train,\n",
    "    next_pitch_train,\n",
    "    validation_split=0.2,\n",
    "    epochs=10,\n",
    "    validation_data=(sequences_val, next_pitch_val)\n",
    ")\n",
    "\n",
    "# Are the sample weights applied to every value in the sequence or just the first value?\n"
   ]
  },
  {
   "cell_type": "code",
   "execution_count": 504,
   "metadata": {},
   "outputs": [
    {
     "data": {
      "text/plain": [
       "{'loss': [1.4531595706939697,\n",
       "  1.4451055526733398,\n",
       "  1.4290821552276611,\n",
       "  1.4290440082550049,\n",
       "  1.4177137613296509,\n",
       "  1.4192376136779785,\n",
       "  1.4170423746109009,\n",
       "  1.4196382761001587,\n",
       "  1.4099615812301636,\n",
       "  1.4055700302124023],\n",
       " 'sparse_categorical_accuracy': [0.38140517473220825,\n",
       "  0.37295299768447876,\n",
       "  0.3792921304702759,\n",
       "  0.39619651436805725,\n",
       "  0.40068674087524414,\n",
       "  0.38431063294410706,\n",
       "  0.38985738158226013,\n",
       "  0.39329108595848083,\n",
       "  0.40015846490859985,\n",
       "  0.3940834701061249],\n",
       " 'val_loss': [1.356934666633606,\n",
       "  1.3540699481964111,\n",
       "  1.3525267839431763,\n",
       "  1.3545891046524048,\n",
       "  1.346943736076355,\n",
       "  1.3632066249847412,\n",
       "  1.3501118421554565,\n",
       "  1.3475819826126099,\n",
       "  1.346837043762207,\n",
       "  1.3512009382247925],\n",
       " 'val_sparse_categorical_accuracy': [0.42344245314598083,\n",
       "  0.42555439472198486,\n",
       "  0.42238649725914,\n",
       "  0.42238649725914,\n",
       "  0.4213305115699768,\n",
       "  0.420274555683136,\n",
       "  0.40337908267974854,\n",
       "  0.420274555683136,\n",
       "  0.41921859979629517,\n",
       "  0.41921859979629517]}"
      ]
     },
     "execution_count": 504,
     "metadata": {},
     "output_type": "execute_result"
    }
   ],
   "source": [
    "history.history"
   ]
  },
  {
   "cell_type": "code",
   "execution_count": 506,
   "metadata": {},
   "outputs": [
    {
     "data": {
      "application/vnd.plotly.v1+json": {
       "config": {
        "plotlyServerURL": "https://plot.ly"
       },
       "data": [
        {
         "mode": "lines",
         "name": "Training Accuracy",
         "type": "scatter",
         "x": [
          1,
          2,
          3,
          4,
          5,
          6,
          7,
          8,
          9,
          10,
          11,
          12,
          13,
          14,
          15,
          16,
          17,
          18,
          19,
          20,
          21,
          22,
          23,
          24,
          25,
          26,
          27,
          28,
          29,
          30,
          31,
          32,
          33,
          34,
          35,
          36,
          37,
          38,
          39,
          40,
          41,
          42,
          43,
          44,
          45,
          46,
          47,
          48,
          49,
          50,
          51,
          52,
          53,
          54,
          55,
          56,
          57,
          58,
          59,
          60,
          61,
          62,
          63,
          64,
          65,
          66,
          67,
          68,
          69,
          70,
          71,
          72,
          73,
          74,
          75,
          76,
          77,
          78,
          79,
          80,
          81,
          82,
          83,
          84,
          85,
          86,
          87,
          88,
          89,
          90,
          91,
          92,
          93,
          94,
          95,
          96,
          97,
          98,
          99,
          100,
          101,
          102,
          103,
          104,
          105,
          106,
          107,
          108,
          109,
          110,
          111,
          112,
          113,
          114,
          115,
          116,
          117,
          118,
          119,
          120,
          121,
          122,
          123,
          124,
          125,
          126,
          127,
          128,
          129,
          130,
          131,
          132,
          133,
          134,
          135,
          136,
          137,
          138,
          139,
          140,
          141,
          142,
          143,
          144,
          145,
          146,
          147,
          148,
          149,
          150
         ],
         "y": [
          0.38140517473220825,
          0.37295299768447876,
          0.3792921304702759,
          0.39619651436805725,
          0.40068674087524414,
          0.38431063294410706,
          0.38985738158226013,
          0.39329108595848083,
          0.40015846490859985,
          0.3940834701061249
         ]
        },
        {
         "mode": "lines",
         "name": "Validation Accuracy",
         "type": "scatter",
         "x": [
          1,
          2,
          3,
          4,
          5,
          6,
          7,
          8,
          9,
          10,
          11,
          12,
          13,
          14,
          15,
          16,
          17,
          18,
          19,
          20,
          21,
          22,
          23,
          24,
          25,
          26,
          27,
          28,
          29,
          30,
          31,
          32,
          33,
          34,
          35,
          36,
          37,
          38,
          39,
          40,
          41,
          42,
          43,
          44,
          45,
          46,
          47,
          48,
          49,
          50,
          51,
          52,
          53,
          54,
          55,
          56,
          57,
          58,
          59,
          60,
          61,
          62,
          63,
          64,
          65,
          66,
          67,
          68,
          69,
          70,
          71,
          72,
          73,
          74,
          75,
          76,
          77,
          78,
          79,
          80,
          81,
          82,
          83,
          84,
          85,
          86,
          87,
          88,
          89,
          90,
          91,
          92,
          93,
          94,
          95,
          96,
          97,
          98,
          99,
          100,
          101,
          102,
          103,
          104,
          105,
          106,
          107,
          108,
          109,
          110,
          111,
          112,
          113,
          114,
          115,
          116,
          117,
          118,
          119,
          120,
          121,
          122,
          123,
          124,
          125,
          126,
          127,
          128,
          129,
          130,
          131,
          132,
          133,
          134,
          135,
          136,
          137,
          138,
          139,
          140,
          141,
          142,
          143,
          144,
          145,
          146,
          147,
          148,
          149,
          150
         ],
         "y": [
          1.356934666633606,
          1.3540699481964111,
          1.3525267839431763,
          1.3545891046524048,
          1.346943736076355,
          1.3632066249847412,
          1.3501118421554565,
          1.3475819826126099,
          1.346837043762207,
          1.3512009382247925
         ]
        }
       ],
       "layout": {
        "hovermode": "closest",
        "template": {
         "data": {
          "bar": [
           {
            "error_x": {
             "color": "#2a3f5f"
            },
            "error_y": {
             "color": "#2a3f5f"
            },
            "marker": {
             "line": {
              "color": "#E5ECF6",
              "width": 0.5
             },
             "pattern": {
              "fillmode": "overlay",
              "size": 10,
              "solidity": 0.2
             }
            },
            "type": "bar"
           }
          ],
          "barpolar": [
           {
            "marker": {
             "line": {
              "color": "#E5ECF6",
              "width": 0.5
             },
             "pattern": {
              "fillmode": "overlay",
              "size": 10,
              "solidity": 0.2
             }
            },
            "type": "barpolar"
           }
          ],
          "carpet": [
           {
            "aaxis": {
             "endlinecolor": "#2a3f5f",
             "gridcolor": "white",
             "linecolor": "white",
             "minorgridcolor": "white",
             "startlinecolor": "#2a3f5f"
            },
            "baxis": {
             "endlinecolor": "#2a3f5f",
             "gridcolor": "white",
             "linecolor": "white",
             "minorgridcolor": "white",
             "startlinecolor": "#2a3f5f"
            },
            "type": "carpet"
           }
          ],
          "choropleth": [
           {
            "colorbar": {
             "outlinewidth": 0,
             "ticks": ""
            },
            "type": "choropleth"
           }
          ],
          "contour": [
           {
            "colorbar": {
             "outlinewidth": 0,
             "ticks": ""
            },
            "colorscale": [
             [
              0,
              "#0d0887"
             ],
             [
              0.1111111111111111,
              "#46039f"
             ],
             [
              0.2222222222222222,
              "#7201a8"
             ],
             [
              0.3333333333333333,
              "#9c179e"
             ],
             [
              0.4444444444444444,
              "#bd3786"
             ],
             [
              0.5555555555555556,
              "#d8576b"
             ],
             [
              0.6666666666666666,
              "#ed7953"
             ],
             [
              0.7777777777777778,
              "#fb9f3a"
             ],
             [
              0.8888888888888888,
              "#fdca26"
             ],
             [
              1,
              "#f0f921"
             ]
            ],
            "type": "contour"
           }
          ],
          "contourcarpet": [
           {
            "colorbar": {
             "outlinewidth": 0,
             "ticks": ""
            },
            "type": "contourcarpet"
           }
          ],
          "heatmap": [
           {
            "colorbar": {
             "outlinewidth": 0,
             "ticks": ""
            },
            "colorscale": [
             [
              0,
              "#0d0887"
             ],
             [
              0.1111111111111111,
              "#46039f"
             ],
             [
              0.2222222222222222,
              "#7201a8"
             ],
             [
              0.3333333333333333,
              "#9c179e"
             ],
             [
              0.4444444444444444,
              "#bd3786"
             ],
             [
              0.5555555555555556,
              "#d8576b"
             ],
             [
              0.6666666666666666,
              "#ed7953"
             ],
             [
              0.7777777777777778,
              "#fb9f3a"
             ],
             [
              0.8888888888888888,
              "#fdca26"
             ],
             [
              1,
              "#f0f921"
             ]
            ],
            "type": "heatmap"
           }
          ],
          "heatmapgl": [
           {
            "colorbar": {
             "outlinewidth": 0,
             "ticks": ""
            },
            "colorscale": [
             [
              0,
              "#0d0887"
             ],
             [
              0.1111111111111111,
              "#46039f"
             ],
             [
              0.2222222222222222,
              "#7201a8"
             ],
             [
              0.3333333333333333,
              "#9c179e"
             ],
             [
              0.4444444444444444,
              "#bd3786"
             ],
             [
              0.5555555555555556,
              "#d8576b"
             ],
             [
              0.6666666666666666,
              "#ed7953"
             ],
             [
              0.7777777777777778,
              "#fb9f3a"
             ],
             [
              0.8888888888888888,
              "#fdca26"
             ],
             [
              1,
              "#f0f921"
             ]
            ],
            "type": "heatmapgl"
           }
          ],
          "histogram": [
           {
            "marker": {
             "pattern": {
              "fillmode": "overlay",
              "size": 10,
              "solidity": 0.2
             }
            },
            "type": "histogram"
           }
          ],
          "histogram2d": [
           {
            "colorbar": {
             "outlinewidth": 0,
             "ticks": ""
            },
            "colorscale": [
             [
              0,
              "#0d0887"
             ],
             [
              0.1111111111111111,
              "#46039f"
             ],
             [
              0.2222222222222222,
              "#7201a8"
             ],
             [
              0.3333333333333333,
              "#9c179e"
             ],
             [
              0.4444444444444444,
              "#bd3786"
             ],
             [
              0.5555555555555556,
              "#d8576b"
             ],
             [
              0.6666666666666666,
              "#ed7953"
             ],
             [
              0.7777777777777778,
              "#fb9f3a"
             ],
             [
              0.8888888888888888,
              "#fdca26"
             ],
             [
              1,
              "#f0f921"
             ]
            ],
            "type": "histogram2d"
           }
          ],
          "histogram2dcontour": [
           {
            "colorbar": {
             "outlinewidth": 0,
             "ticks": ""
            },
            "colorscale": [
             [
              0,
              "#0d0887"
             ],
             [
              0.1111111111111111,
              "#46039f"
             ],
             [
              0.2222222222222222,
              "#7201a8"
             ],
             [
              0.3333333333333333,
              "#9c179e"
             ],
             [
              0.4444444444444444,
              "#bd3786"
             ],
             [
              0.5555555555555556,
              "#d8576b"
             ],
             [
              0.6666666666666666,
              "#ed7953"
             ],
             [
              0.7777777777777778,
              "#fb9f3a"
             ],
             [
              0.8888888888888888,
              "#fdca26"
             ],
             [
              1,
              "#f0f921"
             ]
            ],
            "type": "histogram2dcontour"
           }
          ],
          "mesh3d": [
           {
            "colorbar": {
             "outlinewidth": 0,
             "ticks": ""
            },
            "type": "mesh3d"
           }
          ],
          "parcoords": [
           {
            "line": {
             "colorbar": {
              "outlinewidth": 0,
              "ticks": ""
             }
            },
            "type": "parcoords"
           }
          ],
          "pie": [
           {
            "automargin": true,
            "type": "pie"
           }
          ],
          "scatter": [
           {
            "fillpattern": {
             "fillmode": "overlay",
             "size": 10,
             "solidity": 0.2
            },
            "type": "scatter"
           }
          ],
          "scatter3d": [
           {
            "line": {
             "colorbar": {
              "outlinewidth": 0,
              "ticks": ""
             }
            },
            "marker": {
             "colorbar": {
              "outlinewidth": 0,
              "ticks": ""
             }
            },
            "type": "scatter3d"
           }
          ],
          "scattercarpet": [
           {
            "marker": {
             "colorbar": {
              "outlinewidth": 0,
              "ticks": ""
             }
            },
            "type": "scattercarpet"
           }
          ],
          "scattergeo": [
           {
            "marker": {
             "colorbar": {
              "outlinewidth": 0,
              "ticks": ""
             }
            },
            "type": "scattergeo"
           }
          ],
          "scattergl": [
           {
            "marker": {
             "colorbar": {
              "outlinewidth": 0,
              "ticks": ""
             }
            },
            "type": "scattergl"
           }
          ],
          "scattermapbox": [
           {
            "marker": {
             "colorbar": {
              "outlinewidth": 0,
              "ticks": ""
             }
            },
            "type": "scattermapbox"
           }
          ],
          "scatterpolar": [
           {
            "marker": {
             "colorbar": {
              "outlinewidth": 0,
              "ticks": ""
             }
            },
            "type": "scatterpolar"
           }
          ],
          "scatterpolargl": [
           {
            "marker": {
             "colorbar": {
              "outlinewidth": 0,
              "ticks": ""
             }
            },
            "type": "scatterpolargl"
           }
          ],
          "scatterternary": [
           {
            "marker": {
             "colorbar": {
              "outlinewidth": 0,
              "ticks": ""
             }
            },
            "type": "scatterternary"
           }
          ],
          "surface": [
           {
            "colorbar": {
             "outlinewidth": 0,
             "ticks": ""
            },
            "colorscale": [
             [
              0,
              "#0d0887"
             ],
             [
              0.1111111111111111,
              "#46039f"
             ],
             [
              0.2222222222222222,
              "#7201a8"
             ],
             [
              0.3333333333333333,
              "#9c179e"
             ],
             [
              0.4444444444444444,
              "#bd3786"
             ],
             [
              0.5555555555555556,
              "#d8576b"
             ],
             [
              0.6666666666666666,
              "#ed7953"
             ],
             [
              0.7777777777777778,
              "#fb9f3a"
             ],
             [
              0.8888888888888888,
              "#fdca26"
             ],
             [
              1,
              "#f0f921"
             ]
            ],
            "type": "surface"
           }
          ],
          "table": [
           {
            "cells": {
             "fill": {
              "color": "#EBF0F8"
             },
             "line": {
              "color": "white"
             }
            },
            "header": {
             "fill": {
              "color": "#C8D4E3"
             },
             "line": {
              "color": "white"
             }
            },
            "type": "table"
           }
          ]
         },
         "layout": {
          "annotationdefaults": {
           "arrowcolor": "#2a3f5f",
           "arrowhead": 0,
           "arrowwidth": 1
          },
          "autotypenumbers": "strict",
          "coloraxis": {
           "colorbar": {
            "outlinewidth": 0,
            "ticks": ""
           }
          },
          "colorscale": {
           "diverging": [
            [
             0,
             "#8e0152"
            ],
            [
             0.1,
             "#c51b7d"
            ],
            [
             0.2,
             "#de77ae"
            ],
            [
             0.3,
             "#f1b6da"
            ],
            [
             0.4,
             "#fde0ef"
            ],
            [
             0.5,
             "#f7f7f7"
            ],
            [
             0.6,
             "#e6f5d0"
            ],
            [
             0.7,
             "#b8e186"
            ],
            [
             0.8,
             "#7fbc41"
            ],
            [
             0.9,
             "#4d9221"
            ],
            [
             1,
             "#276419"
            ]
           ],
           "sequential": [
            [
             0,
             "#0d0887"
            ],
            [
             0.1111111111111111,
             "#46039f"
            ],
            [
             0.2222222222222222,
             "#7201a8"
            ],
            [
             0.3333333333333333,
             "#9c179e"
            ],
            [
             0.4444444444444444,
             "#bd3786"
            ],
            [
             0.5555555555555556,
             "#d8576b"
            ],
            [
             0.6666666666666666,
             "#ed7953"
            ],
            [
             0.7777777777777778,
             "#fb9f3a"
            ],
            [
             0.8888888888888888,
             "#fdca26"
            ],
            [
             1,
             "#f0f921"
            ]
           ],
           "sequentialminus": [
            [
             0,
             "#0d0887"
            ],
            [
             0.1111111111111111,
             "#46039f"
            ],
            [
             0.2222222222222222,
             "#7201a8"
            ],
            [
             0.3333333333333333,
             "#9c179e"
            ],
            [
             0.4444444444444444,
             "#bd3786"
            ],
            [
             0.5555555555555556,
             "#d8576b"
            ],
            [
             0.6666666666666666,
             "#ed7953"
            ],
            [
             0.7777777777777778,
             "#fb9f3a"
            ],
            [
             0.8888888888888888,
             "#fdca26"
            ],
            [
             1,
             "#f0f921"
            ]
           ]
          },
          "colorway": [
           "#636efa",
           "#EF553B",
           "#00cc96",
           "#ab63fa",
           "#FFA15A",
           "#19d3f3",
           "#FF6692",
           "#B6E880",
           "#FF97FF",
           "#FECB52"
          ],
          "font": {
           "color": "#2a3f5f"
          },
          "geo": {
           "bgcolor": "white",
           "lakecolor": "white",
           "landcolor": "#E5ECF6",
           "showlakes": true,
           "showland": true,
           "subunitcolor": "white"
          },
          "hoverlabel": {
           "align": "left"
          },
          "hovermode": "closest",
          "mapbox": {
           "style": "light"
          },
          "paper_bgcolor": "white",
          "plot_bgcolor": "#E5ECF6",
          "polar": {
           "angularaxis": {
            "gridcolor": "white",
            "linecolor": "white",
            "ticks": ""
           },
           "bgcolor": "#E5ECF6",
           "radialaxis": {
            "gridcolor": "white",
            "linecolor": "white",
            "ticks": ""
           }
          },
          "scene": {
           "xaxis": {
            "backgroundcolor": "#E5ECF6",
            "gridcolor": "white",
            "gridwidth": 2,
            "linecolor": "white",
            "showbackground": true,
            "ticks": "",
            "zerolinecolor": "white"
           },
           "yaxis": {
            "backgroundcolor": "#E5ECF6",
            "gridcolor": "white",
            "gridwidth": 2,
            "linecolor": "white",
            "showbackground": true,
            "ticks": "",
            "zerolinecolor": "white"
           },
           "zaxis": {
            "backgroundcolor": "#E5ECF6",
            "gridcolor": "white",
            "gridwidth": 2,
            "linecolor": "white",
            "showbackground": true,
            "ticks": "",
            "zerolinecolor": "white"
           }
          },
          "shapedefaults": {
           "line": {
            "color": "#2a3f5f"
           }
          },
          "ternary": {
           "aaxis": {
            "gridcolor": "white",
            "linecolor": "white",
            "ticks": ""
           },
           "baxis": {
            "gridcolor": "white",
            "linecolor": "white",
            "ticks": ""
           },
           "bgcolor": "#E5ECF6",
           "caxis": {
            "gridcolor": "white",
            "linecolor": "white",
            "ticks": ""
           }
          },
          "title": {
           "x": 0.05
          },
          "xaxis": {
           "automargin": true,
           "gridcolor": "white",
           "linecolor": "white",
           "ticks": "",
           "title": {
            "standoff": 15
           },
           "zerolinecolor": "white",
           "zerolinewidth": 2
          },
          "yaxis": {
           "automargin": true,
           "gridcolor": "white",
           "linecolor": "white",
           "ticks": "",
           "title": {
            "standoff": 15
           },
           "zerolinecolor": "white",
           "zerolinewidth": 2
          }
         }
        },
        "title": {
         "text": "Training and Validation Accuracy"
        },
        "xaxis": {
         "title": {
          "text": "Epoch"
         }
        },
        "yaxis": {
         "title": {
          "text": "Accuracy"
         }
        }
       }
      }
     },
     "metadata": {},
     "output_type": "display_data"
    }
   ],
   "source": [
    "import plotly.graph_objects as go\n",
    "\n",
    "# Extract accuracy values\n",
    "training_accuracy = history.history['sparse_categorical_accuracy']\n",
    "validation_accuracy = history.history['val_loss']\n",
    "\n",
    "# Create a trace for the training accuracy\n",
    "trace1 = go.Scatter(\n",
    "    x = [i for i in range(1, 151)],\n",
    "    y = training_accuracy,\n",
    "    mode = 'lines',\n",
    "    name = 'Training Accuracy'\n",
    ")\n",
    "\n",
    "# Create a trace for the validation accuracy\n",
    "trace2 = go.Scatter(\n",
    "    x = [i for i in range(1, 151)],\n",
    "    y = validation_accuracy,\n",
    "    mode = 'lines',\n",
    "    name = 'Validation Accuracy'\n",
    ")\n",
    "\n",
    "# Create a layout\n",
    "layout = go.Layout(\n",
    "    title = 'Training and Validation Accuracy',\n",
    "    xaxis = dict(title = 'Epoch'),\n",
    "    yaxis = dict(title = 'Accuracy'),\n",
    "    hovermode = 'closest'\n",
    ")\n",
    "\n",
    "# Create a Figure and add the traces\n",
    "fig = go.Figure(data=[trace1, trace2], layout=layout)\n",
    "\n",
    "# Show the figure\n",
    "fig.show()\n"
   ]
  },
  {
   "cell_type": "code",
   "execution_count": 543,
   "metadata": {},
   "outputs": [
    {
     "name": "stdout",
     "output_type": "stream",
     "text": [
      "1/1 [==============================] - 0s 16ms/step\n",
      "Predicted pitch: [1]\n",
      "True pitch: [3]\n"
     ]
    }
   ],
   "source": [
    "# 1. Choose a random sequence from your validation set\n",
    "import random\n",
    "index = random.randint(0, len(sequences_val)-1)\n",
    "sequence_to_predict = sequences_val[index]\n",
    "\n",
    "# 2. Prepare the sequence for input to the model (reshape, etc.)\n",
    "# If your model expects a 3D input (num_samples, num_timesteps, num_features), reshape accordingly:\n",
    "sequence_to_predict = sequence_to_predict.reshape(1, sequence_to_predict.shape[0], sequence_to_predict.shape[1])\n",
    "\n",
    "# 3. Make the prediction\n",
    "predicted_pitch = model.predict(sequence_to_predict)\n",
    "\n",
    "# 4. The output will be the probabilities for each class (pitch). \n",
    "# You'll want to take the pitch with the highest probability:\n",
    "predicted_pitch = np.argmax(predicted_pitch, axis=-1)\n",
    "\n",
    "# 5. Now you can compare this with the true pitch\n",
    "true_pitch = next_pitch_val[index]\n",
    "\n",
    "print(f\"Predicted pitch: {predicted_pitch}\")\n",
    "print(f\"True pitch: {true_pitch}\")\n"
   ]
  },
  {
   "cell_type": "code",
   "execution_count": 460,
   "metadata": {},
   "outputs": [
    {
     "name": "stdout",
     "output_type": "stream",
     "text": [
      "1/1 [==============================] - 0s 13ms/step\n"
     ]
    },
    {
     "ename": "IndexError",
     "evalue": "index 1 is out of bounds for axis 0 with size 1",
     "output_type": "error",
     "traceback": [
      "\u001b[1;31m---------------------------------------------------------------------------\u001b[0m",
      "\u001b[1;31mIndexError\u001b[0m                                Traceback (most recent call last)",
      "Cell \u001b[1;32mIn[460], line 24\u001b[0m\n\u001b[0;32m     22\u001b[0m \u001b[39mwhile\u001b[39;00m pitch \u001b[39m!=\u001b[39m \u001b[39m0\u001b[39m:\n\u001b[0;32m     23\u001b[0m     idx \u001b[39m+\u001b[39m\u001b[39m=\u001b[39m \u001b[39m1\u001b[39m\n\u001b[1;32m---> 24\u001b[0m     pitch \u001b[39m=\u001b[39m actual_pitches[idx]\n\u001b[0;32m     26\u001b[0m fig \u001b[39m=\u001b[39m sp\u001b[39m.\u001b[39mmake_subplots(rows\u001b[39m=\u001b[39midx, cols\u001b[39m=\u001b[39m\u001b[39m1\u001b[39m)\n\u001b[0;32m     28\u001b[0m \u001b[39mfor\u001b[39;00m i \u001b[39min\u001b[39;00m \u001b[39mrange\u001b[39m(predicted_probs\u001b[39m.\u001b[39mshape[\u001b[39m1\u001b[39m]):\n\u001b[0;32m     29\u001b[0m     \u001b[39m# predicted probabilities for the next pitch after the current one\u001b[39;00m\n",
      "\u001b[1;31mIndexError\u001b[0m: index 1 is out of bounds for axis 0 with size 1"
     ]
    }
   ],
   "source": [
    "import plotly.subplots as sp\n",
    "import plotly.graph_objects as go\n",
    "\n",
    "# select a sequence to check\n",
    "sequence_idx = 10  # choose any index\n",
    "sequence_to_check = sequences_val[sequence_idx]\n",
    "\n",
    "# reshape the sequence to match the input shape for the model (batch_size, sequence_length, num_features)\n",
    "sequence_to_check = np.reshape(sequence_to_check, (1, sequence_to_check.shape[0], sequence_to_check.shape[1]))\n",
    "\n",
    "# predict next pitch\n",
    "predicted_probs = model.predict(sequence_to_check)\n",
    "\n",
    "# retrieve actual next pitches\n",
    "actual_pitches = next_pitch_val[sequence_idx]\n",
    "\n",
    "# define the labels for the pitch types\n",
    "pitch_types = ['N/A','Fastball','Slider', 'Changeup','Sinker','Cutter']\n",
    "# create a subplot for each pitch in the sequence\n",
    "idx = 0\n",
    "pitch = actual_pitches[0]\n",
    "while pitch != 0:\n",
    "    idx += 1\n",
    "    pitch = actual_pitches[idx]\n",
    "\n",
    "fig = sp.make_subplots(rows=idx, cols=1)\n",
    "\n",
    "for i in range(predicted_probs.shape[1]):\n",
    "    # predicted probabilities for the next pitch after the current one\n",
    "    probs = predicted_probs[0,i,:]\n",
    "    print(probs)\n",
    "    \n",
    "    # actual next pitch\n",
    "    actual_pitch = actual_pitches[i]\n",
    "    \n",
    "    if actual_pitch == 0:\n",
    "        break\n",
    "    # colors for the bars\n",
    "    colors = ['lightblue'] * 9\n",
    "    if np.argmax(probs) == actual_pitch:\n",
    "        colors[actual_pitch] = 'green'\n",
    "    else:\n",
    "        colors[actual_pitch] = 'red'\n",
    "\n",
    "    # add bar plot to the subplot\n",
    "    fig.add_trace(\n",
    "        go.Bar(x=pitch_types, y=probs, marker_color=colors),\n",
    "        row=i+1,\n",
    "        col=1\n",
    "    )\n",
    "\n",
    "fig.update_layout(height=200*predicted_probs.shape[1], width=900, title_text=\"Predicted Next Pitches\")\n",
    "fig.show()\n",
    "\n"
   ]
  },
  {
   "cell_type": "code",
   "execution_count": null,
   "metadata": {},
   "outputs": [
    {
     "data": {
      "text/plain": [
       "array([[[4.66697557e-12, 3.86434674e-01, 5.55922627e-01, 5.61826043e-02,\n",
       "         7.85437645e-04, 6.74624811e-04],\n",
       "        [2.36537032e-33, 9.95646417e-01, 4.04641125e-03, 3.02932895e-04,\n",
       "         1.15439616e-06, 3.15839588e-06],\n",
       "        [2.05585484e-25, 9.27786529e-01, 1.41952944e-03, 7.07938522e-02,\n",
       "         4.74414952e-09, 4.90006222e-08],\n",
       "        [3.82421767e-31, 5.58717489e-01, 1.22081764e-01, 1.61914855e-01,\n",
       "         1.57285929e-01, 1.09797803e-10],\n",
       "        [3.98763311e-24, 4.51125629e-07, 1.58277273e-01, 8.41333747e-01,\n",
       "         3.00067711e-07, 3.88361514e-04],\n",
       "        [1.92397947e-35, 1.00869720e-03, 2.22602666e-05, 9.98968959e-01,\n",
       "         8.71841086e-17, 7.75807862e-08],\n",
       "        [0.00000000e+00, 9.75202262e-01, 2.47976985e-02, 6.75986023e-09,\n",
       "         7.42676097e-24, 1.18846701e-08],\n",
       "        [3.85488403e-34, 9.92370009e-01, 1.91183644e-03, 9.61030899e-09,\n",
       "         5.12961159e-03, 5.88558323e-04],\n",
       "        [0.00000000e+00, 4.29105870e-02, 9.55990911e-01, 1.09851221e-03,\n",
       "         7.86049115e-10, 4.08794136e-08],\n",
       "        [6.41764773e-25, 1.62555158e-01, 7.75542052e-04, 4.00043128e-08,\n",
       "         7.68373787e-01, 6.82954565e-02],\n",
       "        [0.00000000e+00, 9.00461257e-01, 9.80821177e-02, 1.45661051e-03,\n",
       "         1.85742732e-16, 4.28804575e-10],\n",
       "        [1.00338497e-37, 8.21717620e-01, 2.14146141e-07, 8.04526931e-11,\n",
       "         5.60423359e-04, 1.77721784e-01]]], dtype=float32)"
      ]
     },
     "execution_count": 1012,
     "metadata": {},
     "output_type": "execute_result"
    }
   ],
   "source": [
    "predicted_probs"
   ]
  },
  {
   "cell_type": "code",
   "execution_count": null,
   "metadata": {},
   "outputs": [],
   "source": []
  }
 ],
 "metadata": {
  "kernelspec": {
   "display_name": "base",
   "language": "python",
   "name": "python3"
  },
  "language_info": {
   "codemirror_mode": {
    "name": "ipython",
    "version": 3
   },
   "file_extension": ".py",
   "mimetype": "text/x-python",
   "name": "python",
   "nbconvert_exporter": "python",
   "pygments_lexer": "ipython3",
   "version": "3.10.9"
  },
  "orig_nbformat": 4
 },
 "nbformat": 4,
 "nbformat_minor": 2
}
