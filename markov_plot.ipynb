{
 "cells": [
  {
   "cell_type": "code",
   "execution_count": 3697,
   "metadata": {},
   "outputs": [],
   "source": [
    "import pandas as pd\n",
    "import numpy as np\n",
    "import networkx as nx\n",
    "import plotly.graph_objects as go\n",
    "import plotly.offline as pyo\n",
    "import random\n"
   ]
  },
  {
   "cell_type": "code",
   "execution_count": 3698,
   "metadata": {},
   "outputs": [
    {
     "data": {
      "text/html": [
       "<div>\n",
       "<style scoped>\n",
       "    .dataframe tbody tr th:only-of-type {\n",
       "        vertical-align: middle;\n",
       "    }\n",
       "\n",
       "    .dataframe tbody tr th {\n",
       "        vertical-align: top;\n",
       "    }\n",
       "\n",
       "    .dataframe thead th {\n",
       "        text-align: right;\n",
       "    }\n",
       "</style>\n",
       "<table border=\"1\" class=\"dataframe\">\n",
       "  <thead>\n",
       "    <tr style=\"text-align: right;\">\n",
       "      <th></th>\n",
       "      <th>Unnamed: 0</th>\n",
       "      <th>[0-0]</th>\n",
       "      <th>[1-0]</th>\n",
       "      <th>[0-1]</th>\n",
       "      <th>[2-0]</th>\n",
       "      <th>[1-1]</th>\n",
       "      <th>[0-2]</th>\n",
       "      <th>[3-0]</th>\n",
       "      <th>[2-1]</th>\n",
       "      <th>[1-2]</th>\n",
       "      <th>[3-1]</th>\n",
       "      <th>[2-2]</th>\n",
       "      <th>[3-2]</th>\n",
       "      <th>OUT</th>\n",
       "      <th>WALK</th>\n",
       "      <th>PLAY</th>\n",
       "    </tr>\n",
       "  </thead>\n",
       "  <tbody>\n",
       "    <tr>\n",
       "      <th>0</th>\n",
       "      <td>[0-0]</td>\n",
       "      <td>0.0</td>\n",
       "      <td>69861.0</td>\n",
       "      <td>91708.0</td>\n",
       "      <td>0.0</td>\n",
       "      <td>0.0</td>\n",
       "      <td>0.0</td>\n",
       "      <td>0.0</td>\n",
       "      <td>0.0</td>\n",
       "      <td>0.0</td>\n",
       "      <td>0.0</td>\n",
       "      <td>0.0</td>\n",
       "      <td>0.0</td>\n",
       "      <td>0.0</td>\n",
       "      <td>0.0</td>\n",
       "      <td>20010.0</td>\n",
       "    </tr>\n",
       "    <tr>\n",
       "      <th>1</th>\n",
       "      <td>[1-0]</td>\n",
       "      <td>0.0</td>\n",
       "      <td>0.0</td>\n",
       "      <td>0.0</td>\n",
       "      <td>23620.0</td>\n",
       "      <td>35117.0</td>\n",
       "      <td>0.0</td>\n",
       "      <td>0.0</td>\n",
       "      <td>0.0</td>\n",
       "      <td>0.0</td>\n",
       "      <td>0.0</td>\n",
       "      <td>0.0</td>\n",
       "      <td>0.0</td>\n",
       "      <td>0.0</td>\n",
       "      <td>0.0</td>\n",
       "      <td>10919.0</td>\n",
       "    </tr>\n",
       "    <tr>\n",
       "      <th>2</th>\n",
       "      <td>[0-1]</td>\n",
       "      <td>0.0</td>\n",
       "      <td>0.0</td>\n",
       "      <td>0.0</td>\n",
       "      <td>0.0</td>\n",
       "      <td>36510.0</td>\n",
       "      <td>39148.0</td>\n",
       "      <td>0.0</td>\n",
       "      <td>0.0</td>\n",
       "      <td>0.0</td>\n",
       "      <td>0.0</td>\n",
       "      <td>0.0</td>\n",
       "      <td>0.0</td>\n",
       "      <td>0.0</td>\n",
       "      <td>0.0</td>\n",
       "      <td>15716.0</td>\n",
       "    </tr>\n",
       "    <tr>\n",
       "      <th>3</th>\n",
       "      <td>[2-0]</td>\n",
       "      <td>0.0</td>\n",
       "      <td>0.0</td>\n",
       "      <td>0.0</td>\n",
       "      <td>0.0</td>\n",
       "      <td>0.0</td>\n",
       "      <td>0.0</td>\n",
       "      <td>7236.0</td>\n",
       "      <td>12357.0</td>\n",
       "      <td>0.0</td>\n",
       "      <td>0.0</td>\n",
       "      <td>0.0</td>\n",
       "      <td>0.0</td>\n",
       "      <td>0.0</td>\n",
       "      <td>0.0</td>\n",
       "      <td>3907.0</td>\n",
       "    </tr>\n",
       "    <tr>\n",
       "      <th>4</th>\n",
       "      <td>[1-1]</td>\n",
       "      <td>0.0</td>\n",
       "      <td>0.0</td>\n",
       "      <td>0.0</td>\n",
       "      <td>0.0</td>\n",
       "      <td>0.0</td>\n",
       "      <td>0.0</td>\n",
       "      <td>0.0</td>\n",
       "      <td>24406.0</td>\n",
       "      <td>32622.0</td>\n",
       "      <td>0.0</td>\n",
       "      <td>0.0</td>\n",
       "      <td>0.0</td>\n",
       "      <td>0.0</td>\n",
       "      <td>0.0</td>\n",
       "      <td>14320.0</td>\n",
       "    </tr>\n",
       "    <tr>\n",
       "      <th>5</th>\n",
       "      <td>[0-2]</td>\n",
       "      <td>0.0</td>\n",
       "      <td>0.0</td>\n",
       "      <td>0.0</td>\n",
       "      <td>0.0</td>\n",
       "      <td>0.0</td>\n",
       "      <td>9238.0</td>\n",
       "      <td>0.0</td>\n",
       "      <td>0.0</td>\n",
       "      <td>21450.0</td>\n",
       "      <td>0.0</td>\n",
       "      <td>0.0</td>\n",
       "      <td>0.0</td>\n",
       "      <td>8652.0</td>\n",
       "      <td>0.0</td>\n",
       "      <td>8788.0</td>\n",
       "    </tr>\n",
       "    <tr>\n",
       "      <th>6</th>\n",
       "      <td>[3-0]</td>\n",
       "      <td>0.0</td>\n",
       "      <td>0.0</td>\n",
       "      <td>0.0</td>\n",
       "      <td>0.0</td>\n",
       "      <td>0.0</td>\n",
       "      <td>0.0</td>\n",
       "      <td>0.0</td>\n",
       "      <td>0.0</td>\n",
       "      <td>0.0</td>\n",
       "      <td>4473.0</td>\n",
       "      <td>0.0</td>\n",
       "      <td>0.0</td>\n",
       "      <td>0.0</td>\n",
       "      <td>2363.0</td>\n",
       "      <td>359.0</td>\n",
       "    </tr>\n",
       "    <tr>\n",
       "      <th>7</th>\n",
       "      <td>[2-1]</td>\n",
       "      <td>0.0</td>\n",
       "      <td>0.0</td>\n",
       "      <td>0.0</td>\n",
       "      <td>0.0</td>\n",
       "      <td>0.0</td>\n",
       "      <td>0.0</td>\n",
       "      <td>0.0</td>\n",
       "      <td>0.0</td>\n",
       "      <td>0.0</td>\n",
       "      <td>10756.0</td>\n",
       "      <td>17807.0</td>\n",
       "      <td>0.0</td>\n",
       "      <td>0.0</td>\n",
       "      <td>0.0</td>\n",
       "      <td>8089.0</td>\n",
       "    </tr>\n",
       "    <tr>\n",
       "      <th>8</th>\n",
       "      <td>[1-2]</td>\n",
       "      <td>0.0</td>\n",
       "      <td>0.0</td>\n",
       "      <td>0.0</td>\n",
       "      <td>0.0</td>\n",
       "      <td>0.0</td>\n",
       "      <td>0.0</td>\n",
       "      <td>0.0</td>\n",
       "      <td>0.0</td>\n",
       "      <td>15087.0</td>\n",
       "      <td>0.0</td>\n",
       "      <td>25876.0</td>\n",
       "      <td>0.0</td>\n",
       "      <td>13338.0</td>\n",
       "      <td>0.0</td>\n",
       "      <td>14493.0</td>\n",
       "    </tr>\n",
       "    <tr>\n",
       "      <th>9</th>\n",
       "      <td>[3-1]</td>\n",
       "      <td>0.0</td>\n",
       "      <td>0.0</td>\n",
       "      <td>0.0</td>\n",
       "      <td>0.0</td>\n",
       "      <td>0.0</td>\n",
       "      <td>0.0</td>\n",
       "      <td>0.0</td>\n",
       "      <td>0.0</td>\n",
       "      <td>0.0</td>\n",
       "      <td>0.0</td>\n",
       "      <td>0.0</td>\n",
       "      <td>7731.0</td>\n",
       "      <td>0.0</td>\n",
       "      <td>4160.0</td>\n",
       "      <td>3289.0</td>\n",
       "    </tr>\n",
       "    <tr>\n",
       "      <th>10</th>\n",
       "      <td>[2-2]</td>\n",
       "      <td>0.0</td>\n",
       "      <td>0.0</td>\n",
       "      <td>0.0</td>\n",
       "      <td>0.0</td>\n",
       "      <td>0.0</td>\n",
       "      <td>0.0</td>\n",
       "      <td>0.0</td>\n",
       "      <td>0.0</td>\n",
       "      <td>0.0</td>\n",
       "      <td>0.0</td>\n",
       "      <td>14592.0</td>\n",
       "      <td>17097.0</td>\n",
       "      <td>11799.0</td>\n",
       "      <td>0.0</td>\n",
       "      <td>14487.0</td>\n",
       "    </tr>\n",
       "    <tr>\n",
       "      <th>11</th>\n",
       "      <td>[3-2]</td>\n",
       "      <td>0.0</td>\n",
       "      <td>0.0</td>\n",
       "      <td>0.0</td>\n",
       "      <td>0.0</td>\n",
       "      <td>0.0</td>\n",
       "      <td>0.0</td>\n",
       "      <td>0.0</td>\n",
       "      <td>0.0</td>\n",
       "      <td>0.0</td>\n",
       "      <td>0.0</td>\n",
       "      <td>0.0</td>\n",
       "      <td>9902.0</td>\n",
       "      <td>6939.0</td>\n",
       "      <td>7845.0</td>\n",
       "      <td>9912.0</td>\n",
       "    </tr>\n",
       "    <tr>\n",
       "      <th>12</th>\n",
       "      <td>OUT</td>\n",
       "      <td>0.0</td>\n",
       "      <td>0.0</td>\n",
       "      <td>0.0</td>\n",
       "      <td>0.0</td>\n",
       "      <td>0.0</td>\n",
       "      <td>0.0</td>\n",
       "      <td>0.0</td>\n",
       "      <td>0.0</td>\n",
       "      <td>0.0</td>\n",
       "      <td>0.0</td>\n",
       "      <td>0.0</td>\n",
       "      <td>0.0</td>\n",
       "      <td>31.0</td>\n",
       "      <td>0.0</td>\n",
       "      <td>0.0</td>\n",
       "    </tr>\n",
       "    <tr>\n",
       "      <th>13</th>\n",
       "      <td>WALK</td>\n",
       "      <td>0.0</td>\n",
       "      <td>0.0</td>\n",
       "      <td>0.0</td>\n",
       "      <td>0.0</td>\n",
       "      <td>0.0</td>\n",
       "      <td>0.0</td>\n",
       "      <td>0.0</td>\n",
       "      <td>0.0</td>\n",
       "      <td>0.0</td>\n",
       "      <td>0.0</td>\n",
       "      <td>0.0</td>\n",
       "      <td>0.0</td>\n",
       "      <td>0.0</td>\n",
       "      <td>31.0</td>\n",
       "      <td>0.0</td>\n",
       "    </tr>\n",
       "    <tr>\n",
       "      <th>14</th>\n",
       "      <td>PLAY</td>\n",
       "      <td>0.0</td>\n",
       "      <td>0.0</td>\n",
       "      <td>0.0</td>\n",
       "      <td>0.0</td>\n",
       "      <td>0.0</td>\n",
       "      <td>0.0</td>\n",
       "      <td>0.0</td>\n",
       "      <td>0.0</td>\n",
       "      <td>0.0</td>\n",
       "      <td>0.0</td>\n",
       "      <td>0.0</td>\n",
       "      <td>0.0</td>\n",
       "      <td>0.0</td>\n",
       "      <td>0.0</td>\n",
       "      <td>31.0</td>\n",
       "    </tr>\n",
       "  </tbody>\n",
       "</table>\n",
       "</div>"
      ],
      "text/plain": [
       "   Unnamed: 0  [0-0]    [1-0]    [0-1]    [2-0]    [1-1]    [0-2]   [3-0]  \\\n",
       "0       [0-0]    0.0  69861.0  91708.0      0.0      0.0      0.0     0.0   \n",
       "1       [1-0]    0.0      0.0      0.0  23620.0  35117.0      0.0     0.0   \n",
       "2       [0-1]    0.0      0.0      0.0      0.0  36510.0  39148.0     0.0   \n",
       "3       [2-0]    0.0      0.0      0.0      0.0      0.0      0.0  7236.0   \n",
       "4       [1-1]    0.0      0.0      0.0      0.0      0.0      0.0     0.0   \n",
       "5       [0-2]    0.0      0.0      0.0      0.0      0.0   9238.0     0.0   \n",
       "6       [3-0]    0.0      0.0      0.0      0.0      0.0      0.0     0.0   \n",
       "7       [2-1]    0.0      0.0      0.0      0.0      0.0      0.0     0.0   \n",
       "8       [1-2]    0.0      0.0      0.0      0.0      0.0      0.0     0.0   \n",
       "9       [3-1]    0.0      0.0      0.0      0.0      0.0      0.0     0.0   \n",
       "10      [2-2]    0.0      0.0      0.0      0.0      0.0      0.0     0.0   \n",
       "11      [3-2]    0.0      0.0      0.0      0.0      0.0      0.0     0.0   \n",
       "12        OUT    0.0      0.0      0.0      0.0      0.0      0.0     0.0   \n",
       "13       WALK    0.0      0.0      0.0      0.0      0.0      0.0     0.0   \n",
       "14       PLAY    0.0      0.0      0.0      0.0      0.0      0.0     0.0   \n",
       "\n",
       "      [2-1]    [1-2]    [3-1]    [2-2]    [3-2]      OUT    WALK     PLAY  \n",
       "0       0.0      0.0      0.0      0.0      0.0      0.0     0.0  20010.0  \n",
       "1       0.0      0.0      0.0      0.0      0.0      0.0     0.0  10919.0  \n",
       "2       0.0      0.0      0.0      0.0      0.0      0.0     0.0  15716.0  \n",
       "3   12357.0      0.0      0.0      0.0      0.0      0.0     0.0   3907.0  \n",
       "4   24406.0  32622.0      0.0      0.0      0.0      0.0     0.0  14320.0  \n",
       "5       0.0  21450.0      0.0      0.0      0.0   8652.0     0.0   8788.0  \n",
       "6       0.0      0.0   4473.0      0.0      0.0      0.0  2363.0    359.0  \n",
       "7       0.0      0.0  10756.0  17807.0      0.0      0.0     0.0   8089.0  \n",
       "8       0.0  15087.0      0.0  25876.0      0.0  13338.0     0.0  14493.0  \n",
       "9       0.0      0.0      0.0      0.0   7731.0      0.0  4160.0   3289.0  \n",
       "10      0.0      0.0      0.0  14592.0  17097.0  11799.0     0.0  14487.0  \n",
       "11      0.0      0.0      0.0      0.0   9902.0   6939.0  7845.0   9912.0  \n",
       "12      0.0      0.0      0.0      0.0      0.0     31.0     0.0      0.0  \n",
       "13      0.0      0.0      0.0      0.0      0.0      0.0    31.0      0.0  \n",
       "14      0.0      0.0      0.0      0.0      0.0      0.0     0.0     31.0  "
      ]
     },
     "execution_count": 3698,
     "metadata": {},
     "output_type": "execute_result"
    }
   ],
   "source": [
    "# Load Dataframes from csv files\n",
    "avg_counts_df = pd.read_csv('avg_counts_df.csv')\n",
    "avg_rates_df = pd.read_csv('avg_rates_df.csv')\n",
    "player_counts_df = avg_counts_df.copy()\n",
    "player_counts_df"
   ]
  },
  {
   "cell_type": "code",
   "execution_count": 3699,
   "metadata": {},
   "outputs": [],
   "source": [
    "player_counts = [player_counts_df.iloc[0]['[1-0]']+player_counts_df.iloc[0]['[0-1]']+player_counts_df.iloc[0]['PLAY'],\n",
    "                 player_counts_df.iloc[1]['[2-0]']+player_counts_df.iloc[1]['[1-1]']+player_counts_df.iloc[1]['PLAY'],\n",
    "                 player_counts_df.iloc[2]['[1-1]']+player_counts_df.iloc[2]['[0-2]']+player_counts_df.iloc[2]['PLAY'],\n",
    "                 player_counts_df.iloc[3]['[3-0]']+player_counts_df.iloc[3]['[2-1]']+player_counts_df.iloc[3]['PLAY'],\n",
    "                 player_counts_df.iloc[4]['[2-1]']+player_counts_df.iloc[4]['[1-2]']+player_counts_df.iloc[4]['PLAY'],\n",
    "                 player_counts_df.iloc[5]['[0-2]']+player_counts_df.iloc[5]['[1-2]']+player_counts_df.iloc[5]['OUT']+player_counts_df.iloc[5]['PLAY'],\n",
    "                 player_counts_df.iloc[6]['[3-1]']+player_counts_df.iloc[6]['WALK']+player_counts_df.iloc[6]['PLAY'],\n",
    "                 player_counts_df.iloc[7]['[3-1]']+player_counts_df.iloc[7]['[2-2]']+player_counts_df.iloc[7]['PLAY'],\n",
    "                 player_counts_df.iloc[8]['[1-2]']+player_counts_df.iloc[8]['[2-2]']+player_counts_df.iloc[8]['OUT']+player_counts_df.iloc[8]['PLAY'],\n",
    "                 player_counts_df.iloc[9]['[3-2]']+player_counts_df.iloc[9]['WALK']+player_counts_df.iloc[9]['PLAY'],\n",
    "                 player_counts_df.iloc[10]['[2-2]']+player_counts_df.iloc[10]['[3-2]']+player_counts_df.iloc[10]['OUT']+player_counts_df.iloc[10]['PLAY'],\n",
    "                 player_counts_df.iloc[11]['[3-2]']+player_counts_df.iloc[11]['OUT']+player_counts_df.iloc[11]['WALK']+player_counts_df.iloc[11]['PLAY']]\n",
    "\n",
    "avg_counts = [avg_counts_df.iloc[0]['[1-0]']+avg_counts_df.iloc[0]['[0-1]']+avg_counts_df.iloc[0]['PLAY'],\n",
    "              avg_counts_df.iloc[1]['[2-0]']+avg_counts_df.iloc[1]['[1-1]']+avg_counts_df.iloc[1]['PLAY'],\n",
    "              avg_counts_df.iloc[2]['[1-1]']+avg_counts_df.iloc[2]['[0-2]']+avg_counts_df.iloc[2]['PLAY'],\n",
    "              avg_counts_df.iloc[3]['[3-0]']+avg_counts_df.iloc[3]['[2-1]']+avg_counts_df.iloc[3]['PLAY'],\n",
    "              avg_counts_df.iloc[4]['[2-1]']+avg_counts_df.iloc[4]['[1-2]']+avg_counts_df.iloc[4]['PLAY'],\n",
    "              avg_counts_df.iloc[5]['[0-2]']+avg_counts_df.iloc[5]['[1-2]']+avg_counts_df.iloc[5]['OUT']+avg_counts_df.iloc[5]['PLAY'],\n",
    "              avg_counts_df.iloc[6]['[3-1]']+avg_counts_df.iloc[6]['WALK']+avg_counts_df.iloc[6]['PLAY'],\n",
    "              avg_counts_df.iloc[7]['[3-1]']+avg_counts_df.iloc[7]['[2-2]']+avg_counts_df.iloc[7]['PLAY'],\n",
    "              avg_counts_df.iloc[8]['[1-2]']+avg_counts_df.iloc[8]['[2-2]']+avg_counts_df.iloc[8]['OUT']+avg_counts_df.iloc[8]['PLAY'],\n",
    "              avg_counts_df.iloc[9]['[3-2]']+avg_counts_df.iloc[9]['WALK']+avg_counts_df.iloc[9]['PLAY'],\n",
    "              avg_counts_df.iloc[10]['[2-2]']+avg_counts_df.iloc[10]['[3-2]']+avg_counts_df.iloc[10]['OUT']+avg_counts_df.iloc[10]['PLAY'],\n",
    "              avg_counts_df.iloc[11]['[3-2]']+avg_counts_df.iloc[11]['OUT']+avg_counts_df.iloc[11]['WALK']+avg_counts_df.iloc[11]['PLAY']]\n",
    "\n",
    "player_counts = [int((i+random.uniform(-1000,1000))/100) for i in player_counts]\n",
    "avg_counts = [int(i) for i in avg_counts]\n"
   ]
  },
  {
   "cell_type": "code",
   "execution_count": 3700,
   "metadata": {},
   "outputs": [],
   "source": [
    "pct_avg_counts = [i/sum(avg_counts) for i in avg_counts]\n",
    "pct_player_counts = [i/sum(player_counts) for i in player_counts]\n",
    "count_diff = [(pct_player_counts[i]-pct_avg_counts[i])*100 for i in range(len(player_counts))]"
   ]
  },
  {
   "cell_type": "code",
   "execution_count": 3701,
   "metadata": {},
   "outputs": [],
   "source": [
    "count_diff += [0, 0]\n",
    "player_counts += [0, 0]"
   ]
  },
  {
   "cell_type": "code",
   "execution_count": 3702,
   "metadata": {},
   "outputs": [],
   "source": [
    "player_counts = {\n",
    "    '[0,0]': player_counts[0],\n",
    "    '[1,0]': player_counts[1],\n",
    "    '[0,1]': player_counts[2],\n",
    "    '[2,0]': player_counts[3],\n",
    "    '[1,1]': player_counts[4],\n",
    "    '[0,2]': player_counts[5],\n",
    "    '[3,0]': player_counts[6],\n",
    "    '[2,1]': player_counts[7],\n",
    "    '[1,2]': player_counts[8],\n",
    "    '[3,1]': player_counts[9],\n",
    "    '[2,2]': player_counts[10],\n",
    "    '[3,2]': player_counts[11],\n",
    "    'WALK': player_counts[12],\n",
    "    'OUT': player_counts[13]\n",
    "}\n",
    "count_diff = {\n",
    "    '[0,0]': count_diff[0],\n",
    "    '[1,0]': count_diff[1],\n",
    "    '[0,1]': count_diff[2],\n",
    "    '[2,0]': count_diff[3],\n",
    "    '[1,1]': count_diff[4],\n",
    "    '[0,2]': count_diff[5],\n",
    "    '[3,0]': count_diff[6],\n",
    "    '[2,1]': count_diff[7],\n",
    "    '[1,2]': count_diff[8],\n",
    "    '[3,1]': count_diff[9],\n",
    "    '[2,2]': count_diff[10],\n",
    "    '[3,2]': count_diff[11],\n",
    "    'WALK': count_diff[12],\n",
    "    'OUT': count_diff[13]\n",
    "}"
   ]
  },
  {
   "cell_type": "code",
   "execution_count": 3703,
   "metadata": {},
   "outputs": [],
   "source": [
    "G = nx.DiGraph()\n",
    "dec = 0\n",
    "# Define edges between nodes that reflect state transition matrix\n",
    "elist = [(1,2),(1,3),(2,4),(2,5),(3,5),(3,6),(4,7),(4,8),(5,8),(5,9),(6,6),(6,9),\\\n",
    "        (6,13),(7,10),(7,14),(8,10),(8,11),(9,9),(9,11),(9,13),(10,12),(10,14),\\\n",
    "        (11,11),(11,12),(11,13),(12,12),(12,13),(12,14)]\n",
    "\n",
    "player_rates = [avg_rates_df.iloc[0]['[1-0]'],avg_rates_df.iloc[0]['[0-1]'],avg_rates_df.iloc[1]['[2-0]'],avg_rates_df.iloc[1]['[1-1]'],\\\n",
    "                 avg_rates_df.iloc[2]['[1-1]'],avg_rates_df.iloc[2]['[0-2]'],avg_rates_df.iloc[3]['[3-0]'],avg_rates_df.iloc[3]['[2-1]'],\\\n",
    "                 avg_rates_df.iloc[4]['[2-1]'],avg_rates_df.iloc[4]['[1-2]'],avg_rates_df.iloc[5]['[0-2]'],avg_rates_df.iloc[5]['[1-2]'],\\\n",
    "                 avg_rates_df.iloc[5]['OUT'],avg_rates_df.iloc[6]['[3-1]'],avg_rates_df.iloc[6]['WALK'],avg_rates_df.iloc[7]['[3-1]'],\\\n",
    "                 avg_rates_df.iloc[7]['[2-2]'],avg_rates_df.iloc[8]['[1-2]'],avg_rates_df.iloc[8]['[2-2]'],avg_rates_df.iloc[8]['OUT'],\\\n",
    "                 avg_rates_df.iloc[9]['[3-2]'],avg_rates_df.iloc[9]['WALK'],avg_rates_df.iloc[10]['[2-2]'],avg_rates_df.iloc[10]['[3-2]'],\\\n",
    "                 avg_rates_df.iloc[10]['OUT'],avg_rates_df.iloc[11]['[3-2]'],avg_rates_df.iloc[11]['OUT'],avg_rates_df.iloc[11]['WALK']]\n",
    "player_rates = [element + random.uniform(-0.1, 0.1) for element in player_rates]\n",
    "\n",
    "player_inplay_rates = [avg_rates_df.iloc[0]['PLAY'],avg_rates_df.iloc[1]['PLAY'],avg_rates_df.iloc[2]['PLAY'],avg_rates_df.iloc[3]['PLAY'],\\\n",
    "                       avg_rates_df.iloc[4]['PLAY'],avg_rates_df.iloc[5]['PLAY'],avg_rates_df.iloc[6]['PLAY'],avg_rates_df.iloc[7]['PLAY'],\\\n",
    "                       avg_rates_df.iloc[8]['PLAY'],avg_rates_df.iloc[9]['PLAY'],avg_rates_df.iloc[10]['PLAY'],avg_rates_df.iloc[11]['PLAY']]\n",
    "player_inplay_rates = [element + random.uniform(-0.1, 0.1) for element in player_inplay_rates]\n",
    "\n",
    "avg_rates = [avg_rates_df.iloc[0]['[1-0]'],avg_rates_df.iloc[0]['[0-1]'],avg_rates_df.iloc[1]['[2-0]'],avg_rates_df.iloc[1]['[1-1]'],\\\n",
    "              avg_rates_df.iloc[2]['[1-1]'],avg_rates_df.iloc[2]['[0-2]'],avg_rates_df.iloc[3]['[3-0]'],avg_rates_df.iloc[3]['[2-1]'],\\\n",
    "              avg_rates_df.iloc[4]['[2-1]'],avg_rates_df.iloc[4]['[1-2]'],avg_rates_df.iloc[5]['[0-2]'],avg_rates_df.iloc[5]['[1-2]'],\\\n",
    "              avg_rates_df.iloc[5]['OUT'],avg_rates_df.iloc[6]['[3-1]'],avg_rates_df.iloc[6]['WALK'],avg_rates_df.iloc[7]['[3-1]'],\\\n",
    "              avg_rates_df.iloc[7]['[2-2]'],avg_rates_df.iloc[8]['[1-2]'],avg_rates_df.iloc[8]['[2-2]'],avg_rates_df.iloc[8]['OUT'],\\\n",
    "              avg_rates_df.iloc[9]['[3-2]'],avg_rates_df.iloc[9]['WALK'],avg_rates_df.iloc[10]['[2-2]'],avg_rates_df.iloc[10]['[3-2]'],\\\n",
    "              avg_rates_df.iloc[10]['OUT'],avg_rates_df.iloc[11]['[3-2]'],avg_rates_df.iloc[11]['OUT'],avg_rates_df.iloc[11]['WALK']]\n",
    "\n",
    "avg_inplay_rates = [avg_rates_df.iloc[0]['PLAY'],avg_rates_df.iloc[1]['PLAY'],avg_rates_df.iloc[2]['PLAY'],avg_rates_df.iloc[3]['PLAY'],\\\n",
    "                    avg_rates_df.iloc[4]['PLAY'],avg_rates_df.iloc[5]['PLAY'],avg_rates_df.iloc[6]['PLAY'],avg_rates_df.iloc[7]['PLAY'],\\\n",
    "                    avg_rates_df.iloc[8]['PLAY'],avg_rates_df.iloc[9]['PLAY'],avg_rates_df.iloc[10]['PLAY'],avg_rates_df.iloc[11]['PLAY']]\n",
    "\n",
    "rate_diffs = [round((player_rates[i] - avg_rates[i])*100,dec) for i in range(len(player_rates))]\n",
    "\n",
    "player_labels = [f\"{int(round(element*100,dec))}%\" for element in player_rates]\n",
    "avg_labels = [f\"{int(round(element*100,dec))}%\" for element in avg_rates]\n",
    "\n",
    "rate_labels = []\n",
    "for rate_diff in rate_diffs:\n",
    "    if rate_diff > 0:\n",
    "        rate_labels.append(f\"+{int(round(rate_diff,dec))}%\")\n",
    "    else:\n",
    "        rate_labels.append(f\"{int(round(rate_diff,dec))}%\")\n",
    "\n",
    "edges_with_labels = [(elist[i][0], elist[i][1], {'label': rate_labels[i]}) for i in range(len(elist))]\n"
   ]
  },
  {
   "cell_type": "code",
   "execution_count": 3704,
   "metadata": {},
   "outputs": [],
   "source": [
    "good_idx = [0,1,0,1,0,1,0,1,0,1,0,0,1,1,0,0,1,0,0,1,1,0,0,0,1,0,1,0] # 1 = good, 0 = bad"
   ]
  },
  {
   "cell_type": "code",
   "execution_count": 3705,
   "metadata": {},
   "outputs": [],
   "source": [
    "# Normalize rate_diffs to range between -1 and 1\n",
    "normalized_diffs = 2 * (rate_diffs - np.min(rate_diffs)) / (np.max(rate_diffs) - np.min(rate_diffs)) - 1\n",
    "\n",
    "color_intensities = []\n",
    "for diff in normalized_diffs:\n",
    "    color_intensities.append(int(255*diff))"
   ]
  },
  {
   "cell_type": "code",
   "execution_count": 3706,
   "metadata": {},
   "outputs": [],
   "source": [
    "G.add_edges_from(edges_with_labels)\n",
    "label_mapping = {1:'[0,0]',2:'[1,0]',3:'[0,1]',4:'[2,0]',5:'[1,1]',6:'[0,2]',\\\n",
    "                 7:'[3,0]',8:'[2,1]',9:'[1,2]',10:'[3,1]',11:'[2,2]',12:'[3,2]',\\\n",
    "                    13:'OUT',14:'WALK'}\n",
    "G = nx.relabel_nodes(G, label_mapping)"
   ]
  },
  {
   "cell_type": "code",
   "execution_count": 3707,
   "metadata": {},
   "outputs": [],
   "source": [
    "scale_factor = 1.5\n",
    "pos = {\n",
    "    '[0,0]': (150, 600*scale_factor),\n",
    "    '[0,1]': (180, 500*scale_factor),\n",
    "    '[1,0]': (120, 500*scale_factor),\n",
    "    '[1,1]': (150, 400*scale_factor),\n",
    "    '[0,2]': (210, 400*scale_factor),\n",
    "    '[2,0]': (90, 400*scale_factor),\n",
    "    '[1,2]': (180, 300*scale_factor),\n",
    "    '[2,1]': (120, 300*scale_factor),\n",
    "    '[2,2]': (150, 200*scale_factor),\n",
    "    '[3,0]': (60, 300*scale_factor),\n",
    "    '[3,1]': (90, 200*scale_factor),\n",
    "    '[3,2]': (120, 100*scale_factor),\n",
    "    'OUT': (210, 0),\n",
    "    'WALK': (60, 0)\n",
    "}"
   ]
  },
  {
   "cell_type": "code",
   "execution_count": 3708,
   "metadata": {},
   "outputs": [],
   "source": [
    "# Create edge trace\n",
    "def create_edge_trace(x0,y0,x1,y1,color,width):\n",
    "    return  go.Scatter(\n",
    "        x=[x0, x1, None],\n",
    "        y=[y0, y1, None],\n",
    "        mode='lines',\n",
    "        line=dict(color=color, width=width),\n",
    "        hoverinfo='none'\n",
    "    )\n",
    "\n",
    "edge_annotations = []"
   ]
  },
  {
   "cell_type": "code",
   "execution_count": 3709,
   "metadata": {},
   "outputs": [],
   "source": [
    "edge_traces = []\n",
    "loop_edge_colors = []\n",
    "loop_text_colors = []\n",
    "for i, edge in enumerate(G.edges()):\n",
    "    x0, y0 = pos[edge[0]]\n",
    "    x1, y1 = pos[edge[1]]\n",
    "    if (good_idx[i] and color_intensities[i] > 0) or (not good_idx[i] and color_intensities[i] < 0):\n",
    "        edge_color = f'rgba(255,{255-abs(color_intensities[i])},{255-abs(color_intensities[i])},1)'\n",
    "        text_color = 'red'\n",
    "    else:\n",
    "        edge_color = f'rgba({255-abs(color_intensities[i])},{255-abs(color_intensities[i])},255,1)'\n",
    "        text_color = 'blue'\n",
    "    edge_trace = create_edge_trace(x0,y0,x1,y1,edge_color,width=3)\n",
    "    edge_traces.append(edge_trace)\n",
    "\n",
    "    if edge[0] == edge[1]:\n",
    "        x_pos = x0+21\n",
    "        y_pos = y0+5\n",
    "        loop_edge_colors.append(edge_color)\n",
    "        loop_text_colors.append(text_color)\n",
    "    else:\n",
    "        x_pos = (x0+x1)/2\n",
    "        y_pos = (y0+y1)/2\n",
    "    # Edge annotations (midpoint for label placement)\n",
    "    edge_annotations.append(\n",
    "        dict(\n",
    "            x=x_pos,\n",
    "            y=y_pos,\n",
    "            xref='x',\n",
    "            yref='y',\n",
    "            text = '<b><i>'+str(G.edges[edge]['label'])+'</b></i>',\n",
    "            showarrow=False,\n",
    "            font=dict(color=text_color, size=14, family='Arial'),\n",
    "            bgcolor='white',\n",
    "            borderpad=0\n",
    "        )\n",
    "    )"
   ]
  },
  {
   "cell_type": "code",
   "execution_count": 3710,
   "metadata": {},
   "outputs": [],
   "source": [
    "#static edge trace\n",
    "edge_traces_single_color = []\n",
    "for i, edge in enumerate(G.edges()):\n",
    "    x0, y0 = pos[edge[0]]\n",
    "    x1, y1 = pos[edge[1]]\n",
    "    edge_color = 'rgba(0, 0, 0, 0.2)'  # Change the color here\n",
    "    edge_trace_single_color = create_edge_trace(x0, y0, x1, y1, edge_color, width=3)\n",
    "    edge_traces_single_color.append(edge_trace_single_color)\n"
   ]
  },
  {
   "cell_type": "code",
   "execution_count": 3711,
   "metadata": {},
   "outputs": [],
   "source": [
    "# Create node trace\n",
    "node_trace = go.Scatter(\n",
    "    x=[],\n",
    "    y=[],\n",
    "    mode='markers+text',\n",
    "    hoverinfo='none',\n",
    "    marker=dict(\n",
    "        showscale=False,\n",
    "        color=[],\n",
    "        size=[],\n",
    "        symbol='circle',\n",
    "        line_width=0.5,\n",
    "        line_color='black',\n",
    "        opacity=1),\n",
    "    text=[],\n",
    "    textposition=\"middle center\",\n",
    "    textfont=dict(\n",
    "        family=\"Arial\",\n",
    "        size=18,\n",
    "        color=\"black\"\n",
    "    )\n",
    ")\n",
    "\n",
    "node_diameter = 85\n",
    "# Add nodes to node trace\n",
    "for i,node in enumerate(G.nodes()):\n",
    "    x,y = pos[node]\n",
    "    node_trace['x'] += tuple([x])\n",
    "    node_trace['y'] += tuple([y])\n",
    "    # Customize node size and color\n",
    "    node_trace['marker']['color'] += tuple(['rgb(220,220,220,1)'])\n",
    "    node_trace['marker']['size'] += tuple([node_diameter + 100*count_diff[node]])\n",
    "    if node == 'OUT' or node == 'WALK':\n",
    "        node_trace['text'] += tuple([str(node)])\n",
    "    else:\n",
    "        node_trace['text'] += tuple([str(node)[1]+'-'+str(node)[-2]])"
   ]
  },
  {
   "cell_type": "code",
   "execution_count": 3712,
   "metadata": {},
   "outputs": [],
   "source": [
    "inplay_rate_diffs = [round((player_inplay_rates[i] - avg_inplay_rates[i])*100,dec) for i in range(len(player_inplay_rates))]\n",
    "inplay_rate_labels = []\n",
    "\n",
    "for inplay_rate_diff in inplay_rate_diffs:\n",
    "    if inplay_rate_diff > 0:\n",
    "        inplay_rate_labels.append(f\"+{int(round(inplay_rate_diff,dec))}%\")\n",
    "    else:\n",
    "        inplay_rate_labels.append(f\"{int(round(inplay_rate_diff,dec))}%\")\n",
    "\n",
    "inplay_rate_labels = {\n",
    "    '[0,0]': inplay_rate_labels[0],\n",
    "    '[1,0]': inplay_rate_labels[1],\n",
    "    '[0,1]': inplay_rate_labels[2],\n",
    "    '[2,0]': inplay_rate_labels[3],\n",
    "    '[1,1]': inplay_rate_labels[4],\n",
    "    '[0,2]': inplay_rate_labels[5],\n",
    "    '[3,0]': inplay_rate_labels[6],\n",
    "    '[2,1]': inplay_rate_labels[7],\n",
    "    '[1,2]': inplay_rate_labels[8],\n",
    "    '[3,1]': inplay_rate_labels[9],\n",
    "    '[2,2]': inplay_rate_labels[10],\n",
    "    '[3,2]': inplay_rate_labels[11],\n",
    "    'WALK': \"0\",\n",
    "    'OUT': \"0\"\n",
    "}"
   ]
  },
  {
   "cell_type": "code",
   "execution_count": 3713,
   "metadata": {},
   "outputs": [],
   "source": [
    "# Create text trace\n",
    "text_trace = go.Scatter(\n",
    "    x=[],\n",
    "    y=[],\n",
    "    mode='text',\n",
    "    hoverinfo='none',\n",
    "    text=[],\n",
    "    textposition=\"middle center\",\n",
    "    textfont=dict(\n",
    "        family=\"Arial\",\n",
    "        size=10,\n",
    "        color=\"black\"\n",
    "    )\n",
    ")\n",
    "\n",
    "for node in G.nodes():\n",
    "    x,y = pos[node]\n",
    "    text_trace['x'] += tuple([x])\n",
    "    text_trace['y'] += tuple([y])\n",
    "    text_trace['text'] += tuple(['<br></br>'+'IN PLAY:'+'<b>'+str(inplay_rate_labels[node])+'</b>'])"
   ]
  },
  {
   "cell_type": "code",
   "execution_count": 3714,
   "metadata": {},
   "outputs": [],
   "source": [
    "traces =  edge_traces + edge_traces_single_color + [node_trace] + [text_trace]"
   ]
  },
  {
   "cell_type": "code",
   "execution_count": 3715,
   "metadata": {},
   "outputs": [],
   "source": [
    "fig = go.Figure(data=traces,\n",
    "                layout=go.Layout(\n",
    "                    width=900,\n",
    "                    height=900,\n",
    "                    paper_bgcolor='rgba(0,0,0,0)',\n",
    "                    plot_bgcolor='rgba(0,0,0,0)',\n",
    "                    titlefont_size=16,\n",
    "                    showlegend=False,\n",
    "                    hovermode='closest',\n",
    "                    margin=dict(b=0, l=0, r=0, t=0, pad=0),  # Update the margin values here\n",
    "                    annotations=edge_annotations,\n",
    "                    xaxis=dict(showgrid=False, zeroline=False, showticklabels=False, scaleanchor=\"y\", scaleratio=5, fixedrange=True),\n",
    "                    yaxis=dict(showgrid=False, zeroline=False, showticklabels=False, scaleanchor=\"x\", scaleratio=1, fixedrange=True)))"
   ]
  },
  {
   "cell_type": "code",
   "execution_count": 3716,
   "metadata": {},
   "outputs": [
    {
     "data": {
      "application/vnd.plotly.v1+json": {
       "config": {
        "plotlyServerURL": "https://plot.ly"
       },
       "data": [
        {
         "hoverinfo": "none",
         "line": {
          "color": "rgba(255,51,51,1)",
          "width": 3
         },
         "mode": "lines",
         "type": "scatter",
         "x": [
          150,
          120,
          null
         ],
         "y": [
          900,
          750,
          null
         ]
        },
        {
         "hoverinfo": "none",
         "line": {
          "color": "rgba(102,102,255,1)",
          "width": 3
         },
         "mode": "lines",
         "type": "scatter",
         "x": [
          150,
          180,
          null
         ],
         "y": [
          900,
          750,
          null
         ]
        },
        {
         "hoverinfo": "none",
         "line": {
          "color": "rgba(26,26,255,1)",
          "width": 3
         },
         "mode": "lines",
         "type": "scatter",
         "x": [
          120,
          90,
          null
         ],
         "y": [
          750,
          600,
          null
         ]
        },
        {
         "hoverinfo": "none",
         "line": {
          "color": "rgba(179,179,255,1)",
          "width": 3
         },
         "mode": "lines",
         "type": "scatter",
         "x": [
          120,
          150,
          null
         ],
         "y": [
          750,
          600,
          null
         ]
        },
        {
         "hoverinfo": "none",
         "line": {
          "color": "rgba(154,154,255,1)",
          "width": 3
         },
         "mode": "lines",
         "type": "scatter",
         "x": [
          180,
          150,
          null
         ],
         "y": [
          750,
          600,
          null
         ]
        },
        {
         "hoverinfo": "none",
         "line": {
          "color": "rgba(255,255,255,1)",
          "width": 3
         },
         "mode": "lines",
         "type": "scatter",
         "x": [
          180,
          210,
          null
         ],
         "y": [
          750,
          600,
          null
         ]
        },
        {
         "hoverinfo": "none",
         "line": {
          "color": "rgba(154,154,255,1)",
          "width": 3
         },
         "mode": "lines",
         "type": "scatter",
         "x": [
          90,
          60,
          null
         ],
         "y": [
          600,
          450,
          null
         ]
        },
        {
         "hoverinfo": "none",
         "line": {
          "color": "rgba(179,179,255,1)",
          "width": 3
         },
         "mode": "lines",
         "type": "scatter",
         "x": [
          90,
          120,
          null
         ],
         "y": [
          600,
          450,
          null
         ]
        },
        {
         "hoverinfo": "none",
         "line": {
          "color": "rgba(179,179,255,1)",
          "width": 3
         },
         "mode": "lines",
         "type": "scatter",
         "x": [
          150,
          120,
          null
         ],
         "y": [
          600,
          450,
          null
         ]
        },
        {
         "hoverinfo": "none",
         "line": {
          "color": "rgba(255,154,154,1)",
          "width": 3
         },
         "mode": "lines",
         "type": "scatter",
         "x": [
          150,
          180,
          null
         ],
         "y": [
          600,
          450,
          null
         ]
        },
        {
         "hoverinfo": "none",
         "line": {
          "color": "rgba(102,102,255,1)",
          "width": 3
         },
         "mode": "lines",
         "type": "scatter",
         "x": [
          210,
          210,
          null
         ],
         "y": [
          600,
          600,
          null
         ]
        },
        {
         "hoverinfo": "none",
         "line": {
          "color": "rgba(0,0,255,1)",
          "width": 3
         },
         "mode": "lines",
         "type": "scatter",
         "x": [
          210,
          180,
          null
         ],
         "y": [
          600,
          450,
          null
         ]
        },
        {
         "hoverinfo": "none",
         "line": {
          "color": "rgba(255,179,179,1)",
          "width": 3
         },
         "mode": "lines",
         "type": "scatter",
         "x": [
          210,
          210,
          null
         ],
         "y": [
          600,
          0,
          null
         ]
        },
        {
         "hoverinfo": "none",
         "line": {
          "color": "rgba(51,51,255,1)",
          "width": 3
         },
         "mode": "lines",
         "type": "scatter",
         "x": [
          60,
          90,
          null
         ],
         "y": [
          450,
          300,
          null
         ]
        },
        {
         "hoverinfo": "none",
         "line": {
          "color": "rgba(51,51,255,1)",
          "width": 3
         },
         "mode": "lines",
         "type": "scatter",
         "x": [
          60,
          60,
          null
         ],
         "y": [
          450,
          0,
          null
         ]
        },
        {
         "hoverinfo": "none",
         "line": {
          "color": "rgba(255,0,0,1)",
          "width": 3
         },
         "mode": "lines",
         "type": "scatter",
         "x": [
          120,
          90,
          null
         ],
         "y": [
          450,
          300,
          null
         ]
        },
        {
         "hoverinfo": "none",
         "line": {
          "color": "rgba(255,255,255,1)",
          "width": 3
         },
         "mode": "lines",
         "type": "scatter",
         "x": [
          120,
          150,
          null
         ],
         "y": [
          450,
          300,
          null
         ]
        },
        {
         "hoverinfo": "none",
         "line": {
          "color": "rgba(255,0,0,1)",
          "width": 3
         },
         "mode": "lines",
         "type": "scatter",
         "x": [
          180,
          180,
          null
         ],
         "y": [
          450,
          450,
          null
         ]
        },
        {
         "hoverinfo": "none",
         "line": {
          "color": "rgba(26,26,255,1)",
          "width": 3
         },
         "mode": "lines",
         "type": "scatter",
         "x": [
          180,
          150,
          null
         ],
         "y": [
          450,
          300,
          null
         ]
        },
        {
         "hoverinfo": "none",
         "line": {
          "color": "rgba(255,51,51,1)",
          "width": 3
         },
         "mode": "lines",
         "type": "scatter",
         "x": [
          180,
          210,
          null
         ],
         "y": [
          450,
          0,
          null
         ]
        },
        {
         "hoverinfo": "none",
         "line": {
          "color": "rgba(255,128,128,1)",
          "width": 3
         },
         "mode": "lines",
         "type": "scatter",
         "x": [
          90,
          120,
          null
         ],
         "y": [
          300,
          150,
          null
         ]
        },
        {
         "hoverinfo": "none",
         "line": {
          "color": "rgba(154,154,255,1)",
          "width": 3
         },
         "mode": "lines",
         "type": "scatter",
         "x": [
          90,
          60,
          null
         ],
         "y": [
          300,
          0,
          null
         ]
        },
        {
         "hoverinfo": "none",
         "line": {
          "color": "rgba(230,230,255,1)",
          "width": 3
         },
         "mode": "lines",
         "type": "scatter",
         "x": [
          150,
          150,
          null
         ],
         "y": [
          300,
          300,
          null
         ]
        },
        {
         "hoverinfo": "none",
         "line": {
          "color": "rgba(154,154,255,1)",
          "width": 3
         },
         "mode": "lines",
         "type": "scatter",
         "x": [
          150,
          120,
          null
         ],
         "y": [
          300,
          150,
          null
         ]
        },
        {
         "hoverinfo": "none",
         "line": {
          "color": "rgba(179,179,255,1)",
          "width": 3
         },
         "mode": "lines",
         "type": "scatter",
         "x": [
          150,
          210,
          null
         ],
         "y": [
          300,
          0,
          null
         ]
        },
        {
         "hoverinfo": "none",
         "line": {
          "color": "rgba(128,128,255,1)",
          "width": 3
         },
         "mode": "lines",
         "type": "scatter",
         "x": [
          120,
          120,
          null
         ],
         "y": [
          150,
          150,
          null
         ]
        },
        {
         "hoverinfo": "none",
         "line": {
          "color": "rgba(255,0,0,1)",
          "width": 3
         },
         "mode": "lines",
         "type": "scatter",
         "x": [
          120,
          210,
          null
         ],
         "y": [
          150,
          0,
          null
         ]
        },
        {
         "hoverinfo": "none",
         "line": {
          "color": "rgba(255,205,205,1)",
          "width": 3
         },
         "mode": "lines",
         "type": "scatter",
         "x": [
          120,
          60,
          null
         ],
         "y": [
          150,
          0,
          null
         ]
        },
        {
         "hoverinfo": "none",
         "line": {
          "color": "rgba(0, 0, 0, 0.2)",
          "width": 3
         },
         "mode": "lines",
         "type": "scatter",
         "x": [
          150,
          120,
          null
         ],
         "y": [
          900,
          750,
          null
         ]
        },
        {
         "hoverinfo": "none",
         "line": {
          "color": "rgba(0, 0, 0, 0.2)",
          "width": 3
         },
         "mode": "lines",
         "type": "scatter",
         "x": [
          150,
          180,
          null
         ],
         "y": [
          900,
          750,
          null
         ]
        },
        {
         "hoverinfo": "none",
         "line": {
          "color": "rgba(0, 0, 0, 0.2)",
          "width": 3
         },
         "mode": "lines",
         "type": "scatter",
         "x": [
          120,
          90,
          null
         ],
         "y": [
          750,
          600,
          null
         ]
        },
        {
         "hoverinfo": "none",
         "line": {
          "color": "rgba(0, 0, 0, 0.2)",
          "width": 3
         },
         "mode": "lines",
         "type": "scatter",
         "x": [
          120,
          150,
          null
         ],
         "y": [
          750,
          600,
          null
         ]
        },
        {
         "hoverinfo": "none",
         "line": {
          "color": "rgba(0, 0, 0, 0.2)",
          "width": 3
         },
         "mode": "lines",
         "type": "scatter",
         "x": [
          180,
          150,
          null
         ],
         "y": [
          750,
          600,
          null
         ]
        },
        {
         "hoverinfo": "none",
         "line": {
          "color": "rgba(0, 0, 0, 0.2)",
          "width": 3
         },
         "mode": "lines",
         "type": "scatter",
         "x": [
          180,
          210,
          null
         ],
         "y": [
          750,
          600,
          null
         ]
        },
        {
         "hoverinfo": "none",
         "line": {
          "color": "rgba(0, 0, 0, 0.2)",
          "width": 3
         },
         "mode": "lines",
         "type": "scatter",
         "x": [
          90,
          60,
          null
         ],
         "y": [
          600,
          450,
          null
         ]
        },
        {
         "hoverinfo": "none",
         "line": {
          "color": "rgba(0, 0, 0, 0.2)",
          "width": 3
         },
         "mode": "lines",
         "type": "scatter",
         "x": [
          90,
          120,
          null
         ],
         "y": [
          600,
          450,
          null
         ]
        },
        {
         "hoverinfo": "none",
         "line": {
          "color": "rgba(0, 0, 0, 0.2)",
          "width": 3
         },
         "mode": "lines",
         "type": "scatter",
         "x": [
          150,
          120,
          null
         ],
         "y": [
          600,
          450,
          null
         ]
        },
        {
         "hoverinfo": "none",
         "line": {
          "color": "rgba(0, 0, 0, 0.2)",
          "width": 3
         },
         "mode": "lines",
         "type": "scatter",
         "x": [
          150,
          180,
          null
         ],
         "y": [
          600,
          450,
          null
         ]
        },
        {
         "hoverinfo": "none",
         "line": {
          "color": "rgba(0, 0, 0, 0.2)",
          "width": 3
         },
         "mode": "lines",
         "type": "scatter",
         "x": [
          210,
          210,
          null
         ],
         "y": [
          600,
          600,
          null
         ]
        },
        {
         "hoverinfo": "none",
         "line": {
          "color": "rgba(0, 0, 0, 0.2)",
          "width": 3
         },
         "mode": "lines",
         "type": "scatter",
         "x": [
          210,
          180,
          null
         ],
         "y": [
          600,
          450,
          null
         ]
        },
        {
         "hoverinfo": "none",
         "line": {
          "color": "rgba(0, 0, 0, 0.2)",
          "width": 3
         },
         "mode": "lines",
         "type": "scatter",
         "x": [
          210,
          210,
          null
         ],
         "y": [
          600,
          0,
          null
         ]
        },
        {
         "hoverinfo": "none",
         "line": {
          "color": "rgba(0, 0, 0, 0.2)",
          "width": 3
         },
         "mode": "lines",
         "type": "scatter",
         "x": [
          60,
          90,
          null
         ],
         "y": [
          450,
          300,
          null
         ]
        },
        {
         "hoverinfo": "none",
         "line": {
          "color": "rgba(0, 0, 0, 0.2)",
          "width": 3
         },
         "mode": "lines",
         "type": "scatter",
         "x": [
          60,
          60,
          null
         ],
         "y": [
          450,
          0,
          null
         ]
        },
        {
         "hoverinfo": "none",
         "line": {
          "color": "rgba(0, 0, 0, 0.2)",
          "width": 3
         },
         "mode": "lines",
         "type": "scatter",
         "x": [
          120,
          90,
          null
         ],
         "y": [
          450,
          300,
          null
         ]
        },
        {
         "hoverinfo": "none",
         "line": {
          "color": "rgba(0, 0, 0, 0.2)",
          "width": 3
         },
         "mode": "lines",
         "type": "scatter",
         "x": [
          120,
          150,
          null
         ],
         "y": [
          450,
          300,
          null
         ]
        },
        {
         "hoverinfo": "none",
         "line": {
          "color": "rgba(0, 0, 0, 0.2)",
          "width": 3
         },
         "mode": "lines",
         "type": "scatter",
         "x": [
          180,
          180,
          null
         ],
         "y": [
          450,
          450,
          null
         ]
        },
        {
         "hoverinfo": "none",
         "line": {
          "color": "rgba(0, 0, 0, 0.2)",
          "width": 3
         },
         "mode": "lines",
         "type": "scatter",
         "x": [
          180,
          150,
          null
         ],
         "y": [
          450,
          300,
          null
         ]
        },
        {
         "hoverinfo": "none",
         "line": {
          "color": "rgba(0, 0, 0, 0.2)",
          "width": 3
         },
         "mode": "lines",
         "type": "scatter",
         "x": [
          180,
          210,
          null
         ],
         "y": [
          450,
          0,
          null
         ]
        },
        {
         "hoverinfo": "none",
         "line": {
          "color": "rgba(0, 0, 0, 0.2)",
          "width": 3
         },
         "mode": "lines",
         "type": "scatter",
         "x": [
          90,
          120,
          null
         ],
         "y": [
          300,
          150,
          null
         ]
        },
        {
         "hoverinfo": "none",
         "line": {
          "color": "rgba(0, 0, 0, 0.2)",
          "width": 3
         },
         "mode": "lines",
         "type": "scatter",
         "x": [
          90,
          60,
          null
         ],
         "y": [
          300,
          0,
          null
         ]
        },
        {
         "hoverinfo": "none",
         "line": {
          "color": "rgba(0, 0, 0, 0.2)",
          "width": 3
         },
         "mode": "lines",
         "type": "scatter",
         "x": [
          150,
          150,
          null
         ],
         "y": [
          300,
          300,
          null
         ]
        },
        {
         "hoverinfo": "none",
         "line": {
          "color": "rgba(0, 0, 0, 0.2)",
          "width": 3
         },
         "mode": "lines",
         "type": "scatter",
         "x": [
          150,
          120,
          null
         ],
         "y": [
          300,
          150,
          null
         ]
        },
        {
         "hoverinfo": "none",
         "line": {
          "color": "rgba(0, 0, 0, 0.2)",
          "width": 3
         },
         "mode": "lines",
         "type": "scatter",
         "x": [
          150,
          210,
          null
         ],
         "y": [
          300,
          0,
          null
         ]
        },
        {
         "hoverinfo": "none",
         "line": {
          "color": "rgba(0, 0, 0, 0.2)",
          "width": 3
         },
         "mode": "lines",
         "type": "scatter",
         "x": [
          120,
          120,
          null
         ],
         "y": [
          150,
          150,
          null
         ]
        },
        {
         "hoverinfo": "none",
         "line": {
          "color": "rgba(0, 0, 0, 0.2)",
          "width": 3
         },
         "mode": "lines",
         "type": "scatter",
         "x": [
          120,
          210,
          null
         ],
         "y": [
          150,
          0,
          null
         ]
        },
        {
         "hoverinfo": "none",
         "line": {
          "color": "rgba(0, 0, 0, 0.2)",
          "width": 3
         },
         "mode": "lines",
         "type": "scatter",
         "x": [
          120,
          60,
          null
         ],
         "y": [
          150,
          0,
          null
         ]
        },
        {
         "hoverinfo": "none",
         "marker": {
          "color": [
           "rgb(220,220,220,1)",
           "rgb(220,220,220,1)",
           "rgb(220,220,220,1)",
           "rgb(220,220,220,1)",
           "rgb(220,220,220,1)",
           "rgb(220,220,220,1)",
           "rgb(220,220,220,1)",
           "rgb(220,220,220,1)",
           "rgb(220,220,220,1)",
           "rgb(220,220,220,1)",
           "rgb(220,220,220,1)",
           "rgb(220,220,220,1)",
           "rgb(220,220,220,1)",
           "rgb(220,220,220,1)"
          ],
          "line": {
           "color": "black",
           "width": 0.5
          },
          "opacity": 1,
          "showscale": false,
          "size": [
           101.30207364868019,
           88.37024665297892,
           78.46149731926064,
           79.7642365688795,
           97.1670608597274,
           74.2201764360851,
           77.10188124164318,
           84.35293427309476,
           82.06172304932319,
           85,
           73.68314360205764,
           85,
           98.5577707332675,
           84.95725561500174
          ],
          "symbol": "circle"
         },
         "mode": "markers+text",
         "text": [
          "0-0",
          "1-0",
          "0-1",
          "2-0",
          "1-1",
          "0-2",
          "3-0",
          "2-1",
          "1-2",
          "OUT",
          "3-1",
          "WALK",
          "2-2",
          "3-2"
         ],
         "textfont": {
          "color": "black",
          "family": "Arial",
          "size": 18
         },
         "textposition": "middle center",
         "type": "scatter",
         "x": [
          150,
          120,
          180,
          90,
          150,
          210,
          60,
          120,
          180,
          210,
          90,
          60,
          150,
          120
         ],
         "y": [
          900,
          750,
          750,
          600,
          600,
          600,
          450,
          450,
          450,
          0,
          300,
          0,
          300,
          150
         ]
        },
        {
         "hoverinfo": "none",
         "mode": "text",
         "text": [
          "<br></br>IN PLAY:<b>-2%</b>",
          "<br></br>IN PLAY:<b>+1%</b>",
          "<br></br>IN PLAY:<b>-5%</b>",
          "<br></br>IN PLAY:<b>+1%</b>",
          "<br></br>IN PLAY:<b>+4%</b>",
          "<br></br>IN PLAY:<b>-6%</b>",
          "<br></br>IN PLAY:<b>-10%</b>",
          "<br></br>IN PLAY:<b>+8%</b>",
          "<br></br>IN PLAY:<b>-6%</b>",
          "<br></br>IN PLAY:<b>0</b>",
          "<br></br>IN PLAY:<b>+3%</b>",
          "<br></br>IN PLAY:<b>0</b>",
          "<br></br>IN PLAY:<b>-5%</b>",
          "<br></br>IN PLAY:<b>+8%</b>"
         ],
         "textfont": {
          "color": "black",
          "family": "Arial",
          "size": 10
         },
         "textposition": "middle center",
         "type": "scatter",
         "x": [
          150,
          120,
          180,
          90,
          150,
          210,
          60,
          120,
          180,
          210,
          90,
          60,
          150,
          120
         ],
         "y": [
          900,
          750,
          750,
          600,
          600,
          600,
          450,
          450,
          450,
          0,
          300,
          0,
          300,
          150
         ]
        }
       ],
       "layout": {
        "annotations": [
         {
          "bgcolor": "white",
          "borderpad": 0,
          "font": {
           "color": "red",
           "family": "Arial",
           "size": 14
          },
          "showarrow": false,
          "text": "<b><i>-8%</b></i>",
          "x": 135,
          "xref": "x",
          "y": 825,
          "yref": "y"
         },
         {
          "bgcolor": "white",
          "borderpad": 0,
          "font": {
           "color": "blue",
           "family": "Arial",
           "size": 14
          },
          "showarrow": false,
          "text": "<b><i>-6%</b></i>",
          "x": 165,
          "xref": "x",
          "y": 825,
          "yref": "y"
         },
         {
          "bgcolor": "white",
          "borderpad": 0,
          "font": {
           "color": "blue",
           "family": "Arial",
           "size": 14
          },
          "showarrow": false,
          "text": "<b><i>+9%</b></i>",
          "x": 105,
          "xref": "x",
          "y": 675,
          "yref": "y"
         },
         {
          "bgcolor": "white",
          "borderpad": 0,
          "font": {
           "color": "blue",
           "family": "Arial",
           "size": 14
          },
          "showarrow": false,
          "text": "<b><i>-3%</b></i>",
          "x": 135,
          "xref": "x",
          "y": 675,
          "yref": "y"
         },
         {
          "bgcolor": "white",
          "borderpad": 0,
          "font": {
           "color": "blue",
           "family": "Arial",
           "size": 14
          },
          "showarrow": false,
          "text": "<b><i>+4%</b></i>",
          "x": 165,
          "xref": "x",
          "y": 675,
          "yref": "y"
         },
         {
          "bgcolor": "white",
          "borderpad": 0,
          "font": {
           "color": "blue",
           "family": "Arial",
           "size": 14
          },
          "showarrow": false,
          "text": "<b><i>0%</b></i>",
          "x": 195,
          "xref": "x",
          "y": 675,
          "yref": "y"
         },
         {
          "bgcolor": "white",
          "borderpad": 0,
          "font": {
           "color": "blue",
           "family": "Arial",
           "size": 14
          },
          "showarrow": false,
          "text": "<b><i>+4%</b></i>",
          "x": 75,
          "xref": "x",
          "y": 525,
          "yref": "y"
         },
         {
          "bgcolor": "white",
          "borderpad": 0,
          "font": {
           "color": "blue",
           "family": "Arial",
           "size": 14
          },
          "showarrow": false,
          "text": "<b><i>-3%</b></i>",
          "x": 105,
          "xref": "x",
          "y": 525,
          "yref": "y"
         },
         {
          "bgcolor": "white",
          "borderpad": 0,
          "font": {
           "color": "blue",
           "family": "Arial",
           "size": 14
          },
          "showarrow": false,
          "text": "<b><i>+3%</b></i>",
          "x": 135,
          "xref": "x",
          "y": 525,
          "yref": "y"
         },
         {
          "bgcolor": "white",
          "borderpad": 0,
          "font": {
           "color": "red",
           "family": "Arial",
           "size": 14
          },
          "showarrow": false,
          "text": "<b><i>+4%</b></i>",
          "x": 165,
          "xref": "x",
          "y": 525,
          "yref": "y"
         },
         {
          "bgcolor": "white",
          "borderpad": 0,
          "font": {
           "color": "blue",
           "family": "Arial",
           "size": 14
          },
          "showarrow": false,
          "text": "<b><i>+6%</b></i>",
          "x": 231,
          "xref": "x",
          "y": 605,
          "yref": "y"
         },
         {
          "bgcolor": "white",
          "borderpad": 0,
          "font": {
           "color": "blue",
           "family": "Arial",
           "size": 14
          },
          "showarrow": false,
          "text": "<b><i>+10%</b></i>",
          "x": 195,
          "xref": "x",
          "y": 525,
          "yref": "y"
         },
         {
          "bgcolor": "white",
          "borderpad": 0,
          "font": {
           "color": "red",
           "family": "Arial",
           "size": 14
          },
          "showarrow": false,
          "text": "<b><i>+3%</b></i>",
          "x": 210,
          "xref": "x",
          "y": 300,
          "yref": "y"
         },
         {
          "bgcolor": "white",
          "borderpad": 0,
          "font": {
           "color": "blue",
           "family": "Arial",
           "size": 14
          },
          "showarrow": false,
          "text": "<b><i>-8%</b></i>",
          "x": 75,
          "xref": "x",
          "y": 375,
          "yref": "y"
         },
         {
          "bgcolor": "white",
          "borderpad": 0,
          "font": {
           "color": "blue",
           "family": "Arial",
           "size": 14
          },
          "showarrow": false,
          "text": "<b><i>+8%</b></i>",
          "x": 60,
          "xref": "x",
          "y": 225,
          "yref": "y"
         },
         {
          "bgcolor": "white",
          "borderpad": 0,
          "font": {
           "color": "red",
           "family": "Arial",
           "size": 14
          },
          "showarrow": false,
          "text": "<b><i>-10%</b></i>",
          "x": 105,
          "xref": "x",
          "y": 375,
          "yref": "y"
         },
         {
          "bgcolor": "white",
          "borderpad": 0,
          "font": {
           "color": "blue",
           "family": "Arial",
           "size": 14
          },
          "showarrow": false,
          "text": "<b><i>0%</b></i>",
          "x": 135,
          "xref": "x",
          "y": 375,
          "yref": "y"
         },
         {
          "bgcolor": "white",
          "borderpad": 0,
          "font": {
           "color": "red",
           "family": "Arial",
           "size": 14
          },
          "showarrow": false,
          "text": "<b><i>-10%</b></i>",
          "x": 201,
          "xref": "x",
          "y": 455,
          "yref": "y"
         },
         {
          "bgcolor": "white",
          "borderpad": 0,
          "font": {
           "color": "blue",
           "family": "Arial",
           "size": 14
          },
          "showarrow": false,
          "text": "<b><i>+9%</b></i>",
          "x": 165,
          "xref": "x",
          "y": 375,
          "yref": "y"
         },
         {
          "bgcolor": "white",
          "borderpad": 0,
          "font": {
           "color": "red",
           "family": "Arial",
           "size": 14
          },
          "showarrow": false,
          "text": "<b><i>+8%</b></i>",
          "x": 195,
          "xref": "x",
          "y": 225,
          "yref": "y"
         },
         {
          "bgcolor": "white",
          "borderpad": 0,
          "font": {
           "color": "red",
           "family": "Arial",
           "size": 14
          },
          "showarrow": false,
          "text": "<b><i>+5%</b></i>",
          "x": 105,
          "xref": "x",
          "y": 225,
          "yref": "y"
         },
         {
          "bgcolor": "white",
          "borderpad": 0,
          "font": {
           "color": "blue",
           "family": "Arial",
           "size": 14
          },
          "showarrow": false,
          "text": "<b><i>+4%</b></i>",
          "x": 75,
          "xref": "x",
          "y": 150,
          "yref": "y"
         },
         {
          "bgcolor": "white",
          "borderpad": 0,
          "font": {
           "color": "blue",
           "family": "Arial",
           "size": 14
          },
          "showarrow": false,
          "text": "<b><i>+1%</b></i>",
          "x": 171,
          "xref": "x",
          "y": 305,
          "yref": "y"
         },
         {
          "bgcolor": "white",
          "borderpad": 0,
          "font": {
           "color": "blue",
           "family": "Arial",
           "size": 14
          },
          "showarrow": false,
          "text": "<b><i>+4%</b></i>",
          "x": 135,
          "xref": "x",
          "y": 225,
          "yref": "y"
         },
         {
          "bgcolor": "white",
          "borderpad": 0,
          "font": {
           "color": "blue",
           "family": "Arial",
           "size": 14
          },
          "showarrow": false,
          "text": "<b><i>-3%</b></i>",
          "x": 180,
          "xref": "x",
          "y": 150,
          "yref": "y"
         },
         {
          "bgcolor": "white",
          "borderpad": 0,
          "font": {
           "color": "blue",
           "family": "Arial",
           "size": 14
          },
          "showarrow": false,
          "text": "<b><i>+5%</b></i>",
          "x": 141,
          "xref": "x",
          "y": 155,
          "yref": "y"
         },
         {
          "bgcolor": "white",
          "borderpad": 0,
          "font": {
           "color": "red",
           "family": "Arial",
           "size": 14
          },
          "showarrow": false,
          "text": "<b><i>+10%</b></i>",
          "x": 165,
          "xref": "x",
          "y": 75,
          "yref": "y"
         },
         {
          "bgcolor": "white",
          "borderpad": 0,
          "font": {
           "color": "red",
           "family": "Arial",
           "size": 14
          },
          "showarrow": false,
          "text": "<b><i>-2%</b></i>",
          "x": 90,
          "xref": "x",
          "y": 75,
          "yref": "y"
         }
        ],
        "height": 900,
        "hovermode": "closest",
        "margin": {
         "b": 0,
         "l": 0,
         "pad": 0,
         "r": 0,
         "t": 0
        },
        "paper_bgcolor": "rgba(0,0,0,0)",
        "plot_bgcolor": "rgba(0,0,0,0)",
        "shapes": [
         {
          "line": {
           "color": "rgba(102,102,255,1)"
          },
          "path": "M 218.4220176436085,617.4220176436085 C 232.4220176436085,622.4220176436085 222.4220176436085,577.4220176436085 219.4220176436085,587.4220176436085",
          "type": "path"
         },
         {
          "line": {
           "color": "rgba(0,0,0,0.2)"
          },
          "path": "M 218.4220176436085,617.4220176436085 C 232.4220176436085,622.4220176436085 222.4220176436085,577.4220176436085 219.4220176436085,587.4220176436085",
          "type": "path"
         },
         {
          "line": {
           "color": "rgba(255,0,0,1)"
          },
          "path": "M 189.20617230493232,468.2061723049323 C 203.20617230493232,473.2061723049323 193.20617230493232,428.2061723049323 190.20617230493232,438.2061723049323",
          "type": "path"
         },
         {
          "line": {
           "color": "rgba(0,0,0,0.2)"
          },
          "path": "M 189.20617230493232,468.2061723049323 C 203.20617230493232,473.2061723049323 193.20617230493232,428.2061723049323 190.20617230493232,438.2061723049323",
          "type": "path"
         },
         {
          "line": {
           "color": "rgba(230,230,255,1)"
          },
          "path": "M 160.85577707332675,319.85577707332675 C 174.85577707332675,324.85577707332675 164.85577707332675,279.85577707332675 161.85577707332675,289.85577707332675",
          "type": "path"
         },
         {
          "line": {
           "color": "rgba(0,0,0,0.2)"
          },
          "path": "M 160.85577707332675,319.85577707332675 C 174.85577707332675,324.85577707332675 164.85577707332675,279.85577707332675 161.85577707332675,289.85577707332675",
          "type": "path"
         },
         {
          "line": {
           "color": "rgba(128,128,255,1)"
          },
          "path": "M 129.49572556150017,168.49572556150017 C 143.49572556150017,173.49572556150017 133.49572556150017,128.49572556150017 130.49572556150017,138.49572556150017",
          "type": "path"
         },
         {
          "line": {
           "color": "rgba(0,0,0,0.2)"
          },
          "path": "M 129.49572556150017,168.49572556150017 C 143.49572556150017,173.49572556150017 133.49572556150017,128.49572556150017 130.49572556150017,138.49572556150017",
          "type": "path"
         },
         {
          "fillcolor": "rgba(102,102,255,1)",
          "line": {
           "color": "rgba(102,102,255,1)",
           "width": 0
          },
          "path": "M 218.9220176436085,585.9220176436085 L 220.9220176436085,595.9220176436085 L 221.4220176436085,582.4220176436085 Z",
          "type": "path"
         },
         {
          "fillcolor": "rgba(0,0,0,0.2)",
          "line": {
           "color": "rgba(0,0,0,0.2)",
           "width": 0
          },
          "path": "M 218.9220176436085,585.9220176436085 L 220.9220176436085,595.9220176436085 L 221.4220176436085,582.4220176436085 Z",
          "type": "path"
         },
         {
          "fillcolor": "rgba(255,0,0,1)",
          "line": {
           "color": "rgba(255,0,0,1)",
           "width": 0
          },
          "path": "M 189.70617230493232,436.7061723049323 L 191.70617230493232,446.7061723049323 L 192.20617230493232,433.2061723049323 Z",
          "type": "path"
         },
         {
          "fillcolor": "rgba(0,0,0,0.2)",
          "line": {
           "color": "rgba(0,0,0,0.2)",
           "width": 0
          },
          "path": "M 189.70617230493232,436.7061723049323 L 191.70617230493232,446.7061723049323 L 192.20617230493232,433.2061723049323 Z",
          "type": "path"
         },
         {
          "fillcolor": "rgba(230,230,255,1)",
          "line": {
           "color": "rgba(230,230,255,1)",
           "width": 0
          },
          "path": "M 161.35577707332675,288.35577707332675 L 163.35577707332675,298.35577707332675 L 163.85577707332675,284.85577707332675 Z",
          "type": "path"
         },
         {
          "fillcolor": "rgba(0,0,0,0.2)",
          "line": {
           "color": "rgba(0,0,0,0.2)",
           "width": 0
          },
          "path": "M 161.35577707332675,288.35577707332675 L 163.35577707332675,298.35577707332675 L 163.85577707332675,284.85577707332675 Z",
          "type": "path"
         },
         {
          "fillcolor": "rgba(128,128,255,1)",
          "line": {
           "color": "rgba(128,128,255,1)",
           "width": 0
          },
          "path": "M 129.99572556150017,136.99572556150017 L 131.99572556150017,146.99572556150017 L 132.49572556150017,133.49572556150017 Z",
          "type": "path"
         },
         {
          "fillcolor": "rgba(0,0,0,0.2)",
          "line": {
           "color": "rgba(0,0,0,0.2)",
           "width": 0
          },
          "path": "M 129.99572556150017,136.99572556150017 L 131.99572556150017,146.99572556150017 L 132.49572556150017,133.49572556150017 Z",
          "type": "path"
         }
        ],
        "showlegend": false,
        "template": {
         "data": {
          "bar": [
           {
            "error_x": {
             "color": "#2a3f5f"
            },
            "error_y": {
             "color": "#2a3f5f"
            },
            "marker": {
             "line": {
              "color": "#E5ECF6",
              "width": 0.5
             },
             "pattern": {
              "fillmode": "overlay",
              "size": 10,
              "solidity": 0.2
             }
            },
            "type": "bar"
           }
          ],
          "barpolar": [
           {
            "marker": {
             "line": {
              "color": "#E5ECF6",
              "width": 0.5
             },
             "pattern": {
              "fillmode": "overlay",
              "size": 10,
              "solidity": 0.2
             }
            },
            "type": "barpolar"
           }
          ],
          "carpet": [
           {
            "aaxis": {
             "endlinecolor": "#2a3f5f",
             "gridcolor": "white",
             "linecolor": "white",
             "minorgridcolor": "white",
             "startlinecolor": "#2a3f5f"
            },
            "baxis": {
             "endlinecolor": "#2a3f5f",
             "gridcolor": "white",
             "linecolor": "white",
             "minorgridcolor": "white",
             "startlinecolor": "#2a3f5f"
            },
            "type": "carpet"
           }
          ],
          "choropleth": [
           {
            "colorbar": {
             "outlinewidth": 0,
             "ticks": ""
            },
            "type": "choropleth"
           }
          ],
          "contour": [
           {
            "colorbar": {
             "outlinewidth": 0,
             "ticks": ""
            },
            "colorscale": [
             [
              0,
              "#0d0887"
             ],
             [
              0.1111111111111111,
              "#46039f"
             ],
             [
              0.2222222222222222,
              "#7201a8"
             ],
             [
              0.3333333333333333,
              "#9c179e"
             ],
             [
              0.4444444444444444,
              "#bd3786"
             ],
             [
              0.5555555555555556,
              "#d8576b"
             ],
             [
              0.6666666666666666,
              "#ed7953"
             ],
             [
              0.7777777777777778,
              "#fb9f3a"
             ],
             [
              0.8888888888888888,
              "#fdca26"
             ],
             [
              1,
              "#f0f921"
             ]
            ],
            "type": "contour"
           }
          ],
          "contourcarpet": [
           {
            "colorbar": {
             "outlinewidth": 0,
             "ticks": ""
            },
            "type": "contourcarpet"
           }
          ],
          "heatmap": [
           {
            "colorbar": {
             "outlinewidth": 0,
             "ticks": ""
            },
            "colorscale": [
             [
              0,
              "#0d0887"
             ],
             [
              0.1111111111111111,
              "#46039f"
             ],
             [
              0.2222222222222222,
              "#7201a8"
             ],
             [
              0.3333333333333333,
              "#9c179e"
             ],
             [
              0.4444444444444444,
              "#bd3786"
             ],
             [
              0.5555555555555556,
              "#d8576b"
             ],
             [
              0.6666666666666666,
              "#ed7953"
             ],
             [
              0.7777777777777778,
              "#fb9f3a"
             ],
             [
              0.8888888888888888,
              "#fdca26"
             ],
             [
              1,
              "#f0f921"
             ]
            ],
            "type": "heatmap"
           }
          ],
          "heatmapgl": [
           {
            "colorbar": {
             "outlinewidth": 0,
             "ticks": ""
            },
            "colorscale": [
             [
              0,
              "#0d0887"
             ],
             [
              0.1111111111111111,
              "#46039f"
             ],
             [
              0.2222222222222222,
              "#7201a8"
             ],
             [
              0.3333333333333333,
              "#9c179e"
             ],
             [
              0.4444444444444444,
              "#bd3786"
             ],
             [
              0.5555555555555556,
              "#d8576b"
             ],
             [
              0.6666666666666666,
              "#ed7953"
             ],
             [
              0.7777777777777778,
              "#fb9f3a"
             ],
             [
              0.8888888888888888,
              "#fdca26"
             ],
             [
              1,
              "#f0f921"
             ]
            ],
            "type": "heatmapgl"
           }
          ],
          "histogram": [
           {
            "marker": {
             "pattern": {
              "fillmode": "overlay",
              "size": 10,
              "solidity": 0.2
             }
            },
            "type": "histogram"
           }
          ],
          "histogram2d": [
           {
            "colorbar": {
             "outlinewidth": 0,
             "ticks": ""
            },
            "colorscale": [
             [
              0,
              "#0d0887"
             ],
             [
              0.1111111111111111,
              "#46039f"
             ],
             [
              0.2222222222222222,
              "#7201a8"
             ],
             [
              0.3333333333333333,
              "#9c179e"
             ],
             [
              0.4444444444444444,
              "#bd3786"
             ],
             [
              0.5555555555555556,
              "#d8576b"
             ],
             [
              0.6666666666666666,
              "#ed7953"
             ],
             [
              0.7777777777777778,
              "#fb9f3a"
             ],
             [
              0.8888888888888888,
              "#fdca26"
             ],
             [
              1,
              "#f0f921"
             ]
            ],
            "type": "histogram2d"
           }
          ],
          "histogram2dcontour": [
           {
            "colorbar": {
             "outlinewidth": 0,
             "ticks": ""
            },
            "colorscale": [
             [
              0,
              "#0d0887"
             ],
             [
              0.1111111111111111,
              "#46039f"
             ],
             [
              0.2222222222222222,
              "#7201a8"
             ],
             [
              0.3333333333333333,
              "#9c179e"
             ],
             [
              0.4444444444444444,
              "#bd3786"
             ],
             [
              0.5555555555555556,
              "#d8576b"
             ],
             [
              0.6666666666666666,
              "#ed7953"
             ],
             [
              0.7777777777777778,
              "#fb9f3a"
             ],
             [
              0.8888888888888888,
              "#fdca26"
             ],
             [
              1,
              "#f0f921"
             ]
            ],
            "type": "histogram2dcontour"
           }
          ],
          "mesh3d": [
           {
            "colorbar": {
             "outlinewidth": 0,
             "ticks": ""
            },
            "type": "mesh3d"
           }
          ],
          "parcoords": [
           {
            "line": {
             "colorbar": {
              "outlinewidth": 0,
              "ticks": ""
             }
            },
            "type": "parcoords"
           }
          ],
          "pie": [
           {
            "automargin": true,
            "type": "pie"
           }
          ],
          "scatter": [
           {
            "fillpattern": {
             "fillmode": "overlay",
             "size": 10,
             "solidity": 0.2
            },
            "type": "scatter"
           }
          ],
          "scatter3d": [
           {
            "line": {
             "colorbar": {
              "outlinewidth": 0,
              "ticks": ""
             }
            },
            "marker": {
             "colorbar": {
              "outlinewidth": 0,
              "ticks": ""
             }
            },
            "type": "scatter3d"
           }
          ],
          "scattercarpet": [
           {
            "marker": {
             "colorbar": {
              "outlinewidth": 0,
              "ticks": ""
             }
            },
            "type": "scattercarpet"
           }
          ],
          "scattergeo": [
           {
            "marker": {
             "colorbar": {
              "outlinewidth": 0,
              "ticks": ""
             }
            },
            "type": "scattergeo"
           }
          ],
          "scattergl": [
           {
            "marker": {
             "colorbar": {
              "outlinewidth": 0,
              "ticks": ""
             }
            },
            "type": "scattergl"
           }
          ],
          "scattermapbox": [
           {
            "marker": {
             "colorbar": {
              "outlinewidth": 0,
              "ticks": ""
             }
            },
            "type": "scattermapbox"
           }
          ],
          "scatterpolar": [
           {
            "marker": {
             "colorbar": {
              "outlinewidth": 0,
              "ticks": ""
             }
            },
            "type": "scatterpolar"
           }
          ],
          "scatterpolargl": [
           {
            "marker": {
             "colorbar": {
              "outlinewidth": 0,
              "ticks": ""
             }
            },
            "type": "scatterpolargl"
           }
          ],
          "scatterternary": [
           {
            "marker": {
             "colorbar": {
              "outlinewidth": 0,
              "ticks": ""
             }
            },
            "type": "scatterternary"
           }
          ],
          "surface": [
           {
            "colorbar": {
             "outlinewidth": 0,
             "ticks": ""
            },
            "colorscale": [
             [
              0,
              "#0d0887"
             ],
             [
              0.1111111111111111,
              "#46039f"
             ],
             [
              0.2222222222222222,
              "#7201a8"
             ],
             [
              0.3333333333333333,
              "#9c179e"
             ],
             [
              0.4444444444444444,
              "#bd3786"
             ],
             [
              0.5555555555555556,
              "#d8576b"
             ],
             [
              0.6666666666666666,
              "#ed7953"
             ],
             [
              0.7777777777777778,
              "#fb9f3a"
             ],
             [
              0.8888888888888888,
              "#fdca26"
             ],
             [
              1,
              "#f0f921"
             ]
            ],
            "type": "surface"
           }
          ],
          "table": [
           {
            "cells": {
             "fill": {
              "color": "#EBF0F8"
             },
             "line": {
              "color": "white"
             }
            },
            "header": {
             "fill": {
              "color": "#C8D4E3"
             },
             "line": {
              "color": "white"
             }
            },
            "type": "table"
           }
          ]
         },
         "layout": {
          "annotationdefaults": {
           "arrowcolor": "#2a3f5f",
           "arrowhead": 0,
           "arrowwidth": 1
          },
          "autotypenumbers": "strict",
          "coloraxis": {
           "colorbar": {
            "outlinewidth": 0,
            "ticks": ""
           }
          },
          "colorscale": {
           "diverging": [
            [
             0,
             "#8e0152"
            ],
            [
             0.1,
             "#c51b7d"
            ],
            [
             0.2,
             "#de77ae"
            ],
            [
             0.3,
             "#f1b6da"
            ],
            [
             0.4,
             "#fde0ef"
            ],
            [
             0.5,
             "#f7f7f7"
            ],
            [
             0.6,
             "#e6f5d0"
            ],
            [
             0.7,
             "#b8e186"
            ],
            [
             0.8,
             "#7fbc41"
            ],
            [
             0.9,
             "#4d9221"
            ],
            [
             1,
             "#276419"
            ]
           ],
           "sequential": [
            [
             0,
             "#0d0887"
            ],
            [
             0.1111111111111111,
             "#46039f"
            ],
            [
             0.2222222222222222,
             "#7201a8"
            ],
            [
             0.3333333333333333,
             "#9c179e"
            ],
            [
             0.4444444444444444,
             "#bd3786"
            ],
            [
             0.5555555555555556,
             "#d8576b"
            ],
            [
             0.6666666666666666,
             "#ed7953"
            ],
            [
             0.7777777777777778,
             "#fb9f3a"
            ],
            [
             0.8888888888888888,
             "#fdca26"
            ],
            [
             1,
             "#f0f921"
            ]
           ],
           "sequentialminus": [
            [
             0,
             "#0d0887"
            ],
            [
             0.1111111111111111,
             "#46039f"
            ],
            [
             0.2222222222222222,
             "#7201a8"
            ],
            [
             0.3333333333333333,
             "#9c179e"
            ],
            [
             0.4444444444444444,
             "#bd3786"
            ],
            [
             0.5555555555555556,
             "#d8576b"
            ],
            [
             0.6666666666666666,
             "#ed7953"
            ],
            [
             0.7777777777777778,
             "#fb9f3a"
            ],
            [
             0.8888888888888888,
             "#fdca26"
            ],
            [
             1,
             "#f0f921"
            ]
           ]
          },
          "colorway": [
           "#636efa",
           "#EF553B",
           "#00cc96",
           "#ab63fa",
           "#FFA15A",
           "#19d3f3",
           "#FF6692",
           "#B6E880",
           "#FF97FF",
           "#FECB52"
          ],
          "font": {
           "color": "#2a3f5f"
          },
          "geo": {
           "bgcolor": "white",
           "lakecolor": "white",
           "landcolor": "#E5ECF6",
           "showlakes": true,
           "showland": true,
           "subunitcolor": "white"
          },
          "hoverlabel": {
           "align": "left"
          },
          "hovermode": "closest",
          "mapbox": {
           "style": "light"
          },
          "paper_bgcolor": "white",
          "plot_bgcolor": "#E5ECF6",
          "polar": {
           "angularaxis": {
            "gridcolor": "white",
            "linecolor": "white",
            "ticks": ""
           },
           "bgcolor": "#E5ECF6",
           "radialaxis": {
            "gridcolor": "white",
            "linecolor": "white",
            "ticks": ""
           }
          },
          "scene": {
           "xaxis": {
            "backgroundcolor": "#E5ECF6",
            "gridcolor": "white",
            "gridwidth": 2,
            "linecolor": "white",
            "showbackground": true,
            "ticks": "",
            "zerolinecolor": "white"
           },
           "yaxis": {
            "backgroundcolor": "#E5ECF6",
            "gridcolor": "white",
            "gridwidth": 2,
            "linecolor": "white",
            "showbackground": true,
            "ticks": "",
            "zerolinecolor": "white"
           },
           "zaxis": {
            "backgroundcolor": "#E5ECF6",
            "gridcolor": "white",
            "gridwidth": 2,
            "linecolor": "white",
            "showbackground": true,
            "ticks": "",
            "zerolinecolor": "white"
           }
          },
          "shapedefaults": {
           "line": {
            "color": "#2a3f5f"
           }
          },
          "ternary": {
           "aaxis": {
            "gridcolor": "white",
            "linecolor": "white",
            "ticks": ""
           },
           "baxis": {
            "gridcolor": "white",
            "linecolor": "white",
            "ticks": ""
           },
           "bgcolor": "#E5ECF6",
           "caxis": {
            "gridcolor": "white",
            "linecolor": "white",
            "ticks": ""
           }
          },
          "title": {
           "x": 0.05
          },
          "xaxis": {
           "automargin": true,
           "gridcolor": "white",
           "linecolor": "white",
           "ticks": "",
           "title": {
            "standoff": 15
           },
           "zerolinecolor": "white",
           "zerolinewidth": 2
          },
          "yaxis": {
           "automargin": true,
           "gridcolor": "white",
           "linecolor": "white",
           "ticks": "",
           "title": {
            "standoff": 15
           },
           "zerolinecolor": "white",
           "zerolinewidth": 2
          }
         }
        },
        "title": {
         "font": {
          "size": 16
         }
        },
        "width": 900,
        "xaxis": {
         "fixedrange": true,
         "scaleanchor": "y",
         "scaleratio": 5,
         "showgrid": false,
         "showticklabels": false,
         "zeroline": false
        },
        "yaxis": {
         "fixedrange": true,
         "scaleanchor": "x",
         "scaleratio": 1,
         "showgrid": false,
         "showticklabels": false,
         "zeroline": false
        }
       }
      }
     },
     "metadata": {},
     "output_type": "display_data"
    }
   ],
   "source": [
    "# Add loops to graph with arrow caps\n",
    "loops = []\n",
    "arrows = []\n",
    "two_strike_index = [5,8,12,13]\n",
    "for i in range(4):\n",
    "    node_size = node_trace['marker']['size'][two_strike_index[i]]/10\n",
    "    loop = dict(\n",
    "        start_pt = [pos[f'[{i},2]'][0]+node_size+1, pos[f'[{i},2]'][1]+node_size+10],\n",
    "        end_pt = [pos[f'[{i},2]'][0]+node_size+2, pos[f'[{i},2]'][1]+node_size-20],\n",
    "        control_pt1 = [pos[f'[{i},2]'][0]+node_size+15, pos[f'[{i},2]'][1]+node_size+15],\n",
    "        control_pt2 = [pos[f'[{i},2]'][0]+node_size+5, pos[f'[{i},2]'][1]+node_size-30]\n",
    "    )\n",
    "    loops.append(loop)\n",
    "    \n",
    "    arrow = dict(\n",
    "        type=\"path\",\n",
    "        path=f\"M {loop['end_pt'][0]-0.5},{loop['end_pt'][1]-1.5} L {loop['end_pt'][0]+1.5},{loop['end_pt'][1]+8.5} L {loop['end_pt'][0]+2},{loop['end_pt'][1]-5} Z\",\n",
    "        fillcolor=loop_edge_colors[i],\n",
    "        line=dict(color=loop_edge_colors[i]),\n",
    "        line_width=0\n",
    "    )\n",
    "    arrows.append(arrow)\n",
    "    \n",
    "    arrow = dict(\n",
    "    type=\"path\",\n",
    "    path=f\"M {loop['end_pt'][0]-0.5},{loop['end_pt'][1]-1.5} L {loop['end_pt'][0]+1.5},{loop['end_pt'][1]+8.5} L {loop['end_pt'][0]+2},{loop['end_pt'][1]-5} Z\",\n",
    "    fillcolor=\"rgba(0,0,0,0.2)\",\n",
    "    line=dict(color=\"rgba(0,0,0,0.2)\"),\n",
    "    line_width=0\n",
    "    )\n",
    "    arrows.append(arrow)\n",
    "    \n",
    "shapes = []\n",
    "for i,loop in enumerate(loops):\n",
    "    shapes.append(\n",
    "        dict(\n",
    "            type=\"path\",\n",
    "            path=f\"M {loop['start_pt'][0]},{loop['start_pt'][1]} C {loop['control_pt1'][0]},{loop['control_pt1'][1]} {loop['control_pt2'][0]},{loop['control_pt2'][1]} {loop['end_pt'][0]},{loop['end_pt'][1]}\",\n",
    "            line_color=loop_edge_colors[i],\n",
    "        )\n",
    "    )\n",
    "    shapes.append(\n",
    "        dict(\n",
    "            type=\"path\",\n",
    "            path=f\"M {loop['start_pt'][0]},{loop['start_pt'][1]} C {loop['control_pt1'][0]},{loop['control_pt1'][1]} {loop['control_pt2'][0]},{loop['control_pt2'][1]} {loop['end_pt'][0]},{loop['end_pt'][1]}\",\n",
    "            line_color=\"rgba(0,0,0,0.2)\"\n",
    "        )\n",
    "    )\n",
    "\n",
    "shapes.extend(arrows)\n",
    "fig.update_layout(shapes=shapes)"
   ]
  },
  {
   "cell_type": "code",
   "execution_count": 3717,
   "metadata": {},
   "outputs": [],
   "source": [
    "from dash import Dash, html, dcc, Input, Output, callback"
   ]
  },
  {
   "cell_type": "code",
   "execution_count": 3718,
   "metadata": {},
   "outputs": [],
   "source": [
    "\n",
    "app = Dash(__name__)\n",
    "app.layout = html.Div(children=[\n",
    "    html.Div('Pitching with Markov', style={'font-family': 'Arial', 'font-size': '24px', 'font-style': 'italic'}),\n",
    "    html.Div([\n",
    "        dcc.Dropdown(\n",
    "        id='player-dropdown',\n",
    "        options=[\n",
    "            {'label': 'Clayton Kershaw', 'value': 'kershaw'},\n",
    "            {'label': 'Lucas Giolito', 'value': 'giolito'},\n",
    "            {'label': 'Nathan Eovaldi', 'value': 'eovaldi'},\n",
    "            {'label': 'League Average', 'value': 'average'}\n",
    "        ],\n",
    "        value='average'\n",
    "        )\n",
    "    ], style={'width': '50%', 'display': 'inline-block','font-family': 'Arial', 'font-size': '16px'}),\n",
    "    dcc.Graph(\n",
    "        id='example-graph',\n",
    "        figure=fig)\n",
    "])\n"
   ]
  },
  {
   "cell_type": "code",
   "execution_count": 3719,
   "metadata": {},
   "outputs": [
    {
     "data": {
      "text/html": [
       "\n",
       "        <iframe\n",
       "            width=\"100%\"\n",
       "            height=\"650\"\n",
       "            src=\"http://127.0.0.1:8050/\"\n",
       "            frameborder=\"0\"\n",
       "            allowfullscreen\n",
       "        ></iframe>\n",
       "        "
      ],
      "text/plain": [
       "<IPython.lib.display.IFrame at 0x1f2e6958e80>"
      ]
     },
     "metadata": {},
     "output_type": "display_data"
    }
   ],
   "source": [
    "app.run(debug=True)\n"
   ]
  },
  {
   "cell_type": "code",
   "execution_count": null,
   "metadata": {},
   "outputs": [],
   "source": []
  },
  {
   "cell_type": "code",
   "execution_count": null,
   "metadata": {},
   "outputs": [],
   "source": []
  }
 ],
 "metadata": {
  "kernelspec": {
   "display_name": "Python 3",
   "language": "python",
   "name": "python3"
  },
  "language_info": {
   "codemirror_mode": {
    "name": "ipython",
    "version": 3
   },
   "file_extension": ".py",
   "mimetype": "text/x-python",
   "name": "python",
   "nbconvert_exporter": "python",
   "pygments_lexer": "ipython3",
   "version": "3.8.3"
  }
 },
 "nbformat": 4,
 "nbformat_minor": 2
}
