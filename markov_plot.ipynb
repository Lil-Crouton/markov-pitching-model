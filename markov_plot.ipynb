{
 "cells": [
  {
   "cell_type": "code",
   "execution_count": 183,
   "metadata": {},
   "outputs": [],
   "source": [
    "import pandas as pd\n",
    "import numpy as np\n",
    "import networkx as nx\n",
    "import plotly.graph_objects as go\n",
    "import plotly.offline as pyo"
   ]
  },
  {
   "cell_type": "code",
   "execution_count": 184,
   "metadata": {},
   "outputs": [
    {
     "data": {
      "text/html": [
       "<div>\n",
       "<style scoped>\n",
       "    .dataframe tbody tr th:only-of-type {\n",
       "        vertical-align: middle;\n",
       "    }\n",
       "\n",
       "    .dataframe tbody tr th {\n",
       "        vertical-align: top;\n",
       "    }\n",
       "\n",
       "    .dataframe thead th {\n",
       "        text-align: right;\n",
       "    }\n",
       "</style>\n",
       "<table border=\"1\" class=\"dataframe\">\n",
       "  <thead>\n",
       "    <tr style=\"text-align: right;\">\n",
       "      <th></th>\n",
       "      <th>Unnamed: 0</th>\n",
       "      <th>[0-0]</th>\n",
       "      <th>[1-0]</th>\n",
       "      <th>[0-1]</th>\n",
       "      <th>[2-0]</th>\n",
       "      <th>[1-1]</th>\n",
       "      <th>[0-2]</th>\n",
       "      <th>[3-0]</th>\n",
       "      <th>[2-1]</th>\n",
       "      <th>[1-2]</th>\n",
       "      <th>[3-1]</th>\n",
       "      <th>[2-2]</th>\n",
       "      <th>[3-2]</th>\n",
       "      <th>OUT</th>\n",
       "      <th>WALK</th>\n",
       "      <th>PLAY</th>\n",
       "    </tr>\n",
       "  </thead>\n",
       "  <tbody>\n",
       "    <tr>\n",
       "      <th>0</th>\n",
       "      <td>[0-0]</td>\n",
       "      <td>0.0</td>\n",
       "      <td>0.38</td>\n",
       "      <td>0.51</td>\n",
       "      <td>0.00</td>\n",
       "      <td>0.0</td>\n",
       "      <td>0.00</td>\n",
       "      <td>0.00</td>\n",
       "      <td>0.00</td>\n",
       "      <td>0.00</td>\n",
       "      <td>0.00</td>\n",
       "      <td>0.00</td>\n",
       "      <td>0.00</td>\n",
       "      <td>0.00</td>\n",
       "      <td>0.00</td>\n",
       "      <td>0.11</td>\n",
       "    </tr>\n",
       "    <tr>\n",
       "      <th>1</th>\n",
       "      <td>[1-0]</td>\n",
       "      <td>0.0</td>\n",
       "      <td>0.00</td>\n",
       "      <td>0.00</td>\n",
       "      <td>0.34</td>\n",
       "      <td>0.5</td>\n",
       "      <td>0.00</td>\n",
       "      <td>0.00</td>\n",
       "      <td>0.00</td>\n",
       "      <td>0.00</td>\n",
       "      <td>0.00</td>\n",
       "      <td>0.00</td>\n",
       "      <td>0.00</td>\n",
       "      <td>0.00</td>\n",
       "      <td>0.00</td>\n",
       "      <td>0.16</td>\n",
       "    </tr>\n",
       "    <tr>\n",
       "      <th>2</th>\n",
       "      <td>[0-1]</td>\n",
       "      <td>0.0</td>\n",
       "      <td>0.00</td>\n",
       "      <td>0.00</td>\n",
       "      <td>0.00</td>\n",
       "      <td>0.4</td>\n",
       "      <td>0.43</td>\n",
       "      <td>0.00</td>\n",
       "      <td>0.00</td>\n",
       "      <td>0.00</td>\n",
       "      <td>0.00</td>\n",
       "      <td>0.00</td>\n",
       "      <td>0.00</td>\n",
       "      <td>0.00</td>\n",
       "      <td>0.00</td>\n",
       "      <td>0.17</td>\n",
       "    </tr>\n",
       "    <tr>\n",
       "      <th>3</th>\n",
       "      <td>[2-0]</td>\n",
       "      <td>0.0</td>\n",
       "      <td>0.00</td>\n",
       "      <td>0.00</td>\n",
       "      <td>0.00</td>\n",
       "      <td>0.0</td>\n",
       "      <td>0.00</td>\n",
       "      <td>0.31</td>\n",
       "      <td>0.53</td>\n",
       "      <td>0.00</td>\n",
       "      <td>0.00</td>\n",
       "      <td>0.00</td>\n",
       "      <td>0.00</td>\n",
       "      <td>0.00</td>\n",
       "      <td>0.00</td>\n",
       "      <td>0.17</td>\n",
       "    </tr>\n",
       "    <tr>\n",
       "      <th>4</th>\n",
       "      <td>[1-1]</td>\n",
       "      <td>0.0</td>\n",
       "      <td>0.00</td>\n",
       "      <td>0.00</td>\n",
       "      <td>0.00</td>\n",
       "      <td>0.0</td>\n",
       "      <td>0.00</td>\n",
       "      <td>0.00</td>\n",
       "      <td>0.34</td>\n",
       "      <td>0.46</td>\n",
       "      <td>0.00</td>\n",
       "      <td>0.00</td>\n",
       "      <td>0.00</td>\n",
       "      <td>0.00</td>\n",
       "      <td>0.00</td>\n",
       "      <td>0.20</td>\n",
       "    </tr>\n",
       "    <tr>\n",
       "      <th>5</th>\n",
       "      <td>[0-2]</td>\n",
       "      <td>0.0</td>\n",
       "      <td>0.00</td>\n",
       "      <td>0.00</td>\n",
       "      <td>0.00</td>\n",
       "      <td>0.0</td>\n",
       "      <td>0.19</td>\n",
       "      <td>0.00</td>\n",
       "      <td>0.00</td>\n",
       "      <td>0.45</td>\n",
       "      <td>0.00</td>\n",
       "      <td>0.00</td>\n",
       "      <td>0.00</td>\n",
       "      <td>0.18</td>\n",
       "      <td>0.00</td>\n",
       "      <td>0.18</td>\n",
       "    </tr>\n",
       "    <tr>\n",
       "      <th>6</th>\n",
       "      <td>[3-0]</td>\n",
       "      <td>0.0</td>\n",
       "      <td>0.00</td>\n",
       "      <td>0.00</td>\n",
       "      <td>0.00</td>\n",
       "      <td>0.0</td>\n",
       "      <td>0.00</td>\n",
       "      <td>0.00</td>\n",
       "      <td>0.00</td>\n",
       "      <td>0.00</td>\n",
       "      <td>0.62</td>\n",
       "      <td>0.00</td>\n",
       "      <td>0.00</td>\n",
       "      <td>0.00</td>\n",
       "      <td>0.33</td>\n",
       "      <td>0.05</td>\n",
       "    </tr>\n",
       "    <tr>\n",
       "      <th>7</th>\n",
       "      <td>[2-1]</td>\n",
       "      <td>0.0</td>\n",
       "      <td>0.00</td>\n",
       "      <td>0.00</td>\n",
       "      <td>0.00</td>\n",
       "      <td>0.0</td>\n",
       "      <td>0.00</td>\n",
       "      <td>0.00</td>\n",
       "      <td>0.00</td>\n",
       "      <td>0.00</td>\n",
       "      <td>0.29</td>\n",
       "      <td>0.49</td>\n",
       "      <td>0.00</td>\n",
       "      <td>0.00</td>\n",
       "      <td>0.00</td>\n",
       "      <td>0.22</td>\n",
       "    </tr>\n",
       "    <tr>\n",
       "      <th>8</th>\n",
       "      <td>[1-2]</td>\n",
       "      <td>0.0</td>\n",
       "      <td>0.00</td>\n",
       "      <td>0.00</td>\n",
       "      <td>0.00</td>\n",
       "      <td>0.0</td>\n",
       "      <td>0.00</td>\n",
       "      <td>0.00</td>\n",
       "      <td>0.00</td>\n",
       "      <td>0.22</td>\n",
       "      <td>0.00</td>\n",
       "      <td>0.38</td>\n",
       "      <td>0.00</td>\n",
       "      <td>0.19</td>\n",
       "      <td>0.00</td>\n",
       "      <td>0.21</td>\n",
       "    </tr>\n",
       "    <tr>\n",
       "      <th>9</th>\n",
       "      <td>[3-1]</td>\n",
       "      <td>0.0</td>\n",
       "      <td>0.00</td>\n",
       "      <td>0.00</td>\n",
       "      <td>0.00</td>\n",
       "      <td>0.0</td>\n",
       "      <td>0.00</td>\n",
       "      <td>0.00</td>\n",
       "      <td>0.00</td>\n",
       "      <td>0.00</td>\n",
       "      <td>0.00</td>\n",
       "      <td>0.00</td>\n",
       "      <td>0.51</td>\n",
       "      <td>0.00</td>\n",
       "      <td>0.27</td>\n",
       "      <td>0.22</td>\n",
       "    </tr>\n",
       "    <tr>\n",
       "      <th>10</th>\n",
       "      <td>[2-2]</td>\n",
       "      <td>0.0</td>\n",
       "      <td>0.00</td>\n",
       "      <td>0.00</td>\n",
       "      <td>0.00</td>\n",
       "      <td>0.0</td>\n",
       "      <td>0.00</td>\n",
       "      <td>0.00</td>\n",
       "      <td>0.00</td>\n",
       "      <td>0.00</td>\n",
       "      <td>0.00</td>\n",
       "      <td>0.25</td>\n",
       "      <td>0.29</td>\n",
       "      <td>0.20</td>\n",
       "      <td>0.00</td>\n",
       "      <td>0.25</td>\n",
       "    </tr>\n",
       "    <tr>\n",
       "      <th>11</th>\n",
       "      <td>[3-2]</td>\n",
       "      <td>0.0</td>\n",
       "      <td>0.00</td>\n",
       "      <td>0.00</td>\n",
       "      <td>0.00</td>\n",
       "      <td>0.0</td>\n",
       "      <td>0.00</td>\n",
       "      <td>0.00</td>\n",
       "      <td>0.00</td>\n",
       "      <td>0.00</td>\n",
       "      <td>0.00</td>\n",
       "      <td>0.00</td>\n",
       "      <td>0.29</td>\n",
       "      <td>0.20</td>\n",
       "      <td>0.23</td>\n",
       "      <td>0.29</td>\n",
       "    </tr>\n",
       "    <tr>\n",
       "      <th>12</th>\n",
       "      <td>OUT</td>\n",
       "      <td>0.0</td>\n",
       "      <td>0.00</td>\n",
       "      <td>0.00</td>\n",
       "      <td>0.00</td>\n",
       "      <td>0.0</td>\n",
       "      <td>0.00</td>\n",
       "      <td>0.00</td>\n",
       "      <td>0.00</td>\n",
       "      <td>0.00</td>\n",
       "      <td>0.00</td>\n",
       "      <td>0.00</td>\n",
       "      <td>0.00</td>\n",
       "      <td>1.00</td>\n",
       "      <td>0.00</td>\n",
       "      <td>0.00</td>\n",
       "    </tr>\n",
       "    <tr>\n",
       "      <th>13</th>\n",
       "      <td>WALK</td>\n",
       "      <td>0.0</td>\n",
       "      <td>0.00</td>\n",
       "      <td>0.00</td>\n",
       "      <td>0.00</td>\n",
       "      <td>0.0</td>\n",
       "      <td>0.00</td>\n",
       "      <td>0.00</td>\n",
       "      <td>0.00</td>\n",
       "      <td>0.00</td>\n",
       "      <td>0.00</td>\n",
       "      <td>0.00</td>\n",
       "      <td>0.00</td>\n",
       "      <td>0.00</td>\n",
       "      <td>1.00</td>\n",
       "      <td>0.00</td>\n",
       "    </tr>\n",
       "    <tr>\n",
       "      <th>14</th>\n",
       "      <td>PLAY</td>\n",
       "      <td>0.0</td>\n",
       "      <td>0.00</td>\n",
       "      <td>0.00</td>\n",
       "      <td>0.00</td>\n",
       "      <td>0.0</td>\n",
       "      <td>0.00</td>\n",
       "      <td>0.00</td>\n",
       "      <td>0.00</td>\n",
       "      <td>0.00</td>\n",
       "      <td>0.00</td>\n",
       "      <td>0.00</td>\n",
       "      <td>0.00</td>\n",
       "      <td>0.00</td>\n",
       "      <td>0.00</td>\n",
       "      <td>1.00</td>\n",
       "    </tr>\n",
       "  </tbody>\n",
       "</table>\n",
       "</div>"
      ],
      "text/plain": [
       "   Unnamed: 0  [0-0]  [1-0]  [0-1]  [2-0]  [1-1]  [0-2]  [3-0]  [2-1]  [1-2]  \\\n",
       "0       [0-0]    0.0   0.38   0.51   0.00    0.0   0.00   0.00   0.00   0.00   \n",
       "1       [1-0]    0.0   0.00   0.00   0.34    0.5   0.00   0.00   0.00   0.00   \n",
       "2       [0-1]    0.0   0.00   0.00   0.00    0.4   0.43   0.00   0.00   0.00   \n",
       "3       [2-0]    0.0   0.00   0.00   0.00    0.0   0.00   0.31   0.53   0.00   \n",
       "4       [1-1]    0.0   0.00   0.00   0.00    0.0   0.00   0.00   0.34   0.46   \n",
       "5       [0-2]    0.0   0.00   0.00   0.00    0.0   0.19   0.00   0.00   0.45   \n",
       "6       [3-0]    0.0   0.00   0.00   0.00    0.0   0.00   0.00   0.00   0.00   \n",
       "7       [2-1]    0.0   0.00   0.00   0.00    0.0   0.00   0.00   0.00   0.00   \n",
       "8       [1-2]    0.0   0.00   0.00   0.00    0.0   0.00   0.00   0.00   0.22   \n",
       "9       [3-1]    0.0   0.00   0.00   0.00    0.0   0.00   0.00   0.00   0.00   \n",
       "10      [2-2]    0.0   0.00   0.00   0.00    0.0   0.00   0.00   0.00   0.00   \n",
       "11      [3-2]    0.0   0.00   0.00   0.00    0.0   0.00   0.00   0.00   0.00   \n",
       "12        OUT    0.0   0.00   0.00   0.00    0.0   0.00   0.00   0.00   0.00   \n",
       "13       WALK    0.0   0.00   0.00   0.00    0.0   0.00   0.00   0.00   0.00   \n",
       "14       PLAY    0.0   0.00   0.00   0.00    0.0   0.00   0.00   0.00   0.00   \n",
       "\n",
       "    [3-1]  [2-2]  [3-2]   OUT  WALK  PLAY  \n",
       "0    0.00   0.00   0.00  0.00  0.00  0.11  \n",
       "1    0.00   0.00   0.00  0.00  0.00  0.16  \n",
       "2    0.00   0.00   0.00  0.00  0.00  0.17  \n",
       "3    0.00   0.00   0.00  0.00  0.00  0.17  \n",
       "4    0.00   0.00   0.00  0.00  0.00  0.20  \n",
       "5    0.00   0.00   0.00  0.18  0.00  0.18  \n",
       "6    0.62   0.00   0.00  0.00  0.33  0.05  \n",
       "7    0.29   0.49   0.00  0.00  0.00  0.22  \n",
       "8    0.00   0.38   0.00  0.19  0.00  0.21  \n",
       "9    0.00   0.00   0.51  0.00  0.27  0.22  \n",
       "10   0.00   0.25   0.29  0.20  0.00  0.25  \n",
       "11   0.00   0.00   0.29  0.20  0.23  0.29  \n",
       "12   0.00   0.00   0.00  1.00  0.00  0.00  \n",
       "13   0.00   0.00   0.00  0.00  1.00  0.00  \n",
       "14   0.00   0.00   0.00  0.00  0.00  1.00  "
      ]
     },
     "execution_count": 184,
     "metadata": {},
     "output_type": "execute_result"
    }
   ],
   "source": [
    "df = pd.read_csv('master_df.csv')\n",
    "df.round(2)"
   ]
  },
  {
   "cell_type": "code",
   "execution_count": 185,
   "metadata": {},
   "outputs": [
    {
     "data": {
      "text/plain": [
       "0.3847416276111224"
      ]
     },
     "execution_count": 185,
     "metadata": {},
     "output_type": "execute_result"
    }
   ],
   "source": [
    "df.iloc[0]['[1-0]']"
   ]
  },
  {
   "cell_type": "code",
   "execution_count": 186,
   "metadata": {},
   "outputs": [
    {
     "data": {
      "text/plain": [
       "32.8"
      ]
     },
     "execution_count": 186,
     "metadata": {},
     "output_type": "execute_result"
    }
   ],
   "source": [
    "round(df.iloc[6]['WALK']*100, 1)\n",
    "\n",
    "# df.iloc[6]['WALK']"
   ]
  },
  {
   "cell_type": "code",
   "execution_count": 187,
   "metadata": {},
   "outputs": [],
   "source": [
    "G = nx.DiGraph()\n",
    "dec = 1\n",
    "# Define edges between nodes that reflect state transition matrix\n",
    "elist = [(1,2),(1,3),(2,4),(2,5),(3,5),(3,6),(4,7),(4,8),(5,8),(5,9),(6,6),(6,9),\\\n",
    "        (6,13),(7,10),(7,14),(8,10),(8,11),(9,9),(9,11),(9,13),(10,12),(10,14),\\\n",
    "        (11,11),(11,12),(11,13),(12,12),(12,13),(12,14)]\n",
    "\n",
    "labels = [f\"{round(df.iloc[0]['[1-0]']*100,dec)}%\",f\"{round(df.iloc[0]['[0-1]']*100,dec)}%\",f\"{round(df.iloc[1]['[2-0]']*100,dec)}%\",f\"{round(df.iloc[1]['[1-1]']*100,dec)}%\",\\\n",
    "          f\"{round(df.iloc[2]['[1-1]']*100,dec)}%\",f\"{round(df.iloc[2]['[0-2]']*100,dec)}%\",f\"{round(df.iloc[3]['[3-0]']*100,dec)}%\",f\"{round(df.iloc[3]['[2-1]']*100,dec)}%\",\\\n",
    "          f\"{round(df.iloc[4]['[2-1]']*100,dec)}%\",f\"{round(df.iloc[4]['[1-2]']*100,dec)}%\",f\"{round(df.iloc[5]['[0-2]']*100,dec)}%\",f\"{round(df.iloc[5]['[1-2]']*100,dec)}%\",\\\n",
    "          f\"{round(df.iloc[5]['OUT']*100,dec)}%\",f\"{round(df.iloc[6]['[3-1]']*100,dec)}%\",f\"{round(df.iloc[6]['WALK']*100,dec)}%\",f\"{round(df.iloc[7]['[3-1]']*100,dec)}%\",\\\n",
    "          f\"{round(df.iloc[7]['[2-2]']*100,dec)}%\",f\"{round(df.iloc[8]['[1-2]']*100,dec)}%\",f\"{round(df.iloc[8]['[2-2]']*100,dec)}%\",f\"{round(df.iloc[8]['OUT']*100,dec)}%\",\\\n",
    "          f\"{round(df.iloc[9]['[3-2]']*100,dec)}%\",f\"{round(df.iloc[9]['WALK']*100,dec)}%\",f\"{round(df.iloc[10]['[2-2]']*100,dec)}%\",f\"{round(df.iloc[10]['[3-2]']*100,dec)}%\",\\\n",
    "          f\"{round(df.iloc[10]['OUT']*100,dec)}%\",f\"{round(df.iloc[11]['[3-2]']*100,dec)}%\",f\"{round(df.iloc[11]['OUT']*100,dec)}%\",f\"{round(df.iloc[11]['WALK']*100,dec)}%\"]\n",
    "\n",
    "edges_with_labels = [(elist[i][0], elist[i][1], {'label': labels[i]}) for i in range(len(elist))]"
   ]
  },
  {
   "cell_type": "code",
   "execution_count": 188,
   "metadata": {},
   "outputs": [],
   "source": [
    "G.add_edges_from(edges_with_labels)\n",
    "label_mapping = {1:'[0,0]',2:'[1,0]',3:'[0,1]',4:'[2,0]',5:'[1,1]',6:'[0,2]',\\\n",
    "                 7:'[3,0]',8:'[2,1]',9:'[1,2]',10:'[3,1]',11:'[2,2]',12:'[3,2]',\\\n",
    "                    13:'OUT',14:'WALK'}\n",
    "G = nx.relabel_nodes(G, label_mapping)"
   ]
  },
  {
   "cell_type": "code",
   "execution_count": 189,
   "metadata": {},
   "outputs": [],
   "source": [
    "scale_factor = 1.5\n",
    "pos = {\n",
    "    '[0,0]': (150, 600*scale_factor),\n",
    "    '[0,1]': (180, 500*scale_factor),\n",
    "    '[1,0]': (120, 500*scale_factor),\n",
    "    '[1,1]': (150, 400*scale_factor),\n",
    "    '[0,2]': (210, 400*scale_factor),\n",
    "    '[2,0]': (90, 400*scale_factor),\n",
    "    '[1,2]': (180, 300*scale_factor),\n",
    "    '[2,1]': (120, 300*scale_factor),\n",
    "    '[2,2]': (150, 200*scale_factor),\n",
    "    '[3,0]': (60, 300*scale_factor),\n",
    "    '[3,1]': (90, 200*scale_factor),\n",
    "    '[3,2]': (120, 100*scale_factor),\n",
    "    'OUT': (180, 0),\n",
    "    'WALK': (90, 0)\n",
    "}"
   ]
  },
  {
   "cell_type": "code",
   "execution_count": 190,
   "metadata": {},
   "outputs": [],
   "source": [
    "# Create edge trace\n",
    "edge_trace = go.Scatter(\n",
    "    x=[],\n",
    "    y=[],\n",
    "    line = dict(width=2, color='black'),\n",
    "    hoverinfo='none',\n",
    "    mode='lines')\n",
    "\n",
    "edge_annotations = []"
   ]
  },
  {
   "cell_type": "code",
   "execution_count": 191,
   "metadata": {},
   "outputs": [],
   "source": [
    "# Add edges to edge Trace\n",
    "for edge in G.edges():\n",
    "    x0, y0 = pos[edge[0]]\n",
    "    x1, y1 = pos[edge[1]]\n",
    "    edge_trace['x'] += tuple([x0, x1, None])\n",
    "    edge_trace['y'] += tuple([y0, y1, None])\n",
    "\n",
    "    if edge[0] == edge[1]:\n",
    "        x_pos = x0+17\n",
    "        y_pos = y0+5\n",
    "    else:\n",
    "        x_pos = (x0+x1)/2 - 7\n",
    "        y_pos = (y0+y1)/2\n",
    "    # Edge annotations (midpoint for label placement)\n",
    "    edge_annotations.append(\n",
    "        dict(\n",
    "            x=x_pos,\n",
    "            y=y_pos,\n",
    "            xref='x',\n",
    "            yref='y',\n",
    "            text = str(G.edges[edge]['label']),\n",
    "            showarrow=False,\n",
    "            font=dict(color='black', size=10)\n",
    "        )\n",
    "    )"
   ]
  },
  {
   "cell_type": "code",
   "execution_count": 192,
   "metadata": {},
   "outputs": [],
   "source": [
    "# Create node trace\n",
    "node_trace = go.Scatter(\n",
    "    x=[],\n",
    "    y=[],\n",
    "    mode='markers+text',\n",
    "    hoverinfo='none',\n",
    "    marker=dict(\n",
    "        showscale=False,\n",
    "        color=[],\n",
    "        size=[],\n",
    "        symbol='circle',\n",
    "        line_width=1,\n",
    "        line_color='black',\n",
    "        opacity=1),\n",
    "    text=[],\n",
    "    textposition=\"middle center\",\n",
    "    textfont=dict(\n",
    "        family=\"Arial\",\n",
    "        size=14,\n",
    "        color=\"black\")\n",
    ")\n",
    "\n",
    "node_diameter = 60\n",
    "# Add nodes to node trace\n",
    "for node in G.nodes():\n",
    "    x,y = pos[node]\n",
    "    node_trace['x'] += tuple([x])\n",
    "    node_trace['y'] += tuple([y])\n",
    "    # Customize node size and color\n",
    "    node_trace['marker']['color'] += tuple(['lightgray'])\n",
    "    node_trace['marker']['size'] += tuple([node_diameter])\n",
    "    node_trace['text'] += tuple([str(node)])\n"
   ]
  },
  {
   "cell_type": "code",
   "execution_count": 193,
   "metadata": {},
   "outputs": [],
   "source": [
    "fig = go.Figure(data=[edge_trace, node_trace],\n",
    "                layout=go.Layout(\n",
    "                    width=700,\n",
    "                    height=1000,\n",
    "                    title='<br>State Transition Graph',\n",
    "                    titlefont_size=16,\n",
    "                    showlegend=False,\n",
    "                    hovermode='closest',\n",
    "                    margin=dict(b=20,l=5,r=5,t=40),\n",
    "                    annotations=edge_annotations,\n",
    "                    xaxis=dict(showgrid=False, zeroline=False, showticklabels=False, scaleanchor=\"y\", scaleratio=4),\n",
    "                    yaxis=dict(showgrid=False, zeroline=False, showticklabels=False, scaleanchor=\"x\", scaleratio=1)))"
   ]
  },
  {
   "cell_type": "code",
   "execution_count": 194,
   "metadata": {},
   "outputs": [
    {
     "data": {
      "application/vnd.plotly.v1+json": {
       "config": {
        "plotlyServerURL": "https://plot.ly"
       },
       "data": [
        {
         "hoverinfo": "none",
         "line": {
          "color": "black",
          "width": 2
         },
         "mode": "lines",
         "type": "scatter",
         "x": [
          150,
          120,
          null,
          150,
          180,
          null,
          120,
          90,
          null,
          120,
          150,
          null,
          180,
          150,
          null,
          180,
          210,
          null,
          90,
          60,
          null,
          90,
          120,
          null,
          150,
          120,
          null,
          150,
          180,
          null,
          210,
          210,
          null,
          210,
          180,
          null,
          210,
          180,
          null,
          60,
          90,
          null,
          60,
          90,
          null,
          120,
          90,
          null,
          120,
          150,
          null,
          180,
          180,
          null,
          180,
          150,
          null,
          180,
          180,
          null,
          90,
          120,
          null,
          90,
          90,
          null,
          150,
          150,
          null,
          150,
          120,
          null,
          150,
          180,
          null,
          120,
          120,
          null,
          120,
          180,
          null,
          120,
          90,
          null
         ],
         "y": [
          900,
          750,
          null,
          900,
          750,
          null,
          750,
          600,
          null,
          750,
          600,
          null,
          750,
          600,
          null,
          750,
          600,
          null,
          600,
          450,
          null,
          600,
          450,
          null,
          600,
          450,
          null,
          600,
          450,
          null,
          600,
          600,
          null,
          600,
          450,
          null,
          600,
          0,
          null,
          450,
          300,
          null,
          450,
          0,
          null,
          450,
          300,
          null,
          450,
          300,
          null,
          450,
          450,
          null,
          450,
          300,
          null,
          450,
          0,
          null,
          300,
          150,
          null,
          300,
          0,
          null,
          300,
          300,
          null,
          300,
          150,
          null,
          300,
          0,
          null,
          150,
          150,
          null,
          150,
          0,
          null,
          150,
          0,
          null
         ]
        },
        {
         "hoverinfo": "none",
         "marker": {
          "color": [
           "lightgray",
           "lightgray",
           "lightgray",
           "lightgray",
           "lightgray",
           "lightgray",
           "lightgray",
           "lightgray",
           "lightgray",
           "lightgray",
           "lightgray",
           "lightgray",
           "lightgray",
           "lightgray"
          ],
          "line": {
           "color": "black",
           "width": 1
          },
          "opacity": 1,
          "showscale": false,
          "size": [
           60,
           60,
           60,
           60,
           60,
           60,
           60,
           60,
           60,
           60,
           60,
           60,
           60,
           60
          ],
          "symbol": "circle"
         },
         "mode": "markers+text",
         "text": [
          "[0,0]",
          "[1,0]",
          "[0,1]",
          "[2,0]",
          "[1,1]",
          "[0,2]",
          "[3,0]",
          "[2,1]",
          "[1,2]",
          "OUT",
          "[3,1]",
          "WALK",
          "[2,2]",
          "[3,2]"
         ],
         "textfont": {
          "color": "black",
          "family": "Arial",
          "size": 14
         },
         "textposition": "middle center",
         "type": "scatter",
         "x": [
          150,
          120,
          180,
          90,
          150,
          210,
          60,
          120,
          180,
          180,
          90,
          90,
          150,
          120
         ],
         "y": [
          900,
          750,
          750,
          600,
          600,
          600,
          450,
          450,
          450,
          0,
          300,
          0,
          300,
          150
         ]
        }
       ],
       "layout": {
        "annotations": [
         {
          "font": {
           "color": "black",
           "size": 10
          },
          "showarrow": false,
          "text": "38.5%",
          "x": 128,
          "xref": "x",
          "y": 825,
          "yref": "y"
         },
         {
          "font": {
           "color": "black",
           "size": 10
          },
          "showarrow": false,
          "text": "50.5%",
          "x": 158,
          "xref": "x",
          "y": 825,
          "yref": "y"
         },
         {
          "font": {
           "color": "black",
           "size": 10
          },
          "showarrow": false,
          "text": "33.9%",
          "x": 98,
          "xref": "x",
          "y": 675,
          "yref": "y"
         },
         {
          "font": {
           "color": "black",
           "size": 10
          },
          "showarrow": false,
          "text": "50.4%",
          "x": 128,
          "xref": "x",
          "y": 675,
          "yref": "y"
         },
         {
          "font": {
           "color": "black",
           "size": 10
          },
          "showarrow": false,
          "text": "40.0%",
          "x": 158,
          "xref": "x",
          "y": 675,
          "yref": "y"
         },
         {
          "font": {
           "color": "black",
           "size": 10
          },
          "showarrow": false,
          "text": "42.8%",
          "x": 188,
          "xref": "x",
          "y": 675,
          "yref": "y"
         },
         {
          "font": {
           "color": "black",
           "size": 10
          },
          "showarrow": false,
          "text": "30.8%",
          "x": 68,
          "xref": "x",
          "y": 525,
          "yref": "y"
         },
         {
          "font": {
           "color": "black",
           "size": 10
          },
          "showarrow": false,
          "text": "52.6%",
          "x": 98,
          "xref": "x",
          "y": 525,
          "yref": "y"
         },
         {
          "font": {
           "color": "black",
           "size": 10
          },
          "showarrow": false,
          "text": "34.2%",
          "x": 128,
          "xref": "x",
          "y": 525,
          "yref": "y"
         },
         {
          "font": {
           "color": "black",
           "size": 10
          },
          "showarrow": false,
          "text": "45.7%",
          "x": 158,
          "xref": "x",
          "y": 525,
          "yref": "y"
         },
         {
          "font": {
           "color": "black",
           "size": 10
          },
          "showarrow": false,
          "text": "19.2%",
          "x": 227,
          "xref": "x",
          "y": 605,
          "yref": "y"
         },
         {
          "font": {
           "color": "black",
           "size": 10
          },
          "showarrow": false,
          "text": "44.6%",
          "x": 188,
          "xref": "x",
          "y": 525,
          "yref": "y"
         },
         {
          "font": {
           "color": "black",
           "size": 10
          },
          "showarrow": false,
          "text": "18.0%",
          "x": 188,
          "xref": "x",
          "y": 300,
          "yref": "y"
         },
         {
          "font": {
           "color": "black",
           "size": 10
          },
          "showarrow": false,
          "text": "62.2%",
          "x": 68,
          "xref": "x",
          "y": 375,
          "yref": "y"
         },
         {
          "font": {
           "color": "black",
           "size": 10
          },
          "showarrow": false,
          "text": "32.8%",
          "x": 68,
          "xref": "x",
          "y": 225,
          "yref": "y"
         },
         {
          "font": {
           "color": "black",
           "size": 10
          },
          "showarrow": false,
          "text": "29.3%",
          "x": 98,
          "xref": "x",
          "y": 375,
          "yref": "y"
         },
         {
          "font": {
           "color": "black",
           "size": 10
          },
          "showarrow": false,
          "text": "48.6%",
          "x": 128,
          "xref": "x",
          "y": 375,
          "yref": "y"
         },
         {
          "font": {
           "color": "black",
           "size": 10
          },
          "showarrow": false,
          "text": "21.9%",
          "x": 197,
          "xref": "x",
          "y": 455,
          "yref": "y"
         },
         {
          "font": {
           "color": "black",
           "size": 10
          },
          "showarrow": false,
          "text": "37.6%",
          "x": 158,
          "xref": "x",
          "y": 375,
          "yref": "y"
         },
         {
          "font": {
           "color": "black",
           "size": 10
          },
          "showarrow": false,
          "text": "19.4%",
          "x": 173,
          "xref": "x",
          "y": 225,
          "yref": "y"
         },
         {
          "font": {
           "color": "black",
           "size": 10
          },
          "showarrow": false,
          "text": "50.9%",
          "x": 98,
          "xref": "x",
          "y": 225,
          "yref": "y"
         },
         {
          "font": {
           "color": "black",
           "size": 10
          },
          "showarrow": false,
          "text": "27.4%",
          "x": 83,
          "xref": "x",
          "y": 150,
          "yref": "y"
         },
         {
          "font": {
           "color": "black",
           "size": 10
          },
          "showarrow": false,
          "text": "25.2%",
          "x": 167,
          "xref": "x",
          "y": 305,
          "yref": "y"
         },
         {
          "font": {
           "color": "black",
           "size": 10
          },
          "showarrow": false,
          "text": "29.5%",
          "x": 128,
          "xref": "x",
          "y": 225,
          "yref": "y"
         },
         {
          "font": {
           "color": "black",
           "size": 10
          },
          "showarrow": false,
          "text": "20.4%",
          "x": 158,
          "xref": "x",
          "y": 150,
          "yref": "y"
         },
         {
          "font": {
           "color": "black",
           "size": 10
          },
          "showarrow": false,
          "text": "28.6%",
          "x": 137,
          "xref": "x",
          "y": 155,
          "yref": "y"
         },
         {
          "font": {
           "color": "black",
           "size": 10
          },
          "showarrow": false,
          "text": "20.1%",
          "x": 143,
          "xref": "x",
          "y": 75,
          "yref": "y"
         },
         {
          "font": {
           "color": "black",
           "size": 10
          },
          "showarrow": false,
          "text": "22.7%",
          "x": 98,
          "xref": "x",
          "y": 75,
          "yref": "y"
         }
        ],
        "height": 1000,
        "hovermode": "closest",
        "margin": {
         "b": 20,
         "l": 5,
         "r": 5,
         "t": 40
        },
        "shapes": [
         {
          "line": {
           "color": "Black"
          },
          "path": "M 218, 620.0 C 250,623.0 225,575.0 220.5,593.0",
          "type": "path"
         },
         {
          "line": {
           "color": "Black"
          },
          "path": "M 188, 470.0 C 220,473.0 195,425.0 190.5,443.0",
          "type": "path"
         },
         {
          "line": {
           "color": "Black"
          },
          "path": "M 158, 320.0 C 190,323.0 165,275.0 160.5,293.0",
          "type": "path"
         },
         {
          "line": {
           "color": "Black"
          },
          "path": "M 128, 170.0 C 160,173.0 135,125.0 130.5,143.0",
          "type": "path"
         },
         {
          "fillcolor": "Black",
          "line": {
           "color": "Black"
          },
          "path": "M 220.5,592.0 L 223.5,594.0 L 222.5,586.0 Z",
          "type": "path"
         },
         {
          "fillcolor": "Black",
          "line": {
           "color": "Black"
          },
          "path": "M 190.5,442.0 L 193.5,444.0 L 192.5,436.0 Z",
          "type": "path"
         },
         {
          "fillcolor": "Black",
          "line": {
           "color": "Black"
          },
          "path": "M 160.5,292.0 L 163.5,294.0 L 162.5,286.0 Z",
          "type": "path"
         },
         {
          "fillcolor": "Black",
          "line": {
           "color": "Black"
          },
          "path": "M 130.5,142.0 L 133.5,144.0 L 132.5,136.0 Z",
          "type": "path"
         }
        ],
        "showlegend": false,
        "template": {
         "data": {
          "bar": [
           {
            "error_x": {
             "color": "#2a3f5f"
            },
            "error_y": {
             "color": "#2a3f5f"
            },
            "marker": {
             "line": {
              "color": "#E5ECF6",
              "width": 0.5
             },
             "pattern": {
              "fillmode": "overlay",
              "size": 10,
              "solidity": 0.2
             }
            },
            "type": "bar"
           }
          ],
          "barpolar": [
           {
            "marker": {
             "line": {
              "color": "#E5ECF6",
              "width": 0.5
             },
             "pattern": {
              "fillmode": "overlay",
              "size": 10,
              "solidity": 0.2
             }
            },
            "type": "barpolar"
           }
          ],
          "carpet": [
           {
            "aaxis": {
             "endlinecolor": "#2a3f5f",
             "gridcolor": "white",
             "linecolor": "white",
             "minorgridcolor": "white",
             "startlinecolor": "#2a3f5f"
            },
            "baxis": {
             "endlinecolor": "#2a3f5f",
             "gridcolor": "white",
             "linecolor": "white",
             "minorgridcolor": "white",
             "startlinecolor": "#2a3f5f"
            },
            "type": "carpet"
           }
          ],
          "choropleth": [
           {
            "colorbar": {
             "outlinewidth": 0,
             "ticks": ""
            },
            "type": "choropleth"
           }
          ],
          "contour": [
           {
            "colorbar": {
             "outlinewidth": 0,
             "ticks": ""
            },
            "colorscale": [
             [
              0,
              "#0d0887"
             ],
             [
              0.1111111111111111,
              "#46039f"
             ],
             [
              0.2222222222222222,
              "#7201a8"
             ],
             [
              0.3333333333333333,
              "#9c179e"
             ],
             [
              0.4444444444444444,
              "#bd3786"
             ],
             [
              0.5555555555555556,
              "#d8576b"
             ],
             [
              0.6666666666666666,
              "#ed7953"
             ],
             [
              0.7777777777777778,
              "#fb9f3a"
             ],
             [
              0.8888888888888888,
              "#fdca26"
             ],
             [
              1,
              "#f0f921"
             ]
            ],
            "type": "contour"
           }
          ],
          "contourcarpet": [
           {
            "colorbar": {
             "outlinewidth": 0,
             "ticks": ""
            },
            "type": "contourcarpet"
           }
          ],
          "heatmap": [
           {
            "colorbar": {
             "outlinewidth": 0,
             "ticks": ""
            },
            "colorscale": [
             [
              0,
              "#0d0887"
             ],
             [
              0.1111111111111111,
              "#46039f"
             ],
             [
              0.2222222222222222,
              "#7201a8"
             ],
             [
              0.3333333333333333,
              "#9c179e"
             ],
             [
              0.4444444444444444,
              "#bd3786"
             ],
             [
              0.5555555555555556,
              "#d8576b"
             ],
             [
              0.6666666666666666,
              "#ed7953"
             ],
             [
              0.7777777777777778,
              "#fb9f3a"
             ],
             [
              0.8888888888888888,
              "#fdca26"
             ],
             [
              1,
              "#f0f921"
             ]
            ],
            "type": "heatmap"
           }
          ],
          "heatmapgl": [
           {
            "colorbar": {
             "outlinewidth": 0,
             "ticks": ""
            },
            "colorscale": [
             [
              0,
              "#0d0887"
             ],
             [
              0.1111111111111111,
              "#46039f"
             ],
             [
              0.2222222222222222,
              "#7201a8"
             ],
             [
              0.3333333333333333,
              "#9c179e"
             ],
             [
              0.4444444444444444,
              "#bd3786"
             ],
             [
              0.5555555555555556,
              "#d8576b"
             ],
             [
              0.6666666666666666,
              "#ed7953"
             ],
             [
              0.7777777777777778,
              "#fb9f3a"
             ],
             [
              0.8888888888888888,
              "#fdca26"
             ],
             [
              1,
              "#f0f921"
             ]
            ],
            "type": "heatmapgl"
           }
          ],
          "histogram": [
           {
            "marker": {
             "pattern": {
              "fillmode": "overlay",
              "size": 10,
              "solidity": 0.2
             }
            },
            "type": "histogram"
           }
          ],
          "histogram2d": [
           {
            "colorbar": {
             "outlinewidth": 0,
             "ticks": ""
            },
            "colorscale": [
             [
              0,
              "#0d0887"
             ],
             [
              0.1111111111111111,
              "#46039f"
             ],
             [
              0.2222222222222222,
              "#7201a8"
             ],
             [
              0.3333333333333333,
              "#9c179e"
             ],
             [
              0.4444444444444444,
              "#bd3786"
             ],
             [
              0.5555555555555556,
              "#d8576b"
             ],
             [
              0.6666666666666666,
              "#ed7953"
             ],
             [
              0.7777777777777778,
              "#fb9f3a"
             ],
             [
              0.8888888888888888,
              "#fdca26"
             ],
             [
              1,
              "#f0f921"
             ]
            ],
            "type": "histogram2d"
           }
          ],
          "histogram2dcontour": [
           {
            "colorbar": {
             "outlinewidth": 0,
             "ticks": ""
            },
            "colorscale": [
             [
              0,
              "#0d0887"
             ],
             [
              0.1111111111111111,
              "#46039f"
             ],
             [
              0.2222222222222222,
              "#7201a8"
             ],
             [
              0.3333333333333333,
              "#9c179e"
             ],
             [
              0.4444444444444444,
              "#bd3786"
             ],
             [
              0.5555555555555556,
              "#d8576b"
             ],
             [
              0.6666666666666666,
              "#ed7953"
             ],
             [
              0.7777777777777778,
              "#fb9f3a"
             ],
             [
              0.8888888888888888,
              "#fdca26"
             ],
             [
              1,
              "#f0f921"
             ]
            ],
            "type": "histogram2dcontour"
           }
          ],
          "mesh3d": [
           {
            "colorbar": {
             "outlinewidth": 0,
             "ticks": ""
            },
            "type": "mesh3d"
           }
          ],
          "parcoords": [
           {
            "line": {
             "colorbar": {
              "outlinewidth": 0,
              "ticks": ""
             }
            },
            "type": "parcoords"
           }
          ],
          "pie": [
           {
            "automargin": true,
            "type": "pie"
           }
          ],
          "scatter": [
           {
            "fillpattern": {
             "fillmode": "overlay",
             "size": 10,
             "solidity": 0.2
            },
            "type": "scatter"
           }
          ],
          "scatter3d": [
           {
            "line": {
             "colorbar": {
              "outlinewidth": 0,
              "ticks": ""
             }
            },
            "marker": {
             "colorbar": {
              "outlinewidth": 0,
              "ticks": ""
             }
            },
            "type": "scatter3d"
           }
          ],
          "scattercarpet": [
           {
            "marker": {
             "colorbar": {
              "outlinewidth": 0,
              "ticks": ""
             }
            },
            "type": "scattercarpet"
           }
          ],
          "scattergeo": [
           {
            "marker": {
             "colorbar": {
              "outlinewidth": 0,
              "ticks": ""
             }
            },
            "type": "scattergeo"
           }
          ],
          "scattergl": [
           {
            "marker": {
             "colorbar": {
              "outlinewidth": 0,
              "ticks": ""
             }
            },
            "type": "scattergl"
           }
          ],
          "scattermapbox": [
           {
            "marker": {
             "colorbar": {
              "outlinewidth": 0,
              "ticks": ""
             }
            },
            "type": "scattermapbox"
           }
          ],
          "scatterpolar": [
           {
            "marker": {
             "colorbar": {
              "outlinewidth": 0,
              "ticks": ""
             }
            },
            "type": "scatterpolar"
           }
          ],
          "scatterpolargl": [
           {
            "marker": {
             "colorbar": {
              "outlinewidth": 0,
              "ticks": ""
             }
            },
            "type": "scatterpolargl"
           }
          ],
          "scatterternary": [
           {
            "marker": {
             "colorbar": {
              "outlinewidth": 0,
              "ticks": ""
             }
            },
            "type": "scatterternary"
           }
          ],
          "surface": [
           {
            "colorbar": {
             "outlinewidth": 0,
             "ticks": ""
            },
            "colorscale": [
             [
              0,
              "#0d0887"
             ],
             [
              0.1111111111111111,
              "#46039f"
             ],
             [
              0.2222222222222222,
              "#7201a8"
             ],
             [
              0.3333333333333333,
              "#9c179e"
             ],
             [
              0.4444444444444444,
              "#bd3786"
             ],
             [
              0.5555555555555556,
              "#d8576b"
             ],
             [
              0.6666666666666666,
              "#ed7953"
             ],
             [
              0.7777777777777778,
              "#fb9f3a"
             ],
             [
              0.8888888888888888,
              "#fdca26"
             ],
             [
              1,
              "#f0f921"
             ]
            ],
            "type": "surface"
           }
          ],
          "table": [
           {
            "cells": {
             "fill": {
              "color": "#EBF0F8"
             },
             "line": {
              "color": "white"
             }
            },
            "header": {
             "fill": {
              "color": "#C8D4E3"
             },
             "line": {
              "color": "white"
             }
            },
            "type": "table"
           }
          ]
         },
         "layout": {
          "annotationdefaults": {
           "arrowcolor": "#2a3f5f",
           "arrowhead": 0,
           "arrowwidth": 1
          },
          "autotypenumbers": "strict",
          "coloraxis": {
           "colorbar": {
            "outlinewidth": 0,
            "ticks": ""
           }
          },
          "colorscale": {
           "diverging": [
            [
             0,
             "#8e0152"
            ],
            [
             0.1,
             "#c51b7d"
            ],
            [
             0.2,
             "#de77ae"
            ],
            [
             0.3,
             "#f1b6da"
            ],
            [
             0.4,
             "#fde0ef"
            ],
            [
             0.5,
             "#f7f7f7"
            ],
            [
             0.6,
             "#e6f5d0"
            ],
            [
             0.7,
             "#b8e186"
            ],
            [
             0.8,
             "#7fbc41"
            ],
            [
             0.9,
             "#4d9221"
            ],
            [
             1,
             "#276419"
            ]
           ],
           "sequential": [
            [
             0,
             "#0d0887"
            ],
            [
             0.1111111111111111,
             "#46039f"
            ],
            [
             0.2222222222222222,
             "#7201a8"
            ],
            [
             0.3333333333333333,
             "#9c179e"
            ],
            [
             0.4444444444444444,
             "#bd3786"
            ],
            [
             0.5555555555555556,
             "#d8576b"
            ],
            [
             0.6666666666666666,
             "#ed7953"
            ],
            [
             0.7777777777777778,
             "#fb9f3a"
            ],
            [
             0.8888888888888888,
             "#fdca26"
            ],
            [
             1,
             "#f0f921"
            ]
           ],
           "sequentialminus": [
            [
             0,
             "#0d0887"
            ],
            [
             0.1111111111111111,
             "#46039f"
            ],
            [
             0.2222222222222222,
             "#7201a8"
            ],
            [
             0.3333333333333333,
             "#9c179e"
            ],
            [
             0.4444444444444444,
             "#bd3786"
            ],
            [
             0.5555555555555556,
             "#d8576b"
            ],
            [
             0.6666666666666666,
             "#ed7953"
            ],
            [
             0.7777777777777778,
             "#fb9f3a"
            ],
            [
             0.8888888888888888,
             "#fdca26"
            ],
            [
             1,
             "#f0f921"
            ]
           ]
          },
          "colorway": [
           "#636efa",
           "#EF553B",
           "#00cc96",
           "#ab63fa",
           "#FFA15A",
           "#19d3f3",
           "#FF6692",
           "#B6E880",
           "#FF97FF",
           "#FECB52"
          ],
          "font": {
           "color": "#2a3f5f"
          },
          "geo": {
           "bgcolor": "white",
           "lakecolor": "white",
           "landcolor": "#E5ECF6",
           "showlakes": true,
           "showland": true,
           "subunitcolor": "white"
          },
          "hoverlabel": {
           "align": "left"
          },
          "hovermode": "closest",
          "mapbox": {
           "style": "light"
          },
          "paper_bgcolor": "white",
          "plot_bgcolor": "#E5ECF6",
          "polar": {
           "angularaxis": {
            "gridcolor": "white",
            "linecolor": "white",
            "ticks": ""
           },
           "bgcolor": "#E5ECF6",
           "radialaxis": {
            "gridcolor": "white",
            "linecolor": "white",
            "ticks": ""
           }
          },
          "scene": {
           "xaxis": {
            "backgroundcolor": "#E5ECF6",
            "gridcolor": "white",
            "gridwidth": 2,
            "linecolor": "white",
            "showbackground": true,
            "ticks": "",
            "zerolinecolor": "white"
           },
           "yaxis": {
            "backgroundcolor": "#E5ECF6",
            "gridcolor": "white",
            "gridwidth": 2,
            "linecolor": "white",
            "showbackground": true,
            "ticks": "",
            "zerolinecolor": "white"
           },
           "zaxis": {
            "backgroundcolor": "#E5ECF6",
            "gridcolor": "white",
            "gridwidth": 2,
            "linecolor": "white",
            "showbackground": true,
            "ticks": "",
            "zerolinecolor": "white"
           }
          },
          "shapedefaults": {
           "line": {
            "color": "#2a3f5f"
           }
          },
          "ternary": {
           "aaxis": {
            "gridcolor": "white",
            "linecolor": "white",
            "ticks": ""
           },
           "baxis": {
            "gridcolor": "white",
            "linecolor": "white",
            "ticks": ""
           },
           "bgcolor": "#E5ECF6",
           "caxis": {
            "gridcolor": "white",
            "linecolor": "white",
            "ticks": ""
           }
          },
          "title": {
           "x": 0.05
          },
          "xaxis": {
           "automargin": true,
           "gridcolor": "white",
           "linecolor": "white",
           "ticks": "",
           "title": {
            "standoff": 15
           },
           "zerolinecolor": "white",
           "zerolinewidth": 2
          },
          "yaxis": {
           "automargin": true,
           "gridcolor": "white",
           "linecolor": "white",
           "ticks": "",
           "title": {
            "standoff": 15
           },
           "zerolinecolor": "white",
           "zerolinewidth": 2
          }
         }
        },
        "title": {
         "font": {
          "size": 16
         },
         "text": "<br>State Transition Graph"
        },
        "width": 700,
        "xaxis": {
         "scaleanchor": "y",
         "scaleratio": 4,
         "showgrid": false,
         "showticklabels": false,
         "zeroline": false
        },
        "yaxis": {
         "scaleanchor": "x",
         "scaleratio": 1,
         "showgrid": false,
         "showticklabels": false,
         "zeroline": false
        }
       }
      }
     },
     "metadata": {},
     "output_type": "display_data"
    }
   ],
   "source": [
    "# Add loops to graph with arrow caps\n",
    "loops = []\n",
    "arrows = []\n",
    "\n",
    "for i in range(4):\n",
    "    loop = dict(\n",
    "        start_pt = [pos[f'[{i},2]'][0]+8, pos[f'[{i},2]'][1]+20],\n",
    "        end_pt = [pos[f'[{i},2]'][0]+10.5, pos[f'[{i},2]'][1]-7],\n",
    "        control_pt1 = [pos[f'[{i},2]'][0]+40, pos[f'[{i},2]'][1]+23],\n",
    "        control_pt2 = [pos[f'[{i},2]'][0]+15, pos[f'[{i},2]'][1]-25]\n",
    "    )\n",
    "    loops.append(loop)\n",
    "    \n",
    "    arrow = dict(\n",
    "        type=\"path\",\n",
    "        path=f\"M {loop['end_pt'][0]},{loop['end_pt'][1]-1} L {loop['end_pt'][0]+3},{loop['end_pt'][1]+1} L {loop['end_pt'][0]+2},{loop['end_pt'][1]-7} Z\",\n",
    "        fillcolor=\"Black\",\n",
    "        line=dict(color=\"Black\")\n",
    "    )\n",
    "    arrows.append(arrow)\n",
    "\n",
    "shapes = [\n",
    "    dict(\n",
    "        type='path',\n",
    "        path=f\"M {loop['start_pt'][0]}, {loop['start_pt'][1]} C {loop['control_pt1'][0]},{loop['control_pt1'][1]} {loop['control_pt2'][0]},{loop['control_pt2'][1]} {loop['end_pt'][0]},{loop['end_pt'][1]}\",\n",
    "        line_color=\"Black\"\n",
    "    ) for loop in loops\n",
    "]\n",
    "\n",
    "shapes.extend(arrows)\n",
    "\n",
    "fig.update_layout(shapes=shapes)\n",
    "fig.show()"
   ]
  },
  {
   "cell_type": "code",
   "execution_count": 195,
   "metadata": {},
   "outputs": [
    {
     "data": {
      "text/html": [
       "<div>\n",
       "<style scoped>\n",
       "    .dataframe tbody tr th:only-of-type {\n",
       "        vertical-align: middle;\n",
       "    }\n",
       "\n",
       "    .dataframe tbody tr th {\n",
       "        vertical-align: top;\n",
       "    }\n",
       "\n",
       "    .dataframe thead th {\n",
       "        text-align: right;\n",
       "    }\n",
       "</style>\n",
       "<table border=\"1\" class=\"dataframe\">\n",
       "  <thead>\n",
       "    <tr style=\"text-align: right;\">\n",
       "      <th></th>\n",
       "      <th>Unnamed: 0</th>\n",
       "      <th>[0-0]</th>\n",
       "      <th>[1-0]</th>\n",
       "      <th>[0-1]</th>\n",
       "      <th>[2-0]</th>\n",
       "      <th>[1-1]</th>\n",
       "      <th>[0-2]</th>\n",
       "      <th>[3-0]</th>\n",
       "      <th>[2-1]</th>\n",
       "      <th>[1-2]</th>\n",
       "      <th>[3-1]</th>\n",
       "      <th>[2-2]</th>\n",
       "      <th>[3-2]</th>\n",
       "      <th>OUT</th>\n",
       "      <th>WALK</th>\n",
       "      <th>PLAY</th>\n",
       "    </tr>\n",
       "  </thead>\n",
       "  <tbody>\n",
       "    <tr>\n",
       "      <th>0</th>\n",
       "      <td>[0-0]</td>\n",
       "      <td>0.0</td>\n",
       "      <td>0.384742</td>\n",
       "      <td>0.505058</td>\n",
       "      <td>0.000000</td>\n",
       "      <td>0.000000</td>\n",
       "      <td>0.000000</td>\n",
       "      <td>0.000000</td>\n",
       "      <td>0.00000</td>\n",
       "      <td>0.000000</td>\n",
       "      <td>0.000000</td>\n",
       "      <td>0.000000</td>\n",
       "      <td>0.000000</td>\n",
       "      <td>0.000000</td>\n",
       "      <td>0.000000</td>\n",
       "      <td>0.110200</td>\n",
       "    </tr>\n",
       "    <tr>\n",
       "      <th>1</th>\n",
       "      <td>[1-0]</td>\n",
       "      <td>0.0</td>\n",
       "      <td>0.000000</td>\n",
       "      <td>0.000000</td>\n",
       "      <td>0.339095</td>\n",
       "      <td>0.504149</td>\n",
       "      <td>0.000000</td>\n",
       "      <td>0.000000</td>\n",
       "      <td>0.00000</td>\n",
       "      <td>0.000000</td>\n",
       "      <td>0.000000</td>\n",
       "      <td>0.000000</td>\n",
       "      <td>0.000000</td>\n",
       "      <td>0.000000</td>\n",
       "      <td>0.000000</td>\n",
       "      <td>0.156756</td>\n",
       "    </tr>\n",
       "    <tr>\n",
       "      <th>2</th>\n",
       "      <td>[0-1]</td>\n",
       "      <td>0.0</td>\n",
       "      <td>0.000000</td>\n",
       "      <td>0.000000</td>\n",
       "      <td>0.000000</td>\n",
       "      <td>0.399567</td>\n",
       "      <td>0.428437</td>\n",
       "      <td>0.000000</td>\n",
       "      <td>0.00000</td>\n",
       "      <td>0.000000</td>\n",
       "      <td>0.000000</td>\n",
       "      <td>0.000000</td>\n",
       "      <td>0.000000</td>\n",
       "      <td>0.000000</td>\n",
       "      <td>0.000000</td>\n",
       "      <td>0.171996</td>\n",
       "    </tr>\n",
       "    <tr>\n",
       "      <th>3</th>\n",
       "      <td>[2-0]</td>\n",
       "      <td>0.0</td>\n",
       "      <td>0.000000</td>\n",
       "      <td>0.000000</td>\n",
       "      <td>0.000000</td>\n",
       "      <td>0.000000</td>\n",
       "      <td>0.000000</td>\n",
       "      <td>0.307915</td>\n",
       "      <td>0.52583</td>\n",
       "      <td>0.000000</td>\n",
       "      <td>0.000000</td>\n",
       "      <td>0.000000</td>\n",
       "      <td>0.000000</td>\n",
       "      <td>0.000000</td>\n",
       "      <td>0.000000</td>\n",
       "      <td>0.166255</td>\n",
       "    </tr>\n",
       "    <tr>\n",
       "      <th>4</th>\n",
       "      <td>[1-1]</td>\n",
       "      <td>0.0</td>\n",
       "      <td>0.000000</td>\n",
       "      <td>0.000000</td>\n",
       "      <td>0.000000</td>\n",
       "      <td>0.000000</td>\n",
       "      <td>0.000000</td>\n",
       "      <td>0.000000</td>\n",
       "      <td>0.34207</td>\n",
       "      <td>0.457224</td>\n",
       "      <td>0.000000</td>\n",
       "      <td>0.000000</td>\n",
       "      <td>0.000000</td>\n",
       "      <td>0.000000</td>\n",
       "      <td>0.000000</td>\n",
       "      <td>0.200706</td>\n",
       "    </tr>\n",
       "    <tr>\n",
       "      <th>5</th>\n",
       "      <td>[0-2]</td>\n",
       "      <td>0.0</td>\n",
       "      <td>0.000000</td>\n",
       "      <td>0.000000</td>\n",
       "      <td>0.000000</td>\n",
       "      <td>0.000000</td>\n",
       "      <td>0.191946</td>\n",
       "      <td>0.000000</td>\n",
       "      <td>0.00000</td>\n",
       "      <td>0.445687</td>\n",
       "      <td>0.000000</td>\n",
       "      <td>0.000000</td>\n",
       "      <td>0.000000</td>\n",
       "      <td>0.179771</td>\n",
       "      <td>0.000000</td>\n",
       "      <td>0.182596</td>\n",
       "    </tr>\n",
       "    <tr>\n",
       "      <th>6</th>\n",
       "      <td>[3-0]</td>\n",
       "      <td>0.0</td>\n",
       "      <td>0.000000</td>\n",
       "      <td>0.000000</td>\n",
       "      <td>0.000000</td>\n",
       "      <td>0.000000</td>\n",
       "      <td>0.000000</td>\n",
       "      <td>0.000000</td>\n",
       "      <td>0.00000</td>\n",
       "      <td>0.000000</td>\n",
       "      <td>0.621682</td>\n",
       "      <td>0.000000</td>\n",
       "      <td>0.000000</td>\n",
       "      <td>0.000000</td>\n",
       "      <td>0.328423</td>\n",
       "      <td>0.049896</td>\n",
       "    </tr>\n",
       "    <tr>\n",
       "      <th>7</th>\n",
       "      <td>[2-1]</td>\n",
       "      <td>0.0</td>\n",
       "      <td>0.000000</td>\n",
       "      <td>0.000000</td>\n",
       "      <td>0.000000</td>\n",
       "      <td>0.000000</td>\n",
       "      <td>0.000000</td>\n",
       "      <td>0.000000</td>\n",
       "      <td>0.00000</td>\n",
       "      <td>0.000000</td>\n",
       "      <td>0.293463</td>\n",
       "      <td>0.485840</td>\n",
       "      <td>0.000000</td>\n",
       "      <td>0.000000</td>\n",
       "      <td>0.000000</td>\n",
       "      <td>0.220697</td>\n",
       "    </tr>\n",
       "    <tr>\n",
       "      <th>8</th>\n",
       "      <td>[1-2]</td>\n",
       "      <td>0.0</td>\n",
       "      <td>0.000000</td>\n",
       "      <td>0.000000</td>\n",
       "      <td>0.000000</td>\n",
       "      <td>0.000000</td>\n",
       "      <td>0.000000</td>\n",
       "      <td>0.000000</td>\n",
       "      <td>0.00000</td>\n",
       "      <td>0.219307</td>\n",
       "      <td>0.000000</td>\n",
       "      <td>0.376137</td>\n",
       "      <td>0.000000</td>\n",
       "      <td>0.193883</td>\n",
       "      <td>0.000000</td>\n",
       "      <td>0.210672</td>\n",
       "    </tr>\n",
       "    <tr>\n",
       "      <th>9</th>\n",
       "      <td>[3-1]</td>\n",
       "      <td>0.0</td>\n",
       "      <td>0.000000</td>\n",
       "      <td>0.000000</td>\n",
       "      <td>0.000000</td>\n",
       "      <td>0.000000</td>\n",
       "      <td>0.000000</td>\n",
       "      <td>0.000000</td>\n",
       "      <td>0.00000</td>\n",
       "      <td>0.000000</td>\n",
       "      <td>0.000000</td>\n",
       "      <td>0.000000</td>\n",
       "      <td>0.509289</td>\n",
       "      <td>0.000000</td>\n",
       "      <td>0.274045</td>\n",
       "      <td>0.216667</td>\n",
       "    </tr>\n",
       "    <tr>\n",
       "      <th>10</th>\n",
       "      <td>[2-2]</td>\n",
       "      <td>0.0</td>\n",
       "      <td>0.000000</td>\n",
       "      <td>0.000000</td>\n",
       "      <td>0.000000</td>\n",
       "      <td>0.000000</td>\n",
       "      <td>0.000000</td>\n",
       "      <td>0.000000</td>\n",
       "      <td>0.00000</td>\n",
       "      <td>0.000000</td>\n",
       "      <td>0.000000</td>\n",
       "      <td>0.251695</td>\n",
       "      <td>0.294903</td>\n",
       "      <td>0.203519</td>\n",
       "      <td>0.000000</td>\n",
       "      <td>0.249884</td>\n",
       "    </tr>\n",
       "    <tr>\n",
       "      <th>11</th>\n",
       "      <td>[3-2]</td>\n",
       "      <td>0.0</td>\n",
       "      <td>0.000000</td>\n",
       "      <td>0.000000</td>\n",
       "      <td>0.000000</td>\n",
       "      <td>0.000000</td>\n",
       "      <td>0.000000</td>\n",
       "      <td>0.000000</td>\n",
       "      <td>0.00000</td>\n",
       "      <td>0.000000</td>\n",
       "      <td>0.000000</td>\n",
       "      <td>0.000000</td>\n",
       "      <td>0.286202</td>\n",
       "      <td>0.200561</td>\n",
       "      <td>0.226747</td>\n",
       "      <td>0.286491</td>\n",
       "    </tr>\n",
       "    <tr>\n",
       "      <th>12</th>\n",
       "      <td>OUT</td>\n",
       "      <td>0.0</td>\n",
       "      <td>0.000000</td>\n",
       "      <td>0.000000</td>\n",
       "      <td>0.000000</td>\n",
       "      <td>0.000000</td>\n",
       "      <td>0.000000</td>\n",
       "      <td>0.000000</td>\n",
       "      <td>0.00000</td>\n",
       "      <td>0.000000</td>\n",
       "      <td>0.000000</td>\n",
       "      <td>0.000000</td>\n",
       "      <td>0.000000</td>\n",
       "      <td>1.000000</td>\n",
       "      <td>0.000000</td>\n",
       "      <td>0.000000</td>\n",
       "    </tr>\n",
       "    <tr>\n",
       "      <th>13</th>\n",
       "      <td>WALK</td>\n",
       "      <td>0.0</td>\n",
       "      <td>0.000000</td>\n",
       "      <td>0.000000</td>\n",
       "      <td>0.000000</td>\n",
       "      <td>0.000000</td>\n",
       "      <td>0.000000</td>\n",
       "      <td>0.000000</td>\n",
       "      <td>0.00000</td>\n",
       "      <td>0.000000</td>\n",
       "      <td>0.000000</td>\n",
       "      <td>0.000000</td>\n",
       "      <td>0.000000</td>\n",
       "      <td>0.000000</td>\n",
       "      <td>1.000000</td>\n",
       "      <td>0.000000</td>\n",
       "    </tr>\n",
       "    <tr>\n",
       "      <th>14</th>\n",
       "      <td>PLAY</td>\n",
       "      <td>0.0</td>\n",
       "      <td>0.000000</td>\n",
       "      <td>0.000000</td>\n",
       "      <td>0.000000</td>\n",
       "      <td>0.000000</td>\n",
       "      <td>0.000000</td>\n",
       "      <td>0.000000</td>\n",
       "      <td>0.00000</td>\n",
       "      <td>0.000000</td>\n",
       "      <td>0.000000</td>\n",
       "      <td>0.000000</td>\n",
       "      <td>0.000000</td>\n",
       "      <td>0.000000</td>\n",
       "      <td>0.000000</td>\n",
       "      <td>1.000000</td>\n",
       "    </tr>\n",
       "  </tbody>\n",
       "</table>\n",
       "</div>"
      ],
      "text/plain": [
       "   Unnamed: 0  [0-0]     [1-0]     [0-1]     [2-0]     [1-1]     [0-2]  \\\n",
       "0       [0-0]    0.0  0.384742  0.505058  0.000000  0.000000  0.000000   \n",
       "1       [1-0]    0.0  0.000000  0.000000  0.339095  0.504149  0.000000   \n",
       "2       [0-1]    0.0  0.000000  0.000000  0.000000  0.399567  0.428437   \n",
       "3       [2-0]    0.0  0.000000  0.000000  0.000000  0.000000  0.000000   \n",
       "4       [1-1]    0.0  0.000000  0.000000  0.000000  0.000000  0.000000   \n",
       "5       [0-2]    0.0  0.000000  0.000000  0.000000  0.000000  0.191946   \n",
       "6       [3-0]    0.0  0.000000  0.000000  0.000000  0.000000  0.000000   \n",
       "7       [2-1]    0.0  0.000000  0.000000  0.000000  0.000000  0.000000   \n",
       "8       [1-2]    0.0  0.000000  0.000000  0.000000  0.000000  0.000000   \n",
       "9       [3-1]    0.0  0.000000  0.000000  0.000000  0.000000  0.000000   \n",
       "10      [2-2]    0.0  0.000000  0.000000  0.000000  0.000000  0.000000   \n",
       "11      [3-2]    0.0  0.000000  0.000000  0.000000  0.000000  0.000000   \n",
       "12        OUT    0.0  0.000000  0.000000  0.000000  0.000000  0.000000   \n",
       "13       WALK    0.0  0.000000  0.000000  0.000000  0.000000  0.000000   \n",
       "14       PLAY    0.0  0.000000  0.000000  0.000000  0.000000  0.000000   \n",
       "\n",
       "       [3-0]    [2-1]     [1-2]     [3-1]     [2-2]     [3-2]       OUT  \\\n",
       "0   0.000000  0.00000  0.000000  0.000000  0.000000  0.000000  0.000000   \n",
       "1   0.000000  0.00000  0.000000  0.000000  0.000000  0.000000  0.000000   \n",
       "2   0.000000  0.00000  0.000000  0.000000  0.000000  0.000000  0.000000   \n",
       "3   0.307915  0.52583  0.000000  0.000000  0.000000  0.000000  0.000000   \n",
       "4   0.000000  0.34207  0.457224  0.000000  0.000000  0.000000  0.000000   \n",
       "5   0.000000  0.00000  0.445687  0.000000  0.000000  0.000000  0.179771   \n",
       "6   0.000000  0.00000  0.000000  0.621682  0.000000  0.000000  0.000000   \n",
       "7   0.000000  0.00000  0.000000  0.293463  0.485840  0.000000  0.000000   \n",
       "8   0.000000  0.00000  0.219307  0.000000  0.376137  0.000000  0.193883   \n",
       "9   0.000000  0.00000  0.000000  0.000000  0.000000  0.509289  0.000000   \n",
       "10  0.000000  0.00000  0.000000  0.000000  0.251695  0.294903  0.203519   \n",
       "11  0.000000  0.00000  0.000000  0.000000  0.000000  0.286202  0.200561   \n",
       "12  0.000000  0.00000  0.000000  0.000000  0.000000  0.000000  1.000000   \n",
       "13  0.000000  0.00000  0.000000  0.000000  0.000000  0.000000  0.000000   \n",
       "14  0.000000  0.00000  0.000000  0.000000  0.000000  0.000000  0.000000   \n",
       "\n",
       "        WALK      PLAY  \n",
       "0   0.000000  0.110200  \n",
       "1   0.000000  0.156756  \n",
       "2   0.000000  0.171996  \n",
       "3   0.000000  0.166255  \n",
       "4   0.000000  0.200706  \n",
       "5   0.000000  0.182596  \n",
       "6   0.328423  0.049896  \n",
       "7   0.000000  0.220697  \n",
       "8   0.000000  0.210672  \n",
       "9   0.274045  0.216667  \n",
       "10  0.000000  0.249884  \n",
       "11  0.226747  0.286491  \n",
       "12  0.000000  0.000000  \n",
       "13  1.000000  0.000000  \n",
       "14  0.000000  1.000000  "
      ]
     },
     "execution_count": 195,
     "metadata": {},
     "output_type": "execute_result"
    }
   ],
   "source": [
    "df"
   ]
  }
 ],
 "metadata": {
  "kernelspec": {
   "display_name": "Python 3",
   "language": "python",
   "name": "python3"
  },
  "language_info": {
   "codemirror_mode": {
    "name": "ipython",
    "version": 3
   },
   "file_extension": ".py",
   "mimetype": "text/x-python",
   "name": "python",
   "nbconvert_exporter": "python",
   "pygments_lexer": "ipython3",
   "version": "3.8.3"
  }
 },
 "nbformat": 4,
 "nbformat_minor": 2
}
